{
 "cells": [
  {
   "cell_type": "code",
   "execution_count": 1,
   "id": "62537932",
   "metadata": {
    "_cell_guid": "b1076dfc-b9ad-4769-8c92-a6c4dae69d19",
    "_uuid": "8f2839f25d086af736a60e9eeb907d3b93b6e0e5",
    "execution": {
     "iopub.execute_input": "2024-01-30T13:10:56.848862Z",
     "iopub.status.busy": "2024-01-30T13:10:56.848378Z",
     "iopub.status.idle": "2024-01-30T13:10:59.511654Z",
     "shell.execute_reply": "2024-01-30T13:10:59.510388Z"
    },
    "papermill": {
     "duration": 2.679763,
     "end_time": "2024-01-30T13:10:59.513685",
     "exception": false,
     "start_time": "2024-01-30T13:10:56.833922",
     "status": "completed"
    },
    "tags": []
   },
   "outputs": [
    {
     "data": {
      "text/html": [
       "        <script type=\"text/javascript\">\n",
       "        window.PlotlyConfig = {MathJaxConfig: 'local'};\n",
       "        if (window.MathJax && window.MathJax.Hub && window.MathJax.Hub.Config) {window.MathJax.Hub.Config({SVG: {font: \"STIX-Web\"}});}\n",
       "        if (typeof require !== 'undefined') {\n",
       "        require.undef(\"plotly\");\n",
       "        requirejs.config({\n",
       "            paths: {\n",
       "                'plotly': ['https://cdn.plot.ly/plotly-2.25.2.min']\n",
       "            }\n",
       "        });\n",
       "        require(['plotly'], function(Plotly) {\n",
       "            window._Plotly = Plotly;\n",
       "        });\n",
       "        }\n",
       "        </script>\n",
       "        "
      ]
     },
     "metadata": {},
     "output_type": "display_data"
    },
    {
     "name": "stdout",
     "output_type": "stream",
     "text": [
      "/kaggle/input/titanic/train.csv\n",
      "/kaggle/input/titanic/test.csv\n",
      "/kaggle/input/titanic/gender_submission.csv\n"
     ]
    }
   ],
   "source": [
    "# This Python 3 environment comes with many helpful analytics libraries installed\n",
    "# It is defined by the kaggle/python Docker image: https://github.com/kaggle/docker-python\n",
    "# For example, here's several helpful packages to load\n",
    "\n",
    "import numpy as np # linear algebra\n",
    "import pandas as pd # data processing, CSV file I/O (e.g. pd.read_csv)\n",
    "import re\n",
    "import sklearn\n",
    "import xgboost as xgb\n",
    "import seaborn as sns\n",
    "import matplotlib.pyplot as plt\n",
    "%matplotlib inline\n",
    "import plotly.offline as py\n",
    "py.init_notebook_mode(connected=True)\n",
    "import plotly.graph_objs as go\n",
    "import plotly.tools as tls\n",
    "import missingno as msno\n",
    "from pandas.plotting import scatter_matrix\n",
    "import warnings\n",
    "warnings.filterwarnings('ignore')\n",
    "\n",
    "# Going to use these 5 base models for the stacking\n",
    "from sklearn.ensemble import (RandomForestClassifier, AdaBoostClassifier, \n",
    "                              GradientBoostingClassifier, ExtraTreesClassifier)\n",
    "\n",
    "# machine learning\n",
    "from sklearn.linear_model import LogisticRegression\n",
    "from sklearn.svm import SVC, LinearSVC\n",
    "from sklearn.ensemble import RandomForestClassifier\n",
    "from sklearn.neighbors import KNeighborsClassifier\n",
    "from sklearn.naive_bayes import GaussianNB\n",
    "from sklearn.linear_model import Perceptron\n",
    "from sklearn.linear_model import SGDClassifier\n",
    "from sklearn.tree import DecisionTreeClassifier\n",
    "\n",
    "from sklearn.svm import SVC\n",
    "import os\n",
    "for dirname, _, filenames in os.walk('/kaggle/input'):\n",
    "    for filename in filenames:\n",
    "        print(os.path.join(dirname, filename))\n",
    "\n",
    "# You can write up to 20GB to the current directory (/kaggle/working/) that gets preserved as output when you create a version using \"Save & Run All\" \n",
    "# You can also write temporary files to /kaggle/temp/, but they won't be saved outside of the current session"
   ]
  },
  {
   "cell_type": "code",
   "execution_count": 2,
   "id": "cc5173a5",
   "metadata": {
    "_kg_hide-input": false,
    "execution": {
     "iopub.execute_input": "2024-01-30T13:10:59.540496Z",
     "iopub.status.busy": "2024-01-30T13:10:59.539936Z",
     "iopub.status.idle": "2024-01-30T13:10:59.598005Z",
     "shell.execute_reply": "2024-01-30T13:10:59.597117Z"
    },
    "papermill": {
     "duration": 0.073365,
     "end_time": "2024-01-30T13:10:59.599726",
     "exception": false,
     "start_time": "2024-01-30T13:10:59.526361",
     "status": "completed"
    },
    "tags": []
   },
   "outputs": [
    {
     "data": {
      "text/html": [
       "<div>\n",
       "<style scoped>\n",
       "    .dataframe tbody tr th:only-of-type {\n",
       "        vertical-align: middle;\n",
       "    }\n",
       "\n",
       "    .dataframe tbody tr th {\n",
       "        vertical-align: top;\n",
       "    }\n",
       "\n",
       "    .dataframe thead th {\n",
       "        text-align: right;\n",
       "    }\n",
       "</style>\n",
       "<table border=\"1\" class=\"dataframe\">\n",
       "  <thead>\n",
       "    <tr style=\"text-align: right;\">\n",
       "      <th></th>\n",
       "      <th>PassengerId</th>\n",
       "      <th>Survived</th>\n",
       "      <th>Pclass</th>\n",
       "      <th>Name</th>\n",
       "      <th>Sex</th>\n",
       "      <th>Age</th>\n",
       "      <th>SibSp</th>\n",
       "      <th>Parch</th>\n",
       "      <th>Ticket</th>\n",
       "      <th>Fare</th>\n",
       "      <th>Cabin</th>\n",
       "      <th>Embarked</th>\n",
       "    </tr>\n",
       "  </thead>\n",
       "  <tbody>\n",
       "    <tr>\n",
       "      <th>0</th>\n",
       "      <td>1</td>\n",
       "      <td>0</td>\n",
       "      <td>3</td>\n",
       "      <td>Braund, Mr. Owen Harris</td>\n",
       "      <td>male</td>\n",
       "      <td>22.0</td>\n",
       "      <td>1</td>\n",
       "      <td>0</td>\n",
       "      <td>A/5 21171</td>\n",
       "      <td>7.2500</td>\n",
       "      <td>NaN</td>\n",
       "      <td>S</td>\n",
       "    </tr>\n",
       "    <tr>\n",
       "      <th>1</th>\n",
       "      <td>2</td>\n",
       "      <td>1</td>\n",
       "      <td>1</td>\n",
       "      <td>Cumings, Mrs. John Bradley (Florence Briggs Th...</td>\n",
       "      <td>female</td>\n",
       "      <td>38.0</td>\n",
       "      <td>1</td>\n",
       "      <td>0</td>\n",
       "      <td>PC 17599</td>\n",
       "      <td>71.2833</td>\n",
       "      <td>C85</td>\n",
       "      <td>C</td>\n",
       "    </tr>\n",
       "    <tr>\n",
       "      <th>2</th>\n",
       "      <td>3</td>\n",
       "      <td>1</td>\n",
       "      <td>3</td>\n",
       "      <td>Heikkinen, Miss. Laina</td>\n",
       "      <td>female</td>\n",
       "      <td>26.0</td>\n",
       "      <td>0</td>\n",
       "      <td>0</td>\n",
       "      <td>STON/O2. 3101282</td>\n",
       "      <td>7.9250</td>\n",
       "      <td>NaN</td>\n",
       "      <td>S</td>\n",
       "    </tr>\n",
       "  </tbody>\n",
       "</table>\n",
       "</div>"
      ],
      "text/plain": [
       "   PassengerId  Survived  Pclass  \\\n",
       "0            1         0       3   \n",
       "1            2         1       1   \n",
       "2            3         1       3   \n",
       "\n",
       "                                                Name     Sex   Age  SibSp  \\\n",
       "0                            Braund, Mr. Owen Harris    male  22.0      1   \n",
       "1  Cumings, Mrs. John Bradley (Florence Briggs Th...  female  38.0      1   \n",
       "2                             Heikkinen, Miss. Laina  female  26.0      0   \n",
       "\n",
       "   Parch            Ticket     Fare Cabin Embarked  \n",
       "0      0         A/5 21171   7.2500   NaN        S  \n",
       "1      0          PC 17599  71.2833   C85        C  \n",
       "2      0  STON/O2. 3101282   7.9250   NaN        S  "
      ]
     },
     "execution_count": 2,
     "metadata": {},
     "output_type": "execute_result"
    }
   ],
   "source": [
    "train=pd.read_csv('../input/titanic/train.csv')\n",
    "test=pd.read_csv('../input/titanic/test.csv')\n",
    "\n",
    "train.head(3)"
   ]
  },
  {
   "cell_type": "markdown",
   "id": "45fa6828",
   "metadata": {
    "papermill": {
     "duration": 0.012951,
     "end_time": "2024-01-30T13:10:59.625032",
     "exception": false,
     "start_time": "2024-01-30T13:10:59.612081",
     "status": "completed"
    },
    "tags": []
   },
   "source": [
    "# 1. Data Description\n",
    "\n",
    "> Variable\tDefinition\tKey\n",
    "> survival\tSurvival\t0 = No, 1 = Yes\n",
    "> pclass\tTicket class\t1 = 1st, 2 = 2nd, 3 = 3rd\n",
    "> sex\tSex\t\n",
    "> Age\tAge in years\t\n",
    "> sibsp\t# of siblings / spouses aboard the Titanic\t\n",
    "> parch\t# of parents / children aboard the Titanic\t\n",
    "> ticket\tTicket number\t\n",
    "> fare\tPassenger fare\t\n",
    "> cabin\tCabin number\t\n",
    "> embarked\tPort of Embarkation\tC = Cherbourg, Q = Queenstown, S = Southampton"
   ]
  },
  {
   "cell_type": "markdown",
   "id": "3aa9dfde",
   "metadata": {
    "papermill": {
     "duration": 0.013179,
     "end_time": "2024-01-30T13:10:59.653500",
     "exception": false,
     "start_time": "2024-01-30T13:10:59.640321",
     "status": "completed"
    },
    "tags": []
   },
   "source": [
    "# 2. Check Missing Values & Distribution"
   ]
  },
  {
   "cell_type": "code",
   "execution_count": 3,
   "id": "af408550",
   "metadata": {
    "execution": {
     "iopub.execute_input": "2024-01-30T13:10:59.680185Z",
     "iopub.status.busy": "2024-01-30T13:10:59.679828Z",
     "iopub.status.idle": "2024-01-30T13:11:00.040092Z",
     "shell.execute_reply": "2024-01-30T13:11:00.039364Z"
    },
    "papermill": {
     "duration": 0.376741,
     "end_time": "2024-01-30T13:11:00.042909",
     "exception": false,
     "start_time": "2024-01-30T13:10:59.666168",
     "status": "completed"
    },
    "tags": []
   },
   "outputs": [
    {
     "data": {
      "image/png": "[encoded data removed]",
      "text/plain": [
       "<Figure size 1000x600 with 2 Axes>"
      ]
     },
     "metadata": {},
     "output_type": "display_data"
    }
   ],
   "source": [
    "# # Create a heatmap of null values\n",
    "# plt.figure(figsize=(10, 6))\n",
    "# sns.heatmap(train.isnull(), cmap='viridis', cbar=False, yticklabels=False)\n",
    "# plt.title('Null Values Heatmap')\n",
    "# plt.show()\n",
    "# Visualize null values using missingno matrix\n",
    "msno.matrix(train, figsize=(10, 6))\n",
    "plt.title('Null Values Matrix')\n",
    "plt.show()"
   ]
  },
  {
   "cell_type": "code",
   "execution_count": 4,
   "id": "83a683e6",
   "metadata": {
    "execution": {
     "iopub.execute_input": "2024-01-30T13:11:00.071117Z",
     "iopub.status.busy": "2024-01-30T13:11:00.070726Z",
     "iopub.status.idle": "2024-01-30T13:11:00.097233Z",
     "shell.execute_reply": "2024-01-30T13:11:00.096645Z"
    },
    "papermill": {
     "duration": 0.04289,
     "end_time": "2024-01-30T13:11:00.099372",
     "exception": false,
     "start_time": "2024-01-30T13:11:00.056482",
     "status": "completed"
    },
    "tags": []
   },
   "outputs": [
    {
     "name": "stdout",
     "output_type": "stream",
     "text": [
      "<class 'pandas.core.frame.DataFrame'>\n",
      "RangeIndex: 891 entries, 0 to 890\n",
      "Data columns (total 12 columns):\n",
      " #   Column       Non-Null Count  Dtype  \n",
      "---  ------       --------------  -----  \n",
      " 0   PassengerId  891 non-null    int64  \n",
      " 1   Survived     891 non-null    int64  \n",
      " 2   Pclass       891 non-null    int64  \n",
      " 3   Name         891 non-null    object \n",
      " 4   Sex          891 non-null    object \n",
      " 5   Age          714 non-null    float64\n",
      " 6   SibSp        891 non-null    int64  \n",
      " 7   Parch        891 non-null    int64  \n",
      " 8   Ticket       891 non-null    object \n",
      " 9   Fare         891 non-null    float64\n",
      " 10  Cabin        204 non-null    object \n",
      " 11  Embarked     889 non-null    object \n",
      "dtypes: float64(2), int64(5), object(5)\n",
      "memory usage: 83.7+ KB\n",
      "None\n",
      "_+_+_+_&*_*_*_*_*_\n",
      "<class 'pandas.core.frame.DataFrame'>\n",
      "RangeIndex: 418 entries, 0 to 417\n",
      "Data columns (total 11 columns):\n",
      " #   Column       Non-Null Count  Dtype  \n",
      "---  ------       --------------  -----  \n",
      " 0   PassengerId  418 non-null    int64  \n",
      " 1   Pclass       418 non-null    int64  \n",
      " 2   Name         418 non-null    object \n",
      " 3   Sex          418 non-null    object \n",
      " 4   Age          332 non-null    float64\n",
      " 5   SibSp        418 non-null    int64  \n",
      " 6   Parch        418 non-null    int64  \n",
      " 7   Ticket       418 non-null    object \n",
      " 8   Fare         417 non-null    float64\n",
      " 9   Cabin        91 non-null     object \n",
      " 10  Embarked     418 non-null    object \n",
      "dtypes: float64(2), int64(4), object(5)\n",
      "memory usage: 36.0+ KB\n",
      "None\n"
     ]
    }
   ],
   "source": [
    "print(train.info())\n",
    "print('_+_+_+_&*_*_*_*_*_')\n",
    "print(test.info())"
   ]
  },
  {
   "cell_type": "code",
   "execution_count": 5,
   "id": "f60a5e7f",
   "metadata": {
    "execution": {
     "iopub.execute_input": "2024-01-30T13:11:00.128557Z",
     "iopub.status.busy": "2024-01-30T13:11:00.127908Z",
     "iopub.status.idle": "2024-01-30T13:11:00.428379Z",
     "shell.execute_reply": "2024-01-30T13:11:00.427395Z"
    },
    "papermill": {
     "duration": 0.31738,
     "end_time": "2024-01-30T13:11:00.430577",
     "exception": false,
     "start_time": "2024-01-30T13:11:00.113197",
     "status": "completed"
    },
    "tags": []
   },
   "outputs": [
    {
     "data": {
      "image/png": "[encoded data removed]",
      "text/plain": [
       "<Figure size 1000x600 with 1 Axes>"
      ]
     },
     "metadata": {},
     "output_type": "display_data"
    }
   ],
   "source": [
    "# Visualize the distribution of 'Age'\n",
    "plt.figure(figsize=(10, 6))\n",
    "sns.histplot(train['Age'].dropna(), bins=30, kde=True, color='blue')\n",
    "plt.title('Distribution of Age')\n",
    "plt.xlabel('Age')\n",
    "plt.ylabel('Count')\n",
    "plt.show()"
   ]
  },
  {
   "cell_type": "code",
   "execution_count": 6,
   "id": "4ce3daa3",
   "metadata": {
    "execution": {
     "iopub.execute_input": "2024-01-30T13:11:00.460357Z",
     "iopub.status.busy": "2024-01-30T13:11:00.460001Z",
     "iopub.status.idle": "2024-01-30T13:11:00.967133Z",
     "shell.execute_reply": "2024-01-30T13:11:00.966281Z"
    },
    "papermill": {
     "duration": 0.524315,
     "end_time": "2024-01-30T13:11:00.968855",
     "exception": false,
     "start_time": "2024-01-30T13:11:00.444540",
     "status": "completed"
    },
    "tags": []
   },
   "outputs": [
    {
     "data": {
      "text/plain": [
       "<seaborn.axisgrid.FacetGrid at 0x7d0f48bf6740>"
      ]
     },
     "execution_count": 6,
     "metadata": {},
     "output_type": "execute_result"
    },
    {
     "data": {
      "image/png": "[encoded data removed]",
      "text/plain": [
       "<Figure size 600x300 with 2 Axes>"
      ]
     },
     "metadata": {},
     "output_type": "display_data"
    }
   ],
   "source": [
    "# Visualize the distribution of 'Age'\n",
    "g = sns.FacetGrid(train, col='Survived')\n",
    "g.map(plt.hist, 'Age', bins=20)"
   ]
  },
  {
   "cell_type": "code",
   "execution_count": 7,
   "id": "b5bd258a",
   "metadata": {
    "execution": {
     "iopub.execute_input": "2024-01-30T13:11:01.001057Z",
     "iopub.status.busy": "2024-01-30T13:11:01.000017Z",
     "iopub.status.idle": "2024-01-30T13:11:01.169441Z",
     "shell.execute_reply": "2024-01-30T13:11:01.168551Z"
    },
    "papermill": {
     "duration": 0.188196,
     "end_time": "2024-01-30T13:11:01.171373",
     "exception": false,
     "start_time": "2024-01-30T13:11:00.983177",
     "status": "completed"
    },
    "tags": []
   },
   "outputs": [
    {
     "data": {
      "image/png": "[encoded data removed]",
      "text/plain": [
       "<Figure size 600x400 with 1 Axes>"
      ]
     },
     "metadata": {},
     "output_type": "display_data"
    }
   ],
   "source": [
    "# Visualize the survival count\n",
    "plt.figure(figsize=(6, 4))\n",
    "sns.countplot(x='Survived', data=train, palette='Set1')\n",
    "plt.title('Survival Count')\n",
    "plt.xlabel('Survived')\n",
    "plt.ylabel('Count')\n",
    "plt.show()"
   ]
  },
  {
   "cell_type": "code",
   "execution_count": 8,
   "id": "a7732968",
   "metadata": {
    "execution": {
     "iopub.execute_input": "2024-01-30T13:11:01.290756Z",
     "iopub.status.busy": "2024-01-30T13:11:01.289764Z",
     "iopub.status.idle": "2024-01-30T13:11:03.437399Z",
     "shell.execute_reply": "2024-01-30T13:11:03.436490Z"
    },
    "papermill": {
     "duration": 2.253117,
     "end_time": "2024-01-30T13:11:03.439131",
     "exception": false,
     "start_time": "2024-01-30T13:11:01.186014",
     "status": "completed"
    },
    "tags": []
   },
   "outputs": [
    {
     "data": {
      "image/png": "[encoded data removed]",
      "text/plain": [
       "<Figure size 715.111x660 with 6 Axes>"
      ]
     },
     "metadata": {},
     "output_type": "display_data"
    }
   ],
   "source": [
    "grid = sns.FacetGrid(train, col='Survived', row='Pclass', height=2.2, aspect=1.6)\n",
    "grid.map(plt.hist, 'Age', alpha=.5, bins=20)\n",
    "grid.add_legend();"
   ]
  },
  {
   "cell_type": "code",
   "execution_count": 9,
   "id": "6b3c4b7e",
   "metadata": {
    "execution": {
     "iopub.execute_input": "2024-01-30T13:11:03.469764Z",
     "iopub.status.busy": "2024-01-30T13:11:03.469378Z",
     "iopub.status.idle": "2024-01-30T13:11:03.628001Z",
     "shell.execute_reply": "2024-01-30T13:11:03.627186Z"
    },
    "papermill": {
     "duration": 0.175997,
     "end_time": "2024-01-30T13:11:03.629913",
     "exception": false,
     "start_time": "2024-01-30T13:11:03.453916",
     "status": "completed"
    },
    "tags": []
   },
   "outputs": [
    {
     "data": {
      "image/png": "[encoded data removed]",
      "text/plain": [
       "<Figure size 800x600 with 1 Axes>"
      ]
     },
     "metadata": {},
     "output_type": "display_data"
    }
   ],
   "source": [
    "# Visualize the count of passengers in each Pclass\n",
    "plt.figure(figsize=(8, 6))\n",
    "sns.countplot(x='Pclass', data=train, palette='viridis')\n",
    "plt.title('Passenger Count in Each Pclass')\n",
    "plt.xlabel('Pclass')\n",
    "plt.ylabel('Count')\n",
    "plt.show()"
   ]
  },
  {
   "cell_type": "code",
   "execution_count": 10,
   "id": "3ea4290f",
   "metadata": {
    "execution": {
     "iopub.execute_input": "2024-01-30T13:11:03.661402Z",
     "iopub.status.busy": "2024-01-30T13:11:03.661079Z",
     "iopub.status.idle": "2024-01-30T13:11:04.981026Z",
     "shell.execute_reply": "2024-01-30T13:11:04.979846Z"
    },
    "papermill": {
     "duration": 1.338386,
     "end_time": "2024-01-30T13:11:04.983087",
     "exception": false,
     "start_time": "2024-01-30T13:11:03.644701",
     "status": "completed"
    },
    "tags": []
   },
   "outputs": [
    {
     "data": {
      "text/plain": [
       "<seaborn.axisgrid.FacetGrid at 0x7d0f40f9d480>"
      ]
     },
     "execution_count": 10,
     "metadata": {},
     "output_type": "execute_result"
    },
    {
     "data": {
      "image/png": "[encoded data removed]",
      "text/plain": [
       "<Figure size 450x660 with 3 Axes>"
      ]
     },
     "metadata": {},
     "output_type": "display_data"
    }
   ],
   "source": [
    "grid = sns.FacetGrid(train, row='Embarked', height=2.2, aspect=1.6)\n",
    "grid.map(sns.pointplot, 'Pclass', 'Survived', 'Sex', palette='deep')\n",
    "grid.add_legend()"
   ]
  },
  {
   "cell_type": "code",
   "execution_count": 11,
   "id": "19db6c80",
   "metadata": {
    "execution": {
     "iopub.execute_input": "2024-01-30T13:11:05.017763Z",
     "iopub.status.busy": "2024-01-30T13:11:05.017445Z",
     "iopub.status.idle": "2024-01-30T13:11:06.380983Z",
     "shell.execute_reply": "2024-01-30T13:11:06.379558Z"
    },
    "papermill": {
     "duration": 1.38332,
     "end_time": "2024-01-30T13:11:06.383240",
     "exception": false,
     "start_time": "2024-01-30T13:11:04.999920",
     "status": "completed"
    },
    "tags": []
   },
   "outputs": [
    {
     "data": {
      "text/plain": [
       "<seaborn.axisgrid.FacetGrid at 0x7d0f40ef4e80>"
      ]
     },
     "execution_count": 11,
     "metadata": {},
     "output_type": "execute_result"
    },
    {
     "data": {
      "image/png": "[encoded data removed]",
      "text/plain": [
       "<Figure size 715.111x660 with 6 Axes>"
      ]
     },
     "metadata": {},
     "output_type": "display_data"
    }
   ],
   "source": [
    "grid = sns.FacetGrid(train, row='Embarked', col='Survived', height=2.2, aspect=1.6)\n",
    "grid.map(sns.barplot, 'Sex', 'Fare', alpha=.5, ci=None)\n",
    "grid.add_legend()"
   ]
  },
  {
   "cell_type": "code",
   "execution_count": 12,
   "id": "1a139b2a",
   "metadata": {
    "execution": {
     "iopub.execute_input": "2024-01-30T13:11:06.417166Z",
     "iopub.status.busy": "2024-01-30T13:11:06.416807Z",
     "iopub.status.idle": "2024-01-30T13:11:06.850694Z",
     "shell.execute_reply": "2024-01-30T13:11:06.849827Z"
    },
    "papermill": {
     "duration": 0.453429,
     "end_time": "2024-01-30T13:11:06.852885",
     "exception": false,
     "start_time": "2024-01-30T13:11:06.399456",
     "status": "completed"
    },
    "tags": []
   },
   "outputs": [
    {
     "data": {
      "text/plain": [
       "<Axes: title={'center': 'Correlation of Features'}>"
      ]
     },
     "execution_count": 12,
     "metadata": {},
     "output_type": "execute_result"
    },
    {
     "data": {
      "image/png": "[encoded data removed]",
      "text/plain": [
       "<Figure size 1400x1200 with 2 Axes>"
      ]
     },
     "metadata": {},
     "output_type": "display_data"
    }
   ],
   "source": [
    "# Visualize the correlation between numeric features\n",
    "numeric_columns = train.select_dtypes(include=['int64', 'float64'])\n",
    "colormap = plt.cm.RdBu\n",
    "plt.figure(figsize=(14,12))\n",
    "plt.title('Correlation of Features', y=1.05, size=15)\n",
    "sns.heatmap(numeric_columns.corr(),linewidths=0.1,vmax=1.0, \n",
    "            square=True, cmap=colormap, linecolor='white', annot=True)"
   ]
  },
  {
   "cell_type": "code",
   "execution_count": 13,
   "id": "77a50a1c",
   "metadata": {
    "execution": {
     "iopub.execute_input": "2024-01-30T13:11:06.888714Z",
     "iopub.status.busy": "2024-01-30T13:11:06.888333Z",
     "iopub.status.idle": "2024-01-30T13:11:09.551237Z",
     "shell.execute_reply": "2024-01-30T13:11:09.548638Z"
    },
    "papermill": {
     "duration": 2.682981,
     "end_time": "2024-01-30T13:11:09.553334",
     "exception": false,
     "start_time": "2024-01-30T13:11:06.870353",
     "status": "completed"
    },
    "tags": []
   },
   "outputs": [
    {
     "data": {
      "image/png": "[encoded data removed]",
      "text/plain": [
       "<Figure size 600x600 with 49 Axes>"
      ]
     },
     "metadata": {},
     "output_type": "display_data"
    }
   ],
   "source": [
    "scatter_matrix(train, alpha=0.2, figsize=(6, 6), diagonal='kde')\n",
    "plt.show()"
   ]
  },
  {
   "cell_type": "markdown",
   "id": "c9f106b4",
   "metadata": {
    "papermill": {
     "duration": 0.018976,
     "end_time": "2024-01-30T13:11:09.592139",
     "exception": false,
     "start_time": "2024-01-30T13:11:09.573163",
     "status": "completed"
    },
    "tags": []
   },
   "source": [
    "# 3.Check values towards Survival"
   ]
  },
  {
   "cell_type": "code",
   "execution_count": 14,
   "id": "54fff140",
   "metadata": {
    "execution": {
     "iopub.execute_input": "2024-01-30T13:11:09.633074Z",
     "iopub.status.busy": "2024-01-30T13:11:09.632107Z",
     "iopub.status.idle": "2024-01-30T13:11:09.655753Z",
     "shell.execute_reply": "2024-01-30T13:11:09.654926Z"
    },
    "papermill": {
     "duration": 0.045993,
     "end_time": "2024-01-30T13:11:09.657558",
     "exception": false,
     "start_time": "2024-01-30T13:11:09.611565",
     "status": "completed"
    },
    "tags": []
   },
   "outputs": [
    {
     "data": {
      "text/html": [
       "<div>\n",
       "<style scoped>\n",
       "    .dataframe tbody tr th:only-of-type {\n",
       "        vertical-align: middle;\n",
       "    }\n",
       "\n",
       "    .dataframe tbody tr th {\n",
       "        vertical-align: top;\n",
       "    }\n",
       "\n",
       "    .dataframe thead th {\n",
       "        text-align: right;\n",
       "    }\n",
       "</style>\n",
       "<table border=\"1\" class=\"dataframe\">\n",
       "  <thead>\n",
       "    <tr style=\"text-align: right;\">\n",
       "      <th></th>\n",
       "      <th>PassengerId</th>\n",
       "      <th>Survived</th>\n",
       "      <th>Pclass</th>\n",
       "      <th>Age</th>\n",
       "      <th>SibSp</th>\n",
       "      <th>Parch</th>\n",
       "      <th>Fare</th>\n",
       "    </tr>\n",
       "  </thead>\n",
       "  <tbody>\n",
       "    <tr>\n",
       "      <th>count</th>\n",
       "      <td>891.000000</td>\n",
       "      <td>891.000000</td>\n",
       "      <td>891.000000</td>\n",
       "      <td>714.000000</td>\n",
       "      <td>891.000000</td>\n",
       "      <td>891.000000</td>\n",
       "      <td>891.000000</td>\n",
       "    </tr>\n",
       "    <tr>\n",
       "      <th>mean</th>\n",
       "      <td>446.000000</td>\n",
       "      <td>0.383838</td>\n",
       "      <td>2.308642</td>\n",
       "      <td>29.699118</td>\n",
       "      <td>0.523008</td>\n",
       "      <td>0.381594</td>\n",
       "      <td>32.204208</td>\n",
       "    </tr>\n",
       "    <tr>\n",
       "      <th>std</th>\n",
       "      <td>257.353842</td>\n",
       "      <td>0.486592</td>\n",
       "      <td>0.836071</td>\n",
       "      <td>14.526497</td>\n",
       "      <td>1.102743</td>\n",
       "      <td>0.806057</td>\n",
       "      <td>49.693429</td>\n",
       "    </tr>\n",
       "    <tr>\n",
       "      <th>min</th>\n",
       "      <td>1.000000</td>\n",
       "      <td>0.000000</td>\n",
       "      <td>1.000000</td>\n",
       "      <td>0.420000</td>\n",
       "      <td>0.000000</td>\n",
       "      <td>0.000000</td>\n",
       "      <td>0.000000</td>\n",
       "    </tr>\n",
       "    <tr>\n",
       "      <th>25%</th>\n",
       "      <td>223.500000</td>\n",
       "      <td>0.000000</td>\n",
       "      <td>2.000000</td>\n",
       "      <td>20.125000</td>\n",
       "      <td>0.000000</td>\n",
       "      <td>0.000000</td>\n",
       "      <td>7.910400</td>\n",
       "    </tr>\n",
       "    <tr>\n",
       "      <th>50%</th>\n",
       "      <td>446.000000</td>\n",
       "      <td>0.000000</td>\n",
       "      <td>3.000000</td>\n",
       "      <td>28.000000</td>\n",
       "      <td>0.000000</td>\n",
       "      <td>0.000000</td>\n",
       "      <td>14.454200</td>\n",
       "    </tr>\n",
       "    <tr>\n",
       "      <th>75%</th>\n",
       "      <td>668.500000</td>\n",
       "      <td>1.000000</td>\n",
       "      <td>3.000000</td>\n",
       "      <td>38.000000</td>\n",
       "      <td>1.000000</td>\n",
       "      <td>0.000000</td>\n",
       "      <td>31.000000</td>\n",
       "    </tr>\n",
       "    <tr>\n",
       "      <th>max</th>\n",
       "      <td>891.000000</td>\n",
       "      <td>1.000000</td>\n",
       "      <td>3.000000</td>\n",
       "      <td>80.000000</td>\n",
       "      <td>8.000000</td>\n",
       "      <td>6.000000</td>\n",
       "      <td>512.329200</td>\n",
       "    </tr>\n",
       "  </tbody>\n",
       "</table>\n",
       "</div>"
      ],
      "text/plain": [
       "       PassengerId    Survived      Pclass         Age       SibSp  \\\n",
       "count   891.000000  891.000000  891.000000  714.000000  891.000000   \n",
       "mean    446.000000    0.383838    2.308642   29.699118    0.523008   \n",
       "std     257.353842    0.486592    0.836071   14.526497    1.102743   \n",
       "min       1.000000    0.000000    1.000000    0.420000    0.000000   \n",
       "25%     223.500000    0.000000    2.000000   20.125000    0.000000   \n",
       "50%     446.000000    0.000000    3.000000   28.000000    0.000000   \n",
       "75%     668.500000    1.000000    3.000000   38.000000    1.000000   \n",
       "max     891.000000    1.000000    3.000000   80.000000    8.000000   \n",
       "\n",
       "            Parch        Fare  \n",
       "count  891.000000  891.000000  \n",
       "mean     0.381594   32.204208  \n",
       "std      0.806057   49.693429  \n",
       "min      0.000000    0.000000  \n",
       "25%      0.000000    7.910400  \n",
       "50%      0.000000   14.454200  \n",
       "75%      0.000000   31.000000  \n",
       "max      6.000000  512.329200  "
      ]
     },
     "execution_count": 14,
     "metadata": {},
     "output_type": "execute_result"
    }
   ],
   "source": [
    "train.describe()"
   ]
  },
  {
   "cell_type": "code",
   "execution_count": 15,
   "id": "5726d9a3",
   "metadata": {
    "execution": {
     "iopub.execute_input": "2024-01-30T13:11:09.699642Z",
     "iopub.status.busy": "2024-01-30T13:11:09.699269Z",
     "iopub.status.idle": "2024-01-30T13:11:09.715074Z",
     "shell.execute_reply": "2024-01-30T13:11:09.714258Z"
    },
    "papermill": {
     "duration": 0.038861,
     "end_time": "2024-01-30T13:11:09.716807",
     "exception": false,
     "start_time": "2024-01-30T13:11:09.677946",
     "status": "completed"
    },
    "tags": []
   },
   "outputs": [
    {
     "data": {
      "text/html": [
       "<div>\n",
       "<style scoped>\n",
       "    .dataframe tbody tr th:only-of-type {\n",
       "        vertical-align: middle;\n",
       "    }\n",
       "\n",
       "    .dataframe tbody tr th {\n",
       "        vertical-align: top;\n",
       "    }\n",
       "\n",
       "    .dataframe thead th {\n",
       "        text-align: right;\n",
       "    }\n",
       "</style>\n",
       "<table border=\"1\" class=\"dataframe\">\n",
       "  <thead>\n",
       "    <tr style=\"text-align: right;\">\n",
       "      <th></th>\n",
       "      <th>Pclass</th>\n",
       "      <th>Survived</th>\n",
       "    </tr>\n",
       "  </thead>\n",
       "  <tbody>\n",
       "    <tr>\n",
       "      <th>0</th>\n",
       "      <td>1</td>\n",
       "      <td>0.629630</td>\n",
       "    </tr>\n",
       "    <tr>\n",
       "      <th>1</th>\n",
       "      <td>2</td>\n",
       "      <td>0.472826</td>\n",
       "    </tr>\n",
       "    <tr>\n",
       "      <th>2</th>\n",
       "      <td>3</td>\n",
       "      <td>0.242363</td>\n",
       "    </tr>\n",
       "  </tbody>\n",
       "</table>\n",
       "</div>"
      ],
      "text/plain": [
       "   Pclass  Survived\n",
       "0       1  0.629630\n",
       "1       2  0.472826\n",
       "2       3  0.242363"
      ]
     },
     "execution_count": 15,
     "metadata": {},
     "output_type": "execute_result"
    }
   ],
   "source": [
    "train[['Pclass', 'Survived']].groupby(['Pclass'], as_index=False).mean().sort_values(by='Survived', ascending=False)"
   ]
  },
  {
   "cell_type": "code",
   "execution_count": 16,
   "id": "ff32920a",
   "metadata": {
    "execution": {
     "iopub.execute_input": "2024-01-30T13:11:09.757990Z",
     "iopub.status.busy": "2024-01-30T13:11:09.757559Z",
     "iopub.status.idle": "2024-01-30T13:11:09.769821Z",
     "shell.execute_reply": "2024-01-30T13:11:09.768989Z"
    },
    "papermill": {
     "duration": 0.034903,
     "end_time": "2024-01-30T13:11:09.771449",
     "exception": false,
     "start_time": "2024-01-30T13:11:09.736546",
     "status": "completed"
    },
    "tags": []
   },
   "outputs": [
    {
     "data": {
      "text/html": [
       "<div>\n",
       "<style scoped>\n",
       "    .dataframe tbody tr th:only-of-type {\n",
       "        vertical-align: middle;\n",
       "    }\n",
       "\n",
       "    .dataframe tbody tr th {\n",
       "        vertical-align: top;\n",
       "    }\n",
       "\n",
       "    .dataframe thead th {\n",
       "        text-align: right;\n",
       "    }\n",
       "</style>\n",
       "<table border=\"1\" class=\"dataframe\">\n",
       "  <thead>\n",
       "    <tr style=\"text-align: right;\">\n",
       "      <th></th>\n",
       "      <th>Sex</th>\n",
       "      <th>Survived</th>\n",
       "    </tr>\n",
       "  </thead>\n",
       "  <tbody>\n",
       "    <tr>\n",
       "      <th>0</th>\n",
       "      <td>female</td>\n",
       "      <td>0.742038</td>\n",
       "    </tr>\n",
       "    <tr>\n",
       "      <th>1</th>\n",
       "      <td>male</td>\n",
       "      <td>0.188908</td>\n",
       "    </tr>\n",
       "  </tbody>\n",
       "</table>\n",
       "</div>"
      ],
      "text/plain": [
       "      Sex  Survived\n",
       "0  female  0.742038\n",
       "1    male  0.188908"
      ]
     },
     "execution_count": 16,
     "metadata": {},
     "output_type": "execute_result"
    }
   ],
   "source": [
    "train[['Sex', 'Survived']].groupby(['Sex'], as_index=False).mean().sort_values(by='Survived', ascending=False)"
   ]
  },
  {
   "cell_type": "code",
   "execution_count": 17,
   "id": "2080b479",
   "metadata": {
    "execution": {
     "iopub.execute_input": "2024-01-30T13:11:09.811065Z",
     "iopub.status.busy": "2024-01-30T13:11:09.810146Z",
     "iopub.status.idle": "2024-01-30T13:11:09.823178Z",
     "shell.execute_reply": "2024-01-30T13:11:09.822102Z"
    },
    "papermill": {
     "duration": 0.034576,
     "end_time": "2024-01-30T13:11:09.824953",
     "exception": false,
     "start_time": "2024-01-30T13:11:09.790377",
     "status": "completed"
    },
    "tags": []
   },
   "outputs": [
    {
     "data": {
      "text/html": [
       "<div>\n",
       "<style scoped>\n",
       "    .dataframe tbody tr th:only-of-type {\n",
       "        vertical-align: middle;\n",
       "    }\n",
       "\n",
       "    .dataframe tbody tr th {\n",
       "        vertical-align: top;\n",
       "    }\n",
       "\n",
       "    .dataframe thead th {\n",
       "        text-align: right;\n",
       "    }\n",
       "</style>\n",
       "<table border=\"1\" class=\"dataframe\">\n",
       "  <thead>\n",
       "    <tr style=\"text-align: right;\">\n",
       "      <th></th>\n",
       "      <th>SibSp</th>\n",
       "      <th>Survived</th>\n",
       "    </tr>\n",
       "  </thead>\n",
       "  <tbody>\n",
       "    <tr>\n",
       "      <th>1</th>\n",
       "      <td>1</td>\n",
       "      <td>0.535885</td>\n",
       "    </tr>\n",
       "    <tr>\n",
       "      <th>2</th>\n",
       "      <td>2</td>\n",
       "      <td>0.464286</td>\n",
       "    </tr>\n",
       "    <tr>\n",
       "      <th>0</th>\n",
       "      <td>0</td>\n",
       "      <td>0.345395</td>\n",
       "    </tr>\n",
       "    <tr>\n",
       "      <th>3</th>\n",
       "      <td>3</td>\n",
       "      <td>0.250000</td>\n",
       "    </tr>\n",
       "    <tr>\n",
       "      <th>4</th>\n",
       "      <td>4</td>\n",
       "      <td>0.166667</td>\n",
       "    </tr>\n",
       "    <tr>\n",
       "      <th>5</th>\n",
       "      <td>5</td>\n",
       "      <td>0.000000</td>\n",
       "    </tr>\n",
       "    <tr>\n",
       "      <th>6</th>\n",
       "      <td>8</td>\n",
       "      <td>0.000000</td>\n",
       "    </tr>\n",
       "  </tbody>\n",
       "</table>\n",
       "</div>"
      ],
      "text/plain": [
       "   SibSp  Survived\n",
       "1      1  0.535885\n",
       "2      2  0.464286\n",
       "0      0  0.345395\n",
       "3      3  0.250000\n",
       "4      4  0.166667\n",
       "5      5  0.000000\n",
       "6      8  0.000000"
      ]
     },
     "execution_count": 17,
     "metadata": {},
     "output_type": "execute_result"
    }
   ],
   "source": [
    "train[[\"SibSp\", \"Survived\"]].groupby(['SibSp'], as_index=False).mean().sort_values(by='Survived', ascending=False)"
   ]
  },
  {
   "cell_type": "code",
   "execution_count": 18,
   "id": "5a4e54bd",
   "metadata": {
    "execution": {
     "iopub.execute_input": "2024-01-30T13:11:09.865272Z",
     "iopub.status.busy": "2024-01-30T13:11:09.864924Z",
     "iopub.status.idle": "2024-01-30T13:11:09.876207Z",
     "shell.execute_reply": "2024-01-30T13:11:09.875448Z"
    },
    "papermill": {
     "duration": 0.033404,
     "end_time": "2024-01-30T13:11:09.877771",
     "exception": false,
     "start_time": "2024-01-30T13:11:09.844367",
     "status": "completed"
    },
    "tags": []
   },
   "outputs": [
    {
     "data": {
      "text/html": [
       "<div>\n",
       "<style scoped>\n",
       "    .dataframe tbody tr th:only-of-type {\n",
       "        vertical-align: middle;\n",
       "    }\n",
       "\n",
       "    .dataframe tbody tr th {\n",
       "        vertical-align: top;\n",
       "    }\n",
       "\n",
       "    .dataframe thead th {\n",
       "        text-align: right;\n",
       "    }\n",
       "</style>\n",
       "<table border=\"1\" class=\"dataframe\">\n",
       "  <thead>\n",
       "    <tr style=\"text-align: right;\">\n",
       "      <th></th>\n",
       "      <th>Parch</th>\n",
       "      <th>Survived</th>\n",
       "    </tr>\n",
       "  </thead>\n",
       "  <tbody>\n",
       "    <tr>\n",
       "      <th>3</th>\n",
       "      <td>3</td>\n",
       "      <td>0.600000</td>\n",
       "    </tr>\n",
       "    <tr>\n",
       "      <th>1</th>\n",
       "      <td>1</td>\n",
       "      <td>0.550847</td>\n",
       "    </tr>\n",
       "    <tr>\n",
       "      <th>2</th>\n",
       "      <td>2</td>\n",
       "      <td>0.500000</td>\n",
       "    </tr>\n",
       "    <tr>\n",
       "      <th>0</th>\n",
       "      <td>0</td>\n",
       "      <td>0.343658</td>\n",
       "    </tr>\n",
       "    <tr>\n",
       "      <th>5</th>\n",
       "      <td>5</td>\n",
       "      <td>0.200000</td>\n",
       "    </tr>\n",
       "    <tr>\n",
       "      <th>4</th>\n",
       "      <td>4</td>\n",
       "      <td>0.000000</td>\n",
       "    </tr>\n",
       "    <tr>\n",
       "      <th>6</th>\n",
       "      <td>6</td>\n",
       "      <td>0.000000</td>\n",
       "    </tr>\n",
       "  </tbody>\n",
       "</table>\n",
       "</div>"
      ],
      "text/plain": [
       "   Parch  Survived\n",
       "3      3  0.600000\n",
       "1      1  0.550847\n",
       "2      2  0.500000\n",
       "0      0  0.343658\n",
       "5      5  0.200000\n",
       "4      4  0.000000\n",
       "6      6  0.000000"
      ]
     },
     "execution_count": 18,
     "metadata": {},
     "output_type": "execute_result"
    }
   ],
   "source": [
    "train[[\"Parch\", \"Survived\"]].groupby(['Parch'], as_index=False).mean().sort_values(by='Survived', ascending=False)"
   ]
  },
  {
   "cell_type": "code",
   "execution_count": 19,
   "id": "bfb6096f",
   "metadata": {
    "execution": {
     "iopub.execute_input": "2024-01-30T13:11:09.919746Z",
     "iopub.status.busy": "2024-01-30T13:11:09.918935Z",
     "iopub.status.idle": "2024-01-30T13:11:09.922449Z",
     "shell.execute_reply": "2024-01-30T13:11:09.921896Z"
    },
    "papermill": {
     "duration": 0.02658,
     "end_time": "2024-01-30T13:11:09.923985",
     "exception": false,
     "start_time": "2024-01-30T13:11:09.897405",
     "status": "completed"
    },
    "tags": []
   },
   "outputs": [],
   "source": [
    "#sum(train[train['Fare'] < 8].Survived)\n",
    "#train[['Fare', 'Survived']].groupby(['Fare'], as_index=False).mean().sort_values(by='Survived', ascending=False)"
   ]
  },
  {
   "cell_type": "markdown",
   "id": "48c72fa6",
   "metadata": {
    "papermill": {
     "duration": 0.018736,
     "end_time": "2024-01-30T13:11:09.962050",
     "exception": false,
     "start_time": "2024-01-30T13:11:09.943314",
     "status": "completed"
    },
    "tags": []
   },
   "source": [
    "# 2. Handling Missing Values and Adding New Features¶"
   ]
  },
  {
   "cell_type": "code",
   "execution_count": 20,
   "id": "75c06d6f",
   "metadata": {
    "execution": {
     "iopub.execute_input": "2024-01-30T13:11:10.003403Z",
     "iopub.status.busy": "2024-01-30T13:11:10.002796Z",
     "iopub.status.idle": "2024-01-30T13:11:10.019620Z",
     "shell.execute_reply": "2024-01-30T13:11:10.018938Z"
    },
    "papermill": {
     "duration": 0.038839,
     "end_time": "2024-01-30T13:11:10.021159",
     "exception": false,
     "start_time": "2024-01-30T13:11:09.982320",
     "status": "completed"
    },
    "tags": []
   },
   "outputs": [
    {
     "data": {
      "text/html": [
       "<div>\n",
       "<style scoped>\n",
       "    .dataframe tbody tr th:only-of-type {\n",
       "        vertical-align: middle;\n",
       "    }\n",
       "\n",
       "    .dataframe tbody tr th {\n",
       "        vertical-align: top;\n",
       "    }\n",
       "\n",
       "    .dataframe thead th {\n",
       "        text-align: right;\n",
       "    }\n",
       "</style>\n",
       "<table border=\"1\" class=\"dataframe\">\n",
       "  <thead>\n",
       "    <tr style=\"text-align: right;\">\n",
       "      <th></th>\n",
       "      <th>PassengerId</th>\n",
       "      <th>Survived</th>\n",
       "      <th>Pclass</th>\n",
       "      <th>Name</th>\n",
       "      <th>Sex</th>\n",
       "      <th>Age</th>\n",
       "      <th>SibSp</th>\n",
       "      <th>Parch</th>\n",
       "      <th>Ticket</th>\n",
       "      <th>Fare</th>\n",
       "      <th>Cabin</th>\n",
       "      <th>Embarked</th>\n",
       "    </tr>\n",
       "  </thead>\n",
       "  <tbody>\n",
       "    <tr>\n",
       "      <th>0</th>\n",
       "      <td>1</td>\n",
       "      <td>0.0</td>\n",
       "      <td>3</td>\n",
       "      <td>Braund, Mr. Owen Harris</td>\n",
       "      <td>male</td>\n",
       "      <td>22.0</td>\n",
       "      <td>1</td>\n",
       "      <td>0</td>\n",
       "      <td>A/5 21171</td>\n",
       "      <td>7.2500</td>\n",
       "      <td>NaN</td>\n",
       "      <td>S</td>\n",
       "    </tr>\n",
       "    <tr>\n",
       "      <th>1</th>\n",
       "      <td>2</td>\n",
       "      <td>1.0</td>\n",
       "      <td>1</td>\n",
       "      <td>Cumings, Mrs. John Bradley (Florence Briggs Th...</td>\n",
       "      <td>female</td>\n",
       "      <td>38.0</td>\n",
       "      <td>1</td>\n",
       "      <td>0</td>\n",
       "      <td>PC 17599</td>\n",
       "      <td>71.2833</td>\n",
       "      <td>C85</td>\n",
       "      <td>C</td>\n",
       "    </tr>\n",
       "    <tr>\n",
       "      <th>2</th>\n",
       "      <td>3</td>\n",
       "      <td>1.0</td>\n",
       "      <td>3</td>\n",
       "      <td>Heikkinen, Miss. Laina</td>\n",
       "      <td>female</td>\n",
       "      <td>26.0</td>\n",
       "      <td>0</td>\n",
       "      <td>0</td>\n",
       "      <td>STON/O2. 3101282</td>\n",
       "      <td>7.9250</td>\n",
       "      <td>NaN</td>\n",
       "      <td>S</td>\n",
       "    </tr>\n",
       "    <tr>\n",
       "      <th>3</th>\n",
       "      <td>4</td>\n",
       "      <td>1.0</td>\n",
       "      <td>1</td>\n",
       "      <td>Futrelle, Mrs. Jacques Heath (Lily May Peel)</td>\n",
       "      <td>female</td>\n",
       "      <td>35.0</td>\n",
       "      <td>1</td>\n",
       "      <td>0</td>\n",
       "      <td>113803</td>\n",
       "      <td>53.1000</td>\n",
       "      <td>C123</td>\n",
       "      <td>S</td>\n",
       "    </tr>\n",
       "    <tr>\n",
       "      <th>4</th>\n",
       "      <td>5</td>\n",
       "      <td>0.0</td>\n",
       "      <td>3</td>\n",
       "      <td>Allen, Mr. William Henry</td>\n",
       "      <td>male</td>\n",
       "      <td>35.0</td>\n",
       "      <td>0</td>\n",
       "      <td>0</td>\n",
       "      <td>373450</td>\n",
       "      <td>8.0500</td>\n",
       "      <td>NaN</td>\n",
       "      <td>S</td>\n",
       "    </tr>\n",
       "  </tbody>\n",
       "</table>\n",
       "</div>"
      ],
      "text/plain": [
       "   PassengerId  Survived  Pclass  \\\n",
       "0            1       0.0       3   \n",
       "1            2       1.0       1   \n",
       "2            3       1.0       3   \n",
       "3            4       1.0       1   \n",
       "4            5       0.0       3   \n",
       "\n",
       "                                                Name     Sex   Age  SibSp  \\\n",
       "0                            Braund, Mr. Owen Harris    male  22.0      1   \n",
       "1  Cumings, Mrs. John Bradley (Florence Briggs Th...  female  38.0      1   \n",
       "2                             Heikkinen, Miss. Laina  female  26.0      0   \n",
       "3       Futrelle, Mrs. Jacques Heath (Lily May Peel)  female  35.0      1   \n",
       "4                           Allen, Mr. William Henry    male  35.0      0   \n",
       "\n",
       "   Parch            Ticket     Fare Cabin Embarked  \n",
       "0      0         A/5 21171   7.2500   NaN        S  \n",
       "1      0          PC 17599  71.2833   C85        C  \n",
       "2      0  STON/O2. 3101282   7.9250   NaN        S  \n",
       "3      0            113803  53.1000  C123        S  \n",
       "4      0            373450   8.0500   NaN        S  "
      ]
     },
     "execution_count": 20,
     "metadata": {},
     "output_type": "execute_result"
    }
   ],
   "source": [
    "train_test = pd.concat([train, test], ignore_index=True)\n",
    "train_test.head()"
   ]
  },
  {
   "cell_type": "code",
   "execution_count": 21,
   "id": "7d08971d",
   "metadata": {
    "execution": {
     "iopub.execute_input": "2024-01-30T13:11:10.062177Z",
     "iopub.status.busy": "2024-01-30T13:11:10.061621Z",
     "iopub.status.idle": "2024-01-30T13:11:10.101793Z",
     "shell.execute_reply": "2024-01-30T13:11:10.100712Z"
    },
    "papermill": {
     "duration": 0.063236,
     "end_time": "2024-01-30T13:11:10.103750",
     "exception": false,
     "start_time": "2024-01-30T13:11:10.040514",
     "status": "completed"
    },
    "tags": []
   },
   "outputs": [
    {
     "name": "stdout",
     "output_type": "stream",
     "text": [
      "<class 'pandas.core.frame.DataFrame'>\n",
      "RangeIndex: 1309 entries, 0 to 1308\n",
      "Data columns (total 12 columns):\n",
      " #   Column       Non-Null Count  Dtype  \n",
      "---  ------       --------------  -----  \n",
      " 0   PassengerId  1309 non-null   int64  \n",
      " 1   Survived     891 non-null    float64\n",
      " 2   Pclass       1309 non-null   int64  \n",
      " 3   Name         1309 non-null   object \n",
      " 4   Sex          1309 non-null   object \n",
      " 5   Age          1046 non-null   float64\n",
      " 6   SibSp        1309 non-null   int64  \n",
      " 7   Parch        1309 non-null   int64  \n",
      " 8   Ticket       1309 non-null   object \n",
      " 9   Fare         1308 non-null   float64\n",
      " 10  Cabin        1309 non-null   object \n",
      " 11  Embarked     1307 non-null   object \n",
      "dtypes: float64(3), int64(4), object(5)\n",
      "memory usage: 122.8+ KB\n",
      "None\n"
     ]
    },
    {
     "data": {
      "text/html": [
       "<div>\n",
       "<style scoped>\n",
       "    .dataframe tbody tr th:only-of-type {\n",
       "        vertical-align: middle;\n",
       "    }\n",
       "\n",
       "    .dataframe tbody tr th {\n",
       "        vertical-align: top;\n",
       "    }\n",
       "\n",
       "    .dataframe thead th {\n",
       "        text-align: right;\n",
       "    }\n",
       "</style>\n",
       "<table border=\"1\" class=\"dataframe\">\n",
       "  <thead>\n",
       "    <tr style=\"text-align: right;\">\n",
       "      <th></th>\n",
       "      <th>PassengerId</th>\n",
       "      <th>Survived</th>\n",
       "      <th>Pclass</th>\n",
       "      <th>Name</th>\n",
       "      <th>Sex</th>\n",
       "      <th>Age</th>\n",
       "      <th>SibSp</th>\n",
       "      <th>Parch</th>\n",
       "      <th>Ticket</th>\n",
       "      <th>Fare</th>\n",
       "      <th>Cabin</th>\n",
       "      <th>Embarked</th>\n",
       "    </tr>\n",
       "  </thead>\n",
       "  <tbody>\n",
       "    <tr>\n",
       "      <th>0</th>\n",
       "      <td>1</td>\n",
       "      <td>0.0</td>\n",
       "      <td>3</td>\n",
       "      <td>Braund, Mr. Owen Harris</td>\n",
       "      <td>male</td>\n",
       "      <td>22.0</td>\n",
       "      <td>1</td>\n",
       "      <td>0</td>\n",
       "      <td>A/5 21171</td>\n",
       "      <td>7.2500</td>\n",
       "      <td>C_1</td>\n",
       "      <td>S</td>\n",
       "    </tr>\n",
       "    <tr>\n",
       "      <th>1</th>\n",
       "      <td>2</td>\n",
       "      <td>1.0</td>\n",
       "      <td>1</td>\n",
       "      <td>Cumings, Mrs. John Bradley (Florence Briggs Th...</td>\n",
       "      <td>female</td>\n",
       "      <td>38.0</td>\n",
       "      <td>1</td>\n",
       "      <td>0</td>\n",
       "      <td>PC 17599</td>\n",
       "      <td>71.2833</td>\n",
       "      <td>C85</td>\n",
       "      <td>C</td>\n",
       "    </tr>\n",
       "    <tr>\n",
       "      <th>2</th>\n",
       "      <td>3</td>\n",
       "      <td>1.0</td>\n",
       "      <td>3</td>\n",
       "      <td>Heikkinen, Miss. Laina</td>\n",
       "      <td>female</td>\n",
       "      <td>26.0</td>\n",
       "      <td>0</td>\n",
       "      <td>0</td>\n",
       "      <td>STON/O2. 3101282</td>\n",
       "      <td>7.9250</td>\n",
       "      <td>C_2</td>\n",
       "      <td>S</td>\n",
       "    </tr>\n",
       "    <tr>\n",
       "      <th>3</th>\n",
       "      <td>4</td>\n",
       "      <td>1.0</td>\n",
       "      <td>1</td>\n",
       "      <td>Futrelle, Mrs. Jacques Heath (Lily May Peel)</td>\n",
       "      <td>female</td>\n",
       "      <td>35.0</td>\n",
       "      <td>1</td>\n",
       "      <td>0</td>\n",
       "      <td>113803</td>\n",
       "      <td>53.1000</td>\n",
       "      <td>C123</td>\n",
       "      <td>S</td>\n",
       "    </tr>\n",
       "    <tr>\n",
       "      <th>4</th>\n",
       "      <td>5</td>\n",
       "      <td>0.0</td>\n",
       "      <td>3</td>\n",
       "      <td>Allen, Mr. William Henry</td>\n",
       "      <td>male</td>\n",
       "      <td>35.0</td>\n",
       "      <td>0</td>\n",
       "      <td>0</td>\n",
       "      <td>373450</td>\n",
       "      <td>8.0500</td>\n",
       "      <td>C_3</td>\n",
       "      <td>S</td>\n",
       "    </tr>\n",
       "    <tr>\n",
       "      <th>5</th>\n",
       "      <td>6</td>\n",
       "      <td>0.0</td>\n",
       "      <td>3</td>\n",
       "      <td>Moran, Mr. James</td>\n",
       "      <td>male</td>\n",
       "      <td>NaN</td>\n",
       "      <td>0</td>\n",
       "      <td>0</td>\n",
       "      <td>330877</td>\n",
       "      <td>8.4583</td>\n",
       "      <td>C_4</td>\n",
       "      <td>Q</td>\n",
       "    </tr>\n",
       "    <tr>\n",
       "      <th>6</th>\n",
       "      <td>7</td>\n",
       "      <td>0.0</td>\n",
       "      <td>1</td>\n",
       "      <td>McCarthy, Mr. Timothy J</td>\n",
       "      <td>male</td>\n",
       "      <td>54.0</td>\n",
       "      <td>0</td>\n",
       "      <td>0</td>\n",
       "      <td>17463</td>\n",
       "      <td>51.8625</td>\n",
       "      <td>E46</td>\n",
       "      <td>S</td>\n",
       "    </tr>\n",
       "    <tr>\n",
       "      <th>7</th>\n",
       "      <td>8</td>\n",
       "      <td>0.0</td>\n",
       "      <td>3</td>\n",
       "      <td>Palsson, Master. Gosta Leonard</td>\n",
       "      <td>male</td>\n",
       "      <td>2.0</td>\n",
       "      <td>3</td>\n",
       "      <td>1</td>\n",
       "      <td>349909</td>\n",
       "      <td>21.0750</td>\n",
       "      <td>C_5</td>\n",
       "      <td>S</td>\n",
       "    </tr>\n",
       "    <tr>\n",
       "      <th>8</th>\n",
       "      <td>9</td>\n",
       "      <td>1.0</td>\n",
       "      <td>3</td>\n",
       "      <td>Johnson, Mrs. Oscar W (Elisabeth Vilhelmina Berg)</td>\n",
       "      <td>female</td>\n",
       "      <td>27.0</td>\n",
       "      <td>0</td>\n",
       "      <td>2</td>\n",
       "      <td>347742</td>\n",
       "      <td>11.1333</td>\n",
       "      <td>C_6</td>\n",
       "      <td>S</td>\n",
       "    </tr>\n",
       "    <tr>\n",
       "      <th>9</th>\n",
       "      <td>10</td>\n",
       "      <td>1.0</td>\n",
       "      <td>2</td>\n",
       "      <td>Nasser, Mrs. Nicholas (Adele Achem)</td>\n",
       "      <td>female</td>\n",
       "      <td>14.0</td>\n",
       "      <td>1</td>\n",
       "      <td>0</td>\n",
       "      <td>237736</td>\n",
       "      <td>30.0708</td>\n",
       "      <td>C_7</td>\n",
       "      <td>C</td>\n",
       "    </tr>\n",
       "    <tr>\n",
       "      <th>10</th>\n",
       "      <td>11</td>\n",
       "      <td>1.0</td>\n",
       "      <td>3</td>\n",
       "      <td>Sandstrom, Miss. Marguerite Rut</td>\n",
       "      <td>female</td>\n",
       "      <td>4.0</td>\n",
       "      <td>1</td>\n",
       "      <td>1</td>\n",
       "      <td>PP 9549</td>\n",
       "      <td>16.7000</td>\n",
       "      <td>G6</td>\n",
       "      <td>S</td>\n",
       "    </tr>\n",
       "    <tr>\n",
       "      <th>11</th>\n",
       "      <td>12</td>\n",
       "      <td>1.0</td>\n",
       "      <td>1</td>\n",
       "      <td>Bonnell, Miss. Elizabeth</td>\n",
       "      <td>female</td>\n",
       "      <td>58.0</td>\n",
       "      <td>0</td>\n",
       "      <td>0</td>\n",
       "      <td>113783</td>\n",
       "      <td>26.5500</td>\n",
       "      <td>C103</td>\n",
       "      <td>S</td>\n",
       "    </tr>\n",
       "    <tr>\n",
       "      <th>12</th>\n",
       "      <td>13</td>\n",
       "      <td>0.0</td>\n",
       "      <td>3</td>\n",
       "      <td>Saundercock, Mr. William Henry</td>\n",
       "      <td>male</td>\n",
       "      <td>20.0</td>\n",
       "      <td>0</td>\n",
       "      <td>0</td>\n",
       "      <td>A/5. 2151</td>\n",
       "      <td>8.0500</td>\n",
       "      <td>C_8</td>\n",
       "      <td>S</td>\n",
       "    </tr>\n",
       "    <tr>\n",
       "      <th>13</th>\n",
       "      <td>14</td>\n",
       "      <td>0.0</td>\n",
       "      <td>3</td>\n",
       "      <td>Andersson, Mr. Anders Johan</td>\n",
       "      <td>male</td>\n",
       "      <td>39.0</td>\n",
       "      <td>1</td>\n",
       "      <td>5</td>\n",
       "      <td>347082</td>\n",
       "      <td>31.2750</td>\n",
       "      <td>C_9</td>\n",
       "      <td>S</td>\n",
       "    </tr>\n",
       "    <tr>\n",
       "      <th>14</th>\n",
       "      <td>15</td>\n",
       "      <td>0.0</td>\n",
       "      <td>3</td>\n",
       "      <td>Vestrom, Miss. Hulda Amanda Adolfina</td>\n",
       "      <td>female</td>\n",
       "      <td>14.0</td>\n",
       "      <td>0</td>\n",
       "      <td>0</td>\n",
       "      <td>350406</td>\n",
       "      <td>7.8542</td>\n",
       "      <td>C_10</td>\n",
       "      <td>S</td>\n",
       "    </tr>\n",
       "  </tbody>\n",
       "</table>\n",
       "</div>"
      ],
      "text/plain": [
       "    PassengerId  Survived  Pclass  \\\n",
       "0             1       0.0       3   \n",
       "1             2       1.0       1   \n",
       "2             3       1.0       3   \n",
       "3             4       1.0       1   \n",
       "4             5       0.0       3   \n",
       "5             6       0.0       3   \n",
       "6             7       0.0       1   \n",
       "7             8       0.0       3   \n",
       "8             9       1.0       3   \n",
       "9            10       1.0       2   \n",
       "10           11       1.0       3   \n",
       "11           12       1.0       1   \n",
       "12           13       0.0       3   \n",
       "13           14       0.0       3   \n",
       "14           15       0.0       3   \n",
       "\n",
       "                                                 Name     Sex   Age  SibSp  \\\n",
       "0                             Braund, Mr. Owen Harris    male  22.0      1   \n",
       "1   Cumings, Mrs. John Bradley (Florence Briggs Th...  female  38.0      1   \n",
       "2                              Heikkinen, Miss. Laina  female  26.0      0   \n",
       "3        Futrelle, Mrs. Jacques Heath (Lily May Peel)  female  35.0      1   \n",
       "4                            Allen, Mr. William Henry    male  35.0      0   \n",
       "5                                    Moran, Mr. James    male   NaN      0   \n",
       "6                             McCarthy, Mr. Timothy J    male  54.0      0   \n",
       "7                      Palsson, Master. Gosta Leonard    male   2.0      3   \n",
       "8   Johnson, Mrs. Oscar W (Elisabeth Vilhelmina Berg)  female  27.0      0   \n",
       "9                 Nasser, Mrs. Nicholas (Adele Achem)  female  14.0      1   \n",
       "10                    Sandstrom, Miss. Marguerite Rut  female   4.0      1   \n",
       "11                           Bonnell, Miss. Elizabeth  female  58.0      0   \n",
       "12                     Saundercock, Mr. William Henry    male  20.0      0   \n",
       "13                        Andersson, Mr. Anders Johan    male  39.0      1   \n",
       "14               Vestrom, Miss. Hulda Amanda Adolfina  female  14.0      0   \n",
       "\n",
       "    Parch            Ticket     Fare Cabin Embarked  \n",
       "0       0         A/5 21171   7.2500   C_1        S  \n",
       "1       0          PC 17599  71.2833   C85        C  \n",
       "2       0  STON/O2. 3101282   7.9250   C_2        S  \n",
       "3       0            113803  53.1000  C123        S  \n",
       "4       0            373450   8.0500   C_3        S  \n",
       "5       0            330877   8.4583   C_4        Q  \n",
       "6       0             17463  51.8625   E46        S  \n",
       "7       1            349909  21.0750   C_5        S  \n",
       "8       2            347742  11.1333   C_6        S  \n",
       "9       0            237736  30.0708   C_7        C  \n",
       "10      1           PP 9549  16.7000    G6        S  \n",
       "11      0            113783  26.5500  C103        S  \n",
       "12      0         A/5. 2151   8.0500   C_8        S  \n",
       "13      5            347082  31.2750   C_9        S  \n",
       "14      0            350406   7.8542  C_10        S  "
      ]
     },
     "execution_count": 21,
     "metadata": {},
     "output_type": "execute_result"
    }
   ],
   "source": [
    "# Create a dictionary to store unique cabin names for each ticket number\n",
    "ticket_cabin_mapping = {}\n",
    "\n",
    "# Function to generate unique cabin names\n",
    "def generate_cabin(ticket, cabin):\n",
    "    if ticket not in ticket_cabin_mapping:\n",
    "        if pd.notna(cabin):\n",
    "            return cabin \n",
    "        else:\n",
    "            ticket_cabin_mapping[ticket] = len(ticket_cabin_mapping) + 1\n",
    "            return f'C_{ticket_cabin_mapping[ticket]}'\n",
    "    else:\n",
    "        if pd.notna(cabin):\n",
    "            return cabin \n",
    "        else:\n",
    "            return f'C_{ticket_cabin_mapping[ticket]}'\n",
    "\n",
    "# Apply the function to create a new 'Cabin' column\n",
    "train_test['Cabin'] = train_test.apply(lambda row: generate_cabin(row['Ticket'], row['Cabin']), axis=1)\n",
    "\n",
    "\n",
    "print(train_test.info())\n",
    "train_test.head(15)"
   ]
  },
  {
   "cell_type": "markdown",
   "id": "2e4e815e",
   "metadata": {
    "papermill": {
     "duration": 0.020311,
     "end_time": "2024-01-30T13:11:10.143760",
     "exception": false,
     "start_time": "2024-01-30T13:11:10.123449",
     "status": "completed"
    },
    "tags": []
   },
   "source": [
    "# Test\n",
    ">PC 17569"
   ]
  },
  {
   "cell_type": "code",
   "execution_count": 22,
   "id": "1776a124",
   "metadata": {
    "execution": {
     "iopub.execute_input": "2024-01-30T13:11:10.185828Z",
     "iopub.status.busy": "2024-01-30T13:11:10.185416Z",
     "iopub.status.idle": "2024-01-30T13:11:10.189125Z",
     "shell.execute_reply": "2024-01-30T13:11:10.188456Z"
    },
    "papermill": {
     "duration": 0.026719,
     "end_time": "2024-01-30T13:11:10.190702",
     "exception": false,
     "start_time": "2024-01-30T13:11:10.163983",
     "status": "completed"
    },
    "tags": []
   },
   "outputs": [],
   "source": [
    "# train_test[train_test['Ticket'] == 'PC 17569']\n",
    "# train_test[:40]"
   ]
  },
  {
   "cell_type": "code",
   "execution_count": 23,
   "id": "e70b9b98",
   "metadata": {
    "execution": {
     "iopub.execute_input": "2024-01-30T13:11:10.233535Z",
     "iopub.status.busy": "2024-01-30T13:11:10.232641Z",
     "iopub.status.idle": "2024-01-30T13:11:10.243994Z",
     "shell.execute_reply": "2024-01-30T13:11:10.243000Z"
    },
    "papermill": {
     "duration": 0.034612,
     "end_time": "2024-01-30T13:11:10.245659",
     "exception": false,
     "start_time": "2024-01-30T13:11:10.211047",
     "status": "completed"
    },
    "tags": []
   },
   "outputs": [
    {
     "name": "stdout",
     "output_type": "stream",
     "text": [
      "<class 'pandas.core.frame.DataFrame'>\n",
      "RangeIndex: 1309 entries, 0 to 1308\n",
      "Data columns (total 12 columns):\n",
      " #   Column       Non-Null Count  Dtype  \n",
      "---  ------       --------------  -----  \n",
      " 0   PassengerId  1309 non-null   int64  \n",
      " 1   Survived     891 non-null    float64\n",
      " 2   Pclass       1309 non-null   int64  \n",
      " 3   Name         1309 non-null   object \n",
      " 4   Sex          1309 non-null   object \n",
      " 5   Age          1046 non-null   float64\n",
      " 6   SibSp        1309 non-null   int64  \n",
      " 7   Parch        1309 non-null   int64  \n",
      " 8   Ticket       1309 non-null   object \n",
      " 9   Fare         1308 non-null   float64\n",
      " 10  Cabin        1309 non-null   int64  \n",
      " 11  Embarked     1307 non-null   object \n",
      "dtypes: float64(3), int64(5), object(4)\n",
      "memory usage: 122.8+ KB\n"
     ]
    }
   ],
   "source": [
    "train_test['Cabin'] = pd.factorize(train_test['Cabin'])[0]\n",
    "train_test.info()"
   ]
  },
  {
   "cell_type": "code",
   "execution_count": 24,
   "id": "3ae93895",
   "metadata": {
    "execution": {
     "iopub.execute_input": "2024-01-30T13:11:10.287896Z",
     "iopub.status.busy": "2024-01-30T13:11:10.287510Z",
     "iopub.status.idle": "2024-01-30T13:11:10.296091Z",
     "shell.execute_reply": "2024-01-30T13:11:10.295489Z"
    },
    "papermill": {
     "duration": 0.031674,
     "end_time": "2024-01-30T13:11:10.297696",
     "exception": false,
     "start_time": "2024-01-30T13:11:10.266022",
     "status": "completed"
    },
    "tags": []
   },
   "outputs": [],
   "source": [
    "train = train_test[train_test['Survived'].notnull()].copy()\n",
    "train.Survived =train.Survived.astype('int')\n",
    "test = train_test[train_test['Survived'].isnull()].drop(\"Survived\",axis=1)"
   ]
  },
  {
   "cell_type": "code",
   "execution_count": 25,
   "id": "a7a2bf0e",
   "metadata": {
    "execution": {
     "iopub.execute_input": "2024-01-30T13:11:10.337031Z",
     "iopub.status.busy": "2024-01-30T13:11:10.336720Z",
     "iopub.status.idle": "2024-01-30T13:11:10.352400Z",
     "shell.execute_reply": "2024-01-30T13:11:10.351657Z"
    },
    "papermill": {
     "duration": 0.03859,
     "end_time": "2024-01-30T13:11:10.355427",
     "exception": false,
     "start_time": "2024-01-30T13:11:10.316837",
     "status": "completed"
    },
    "tags": []
   },
   "outputs": [
    {
     "name": "stdout",
     "output_type": "stream",
     "text": [
      "<class 'pandas.core.frame.DataFrame'>\n",
      "Index: 891 entries, 0 to 890\n",
      "Data columns (total 12 columns):\n",
      " #   Column       Non-Null Count  Dtype  \n",
      "---  ------       --------------  -----  \n",
      " 0   PassengerId  891 non-null    int64  \n",
      " 1   Survived     891 non-null    int64  \n",
      " 2   Pclass       891 non-null    int64  \n",
      " 3   Name         891 non-null    object \n",
      " 4   Sex          891 non-null    object \n",
      " 5   Age          714 non-null    float64\n",
      " 6   SibSp        891 non-null    int64  \n",
      " 7   Parch        891 non-null    int64  \n",
      " 8   Ticket       891 non-null    object \n",
      " 9   Fare         891 non-null    float64\n",
      " 10  Cabin        891 non-null    int64  \n",
      " 11  Embarked     889 non-null    object \n",
      "dtypes: float64(2), int64(6), object(4)\n",
      "memory usage: 90.5+ KB\n",
      "None\n",
      "_+_+_+_&*_*_*_*_*_\n",
      "<class 'pandas.core.frame.DataFrame'>\n",
      "Index: 418 entries, 891 to 1308\n",
      "Data columns (total 11 columns):\n",
      " #   Column       Non-Null Count  Dtype  \n",
      "---  ------       --------------  -----  \n",
      " 0   PassengerId  418 non-null    int64  \n",
      " 1   Pclass       418 non-null    int64  \n",
      " 2   Name         418 non-null    object \n",
      " 3   Sex          418 non-null    object \n",
      " 4   Age          332 non-null    float64\n",
      " 5   SibSp        418 non-null    int64  \n",
      " 6   Parch        418 non-null    int64  \n",
      " 7   Ticket       418 non-null    object \n",
      " 8   Fare         417 non-null    float64\n",
      " 9   Cabin        418 non-null    int64  \n",
      " 10  Embarked     418 non-null    object \n",
      "dtypes: float64(2), int64(5), object(4)\n",
      "memory usage: 39.2+ KB\n",
      "None\n"
     ]
    }
   ],
   "source": [
    "print(train.info())\n",
    "print('_+_+_+_&*_*_*_*_*_')\n",
    "print(test.info())"
   ]
  },
  {
   "cell_type": "code",
   "execution_count": 26,
   "id": "8a61e4fb",
   "metadata": {
    "execution": {
     "iopub.execute_input": "2024-01-30T13:11:10.398100Z",
     "iopub.status.busy": "2024-01-30T13:11:10.397441Z",
     "iopub.status.idle": "2024-01-30T13:11:10.406878Z",
     "shell.execute_reply": "2024-01-30T13:11:10.406021Z"
    },
    "papermill": {
     "duration": 0.033068,
     "end_time": "2024-01-30T13:11:10.409150",
     "exception": false,
     "start_time": "2024-01-30T13:11:10.376082",
     "status": "completed"
    },
    "tags": []
   },
   "outputs": [
    {
     "name": "stdout",
     "output_type": "stream",
     "text": [
      "Before (891, 12) (418, 11) (891, 12) (418, 11)\n"
     ]
    },
    {
     "data": {
      "text/plain": [
       "('After', (891, 11), (418, 10), (891, 11), (418, 10))"
      ]
     },
     "execution_count": 26,
     "metadata": {},
     "output_type": "execute_result"
    }
   ],
   "source": [
    "# combining all data\n",
    "full_data = [train, test]\n",
    "print(\"Before\", train.shape, test.shape, full_data[0].shape, full_data[1].shape)\n",
    "\n",
    "train = train.drop(['Ticket'], axis=1)\n",
    "test = test.drop(['Ticket'], axis=1)\n",
    "full_data = [train, test]\n",
    "\n",
    "\"After\", train.shape, test.shape, full_data[0].shape, full_data[1].shape"
   ]
  },
  {
   "cell_type": "code",
   "execution_count": 27,
   "id": "eb883e50",
   "metadata": {
    "execution": {
     "iopub.execute_input": "2024-01-30T13:11:10.450729Z",
     "iopub.status.busy": "2024-01-30T13:11:10.450136Z",
     "iopub.status.idle": "2024-01-30T13:11:10.466873Z",
     "shell.execute_reply": "2024-01-30T13:11:10.466041Z"
    },
    "papermill": {
     "duration": 0.039568,
     "end_time": "2024-01-30T13:11:10.468727",
     "exception": false,
     "start_time": "2024-01-30T13:11:10.429159",
     "status": "completed"
    },
    "tags": []
   },
   "outputs": [
    {
     "name": "stdout",
     "output_type": "stream",
     "text": [
      "<class 'pandas.core.frame.DataFrame'>\n",
      "Index: 891 entries, 0 to 890\n",
      "Data columns (total 11 columns):\n",
      " #   Column       Non-Null Count  Dtype  \n",
      "---  ------       --------------  -----  \n",
      " 0   PassengerId  891 non-null    int64  \n",
      " 1   Survived     891 non-null    int64  \n",
      " 2   Pclass       891 non-null    int64  \n",
      " 3   Name         891 non-null    object \n",
      " 4   Sex          891 non-null    object \n",
      " 5   Age          714 non-null    float64\n",
      " 6   SibSp        891 non-null    int64  \n",
      " 7   Parch        891 non-null    int64  \n",
      " 8   Fare         891 non-null    float64\n",
      " 9   Cabin        891 non-null    int64  \n",
      " 10  Embarked     889 non-null    object \n",
      "dtypes: float64(2), int64(6), object(3)\n",
      "memory usage: 83.5+ KB\n",
      "None\n",
      "_+_+_+_&*_*_*_*_*_\n",
      "<class 'pandas.core.frame.DataFrame'>\n",
      "Index: 418 entries, 891 to 1308\n",
      "Data columns (total 10 columns):\n",
      " #   Column       Non-Null Count  Dtype  \n",
      "---  ------       --------------  -----  \n",
      " 0   PassengerId  418 non-null    int64  \n",
      " 1   Pclass       418 non-null    int64  \n",
      " 2   Name         418 non-null    object \n",
      " 3   Sex          418 non-null    object \n",
      " 4   Age          332 non-null    float64\n",
      " 5   SibSp        418 non-null    int64  \n",
      " 6   Parch        418 non-null    int64  \n",
      " 7   Fare         417 non-null    float64\n",
      " 8   Cabin        418 non-null    int64  \n",
      " 9   Embarked     418 non-null    object \n",
      "dtypes: float64(2), int64(5), object(3)\n",
      "memory usage: 35.9+ KB\n",
      "None\n"
     ]
    }
   ],
   "source": [
    "print(train.info())\n",
    "print('_+_+_+_&*_*_*_*_*_')\n",
    "print(test.info())"
   ]
  },
  {
   "cell_type": "code",
   "execution_count": 28,
   "id": "892d553e",
   "metadata": {
    "execution": {
     "iopub.execute_input": "2024-01-30T13:11:10.511197Z",
     "iopub.status.busy": "2024-01-30T13:11:10.510522Z",
     "iopub.status.idle": "2024-01-30T13:11:10.533538Z",
     "shell.execute_reply": "2024-01-30T13:11:10.532761Z"
    },
    "papermill": {
     "duration": 0.046079,
     "end_time": "2024-01-30T13:11:10.535137",
     "exception": false,
     "start_time": "2024-01-30T13:11:10.489058",
     "status": "completed"
    },
    "tags": []
   },
   "outputs": [
    {
     "data": {
      "text/html": [
       "<div>\n",
       "<style scoped>\n",
       "    .dataframe tbody tr th:only-of-type {\n",
       "        vertical-align: middle;\n",
       "    }\n",
       "\n",
       "    .dataframe tbody tr th {\n",
       "        vertical-align: top;\n",
       "    }\n",
       "\n",
       "    .dataframe thead th {\n",
       "        text-align: right;\n",
       "    }\n",
       "</style>\n",
       "<table border=\"1\" class=\"dataframe\">\n",
       "  <thead>\n",
       "    <tr style=\"text-align: right;\">\n",
       "      <th>Sex</th>\n",
       "      <th>female</th>\n",
       "      <th>male</th>\n",
       "    </tr>\n",
       "    <tr>\n",
       "      <th>Title</th>\n",
       "      <th></th>\n",
       "      <th></th>\n",
       "    </tr>\n",
       "  </thead>\n",
       "  <tbody>\n",
       "    <tr>\n",
       "      <th>Capt</th>\n",
       "      <td>0</td>\n",
       "      <td>1</td>\n",
       "    </tr>\n",
       "    <tr>\n",
       "      <th>Col</th>\n",
       "      <td>0</td>\n",
       "      <td>2</td>\n",
       "    </tr>\n",
       "    <tr>\n",
       "      <th>Countess</th>\n",
       "      <td>1</td>\n",
       "      <td>0</td>\n",
       "    </tr>\n",
       "    <tr>\n",
       "      <th>Don</th>\n",
       "      <td>0</td>\n",
       "      <td>1</td>\n",
       "    </tr>\n",
       "    <tr>\n",
       "      <th>Dr</th>\n",
       "      <td>1</td>\n",
       "      <td>6</td>\n",
       "    </tr>\n",
       "    <tr>\n",
       "      <th>Jonkheer</th>\n",
       "      <td>0</td>\n",
       "      <td>1</td>\n",
       "    </tr>\n",
       "    <tr>\n",
       "      <th>Lady</th>\n",
       "      <td>1</td>\n",
       "      <td>0</td>\n",
       "    </tr>\n",
       "    <tr>\n",
       "      <th>Major</th>\n",
       "      <td>0</td>\n",
       "      <td>2</td>\n",
       "    </tr>\n",
       "    <tr>\n",
       "      <th>Master</th>\n",
       "      <td>0</td>\n",
       "      <td>40</td>\n",
       "    </tr>\n",
       "    <tr>\n",
       "      <th>Miss</th>\n",
       "      <td>182</td>\n",
       "      <td>0</td>\n",
       "    </tr>\n",
       "    <tr>\n",
       "      <th>Mlle</th>\n",
       "      <td>2</td>\n",
       "      <td>0</td>\n",
       "    </tr>\n",
       "    <tr>\n",
       "      <th>Mme</th>\n",
       "      <td>1</td>\n",
       "      <td>0</td>\n",
       "    </tr>\n",
       "    <tr>\n",
       "      <th>Mr</th>\n",
       "      <td>0</td>\n",
       "      <td>517</td>\n",
       "    </tr>\n",
       "    <tr>\n",
       "      <th>Mrs</th>\n",
       "      <td>125</td>\n",
       "      <td>0</td>\n",
       "    </tr>\n",
       "    <tr>\n",
       "      <th>Ms</th>\n",
       "      <td>1</td>\n",
       "      <td>0</td>\n",
       "    </tr>\n",
       "    <tr>\n",
       "      <th>Rev</th>\n",
       "      <td>0</td>\n",
       "      <td>6</td>\n",
       "    </tr>\n",
       "    <tr>\n",
       "      <th>Sir</th>\n",
       "      <td>0</td>\n",
       "      <td>1</td>\n",
       "    </tr>\n",
       "  </tbody>\n",
       "</table>\n",
       "</div>"
      ],
      "text/plain": [
       "Sex       female  male\n",
       "Title                 \n",
       "Capt           0     1\n",
       "Col            0     2\n",
       "Countess       1     0\n",
       "Don            0     1\n",
       "Dr             1     6\n",
       "Jonkheer       0     1\n",
       "Lady           1     0\n",
       "Major          0     2\n",
       "Master         0    40\n",
       "Miss         182     0\n",
       "Mlle           2     0\n",
       "Mme            1     0\n",
       "Mr             0   517\n",
       "Mrs          125     0\n",
       "Ms             1     0\n",
       "Rev            0     6\n",
       "Sir            0     1"
      ]
     },
     "execution_count": 28,
     "metadata": {},
     "output_type": "execute_result"
    }
   ],
   "source": [
    "for dataset in full_data:\n",
    "    dataset['Title'] = dataset.Name.str.extract(' ([A-Za-z]+)\\.', expand=False)\n",
    "\n",
    "pd.crosstab(train['Title'], train['Sex'])"
   ]
  },
  {
   "cell_type": "code",
   "execution_count": 29,
   "id": "00606d3b",
   "metadata": {
    "execution": {
     "iopub.execute_input": "2024-01-30T13:11:10.576721Z",
     "iopub.status.busy": "2024-01-30T13:11:10.576327Z",
     "iopub.status.idle": "2024-01-30T13:11:10.594650Z",
     "shell.execute_reply": "2024-01-30T13:11:10.593802Z"
    },
    "papermill": {
     "duration": 0.041588,
     "end_time": "2024-01-30T13:11:10.596386",
     "exception": false,
     "start_time": "2024-01-30T13:11:10.554798",
     "status": "completed"
    },
    "tags": []
   },
   "outputs": [
    {
     "data": {
      "text/html": [
       "<div>\n",
       "<style scoped>\n",
       "    .dataframe tbody tr th:only-of-type {\n",
       "        vertical-align: middle;\n",
       "    }\n",
       "\n",
       "    .dataframe tbody tr th {\n",
       "        vertical-align: top;\n",
       "    }\n",
       "\n",
       "    .dataframe thead th {\n",
       "        text-align: right;\n",
       "    }\n",
       "</style>\n",
       "<table border=\"1\" class=\"dataframe\">\n",
       "  <thead>\n",
       "    <tr style=\"text-align: right;\">\n",
       "      <th></th>\n",
       "      <th>Title</th>\n",
       "      <th>Survived</th>\n",
       "    </tr>\n",
       "  </thead>\n",
       "  <tbody>\n",
       "    <tr>\n",
       "      <th>0</th>\n",
       "      <td>Master</td>\n",
       "      <td>0.575000</td>\n",
       "    </tr>\n",
       "    <tr>\n",
       "      <th>1</th>\n",
       "      <td>Miss</td>\n",
       "      <td>0.702703</td>\n",
       "    </tr>\n",
       "    <tr>\n",
       "      <th>2</th>\n",
       "      <td>Mr</td>\n",
       "      <td>0.156673</td>\n",
       "    </tr>\n",
       "    <tr>\n",
       "      <th>3</th>\n",
       "      <td>Mrs</td>\n",
       "      <td>0.793651</td>\n",
       "    </tr>\n",
       "    <tr>\n",
       "      <th>4</th>\n",
       "      <td>Rare</td>\n",
       "      <td>0.347826</td>\n",
       "    </tr>\n",
       "  </tbody>\n",
       "</table>\n",
       "</div>"
      ],
      "text/plain": [
       "    Title  Survived\n",
       "0  Master  0.575000\n",
       "1    Miss  0.702703\n",
       "2      Mr  0.156673\n",
       "3     Mrs  0.793651\n",
       "4    Rare  0.347826"
      ]
     },
     "execution_count": 29,
     "metadata": {},
     "output_type": "execute_result"
    }
   ],
   "source": [
    "for dataset in full_data:\n",
    "    dataset['Title'] = dataset['Title'].replace(['Lady', 'Countess','Capt', 'Col',\\\n",
    " \t'Don', 'Dr', 'Major', 'Rev', 'Sir', 'Jonkheer', 'Dona'], 'Rare')\n",
    "\n",
    "    dataset['Title'] = dataset['Title'].replace('Mlle', 'Miss')\n",
    "    dataset['Title'] = dataset['Title'].replace('Ms', 'Miss')\n",
    "    dataset['Title'] = dataset['Title'].replace('Mme', 'Mrs')\n",
    "    \n",
    "train[['Title', 'Survived']].groupby(['Title'], as_index=False).mean()"
   ]
  },
  {
   "cell_type": "code",
   "execution_count": 30,
   "id": "402d3f9b",
   "metadata": {
    "execution": {
     "iopub.execute_input": "2024-01-30T13:11:10.638629Z",
     "iopub.status.busy": "2024-01-30T13:11:10.638192Z",
     "iopub.status.idle": "2024-01-30T13:11:10.654385Z",
     "shell.execute_reply": "2024-01-30T13:11:10.653648Z"
    },
    "papermill": {
     "duration": 0.039272,
     "end_time": "2024-01-30T13:11:10.656126",
     "exception": false,
     "start_time": "2024-01-30T13:11:10.616854",
     "status": "completed"
    },
    "tags": []
   },
   "outputs": [
    {
     "data": {
      "text/html": [
       "<div>\n",
       "<style scoped>\n",
       "    .dataframe tbody tr th:only-of-type {\n",
       "        vertical-align: middle;\n",
       "    }\n",
       "\n",
       "    .dataframe tbody tr th {\n",
       "        vertical-align: top;\n",
       "    }\n",
       "\n",
       "    .dataframe thead th {\n",
       "        text-align: right;\n",
       "    }\n",
       "</style>\n",
       "<table border=\"1\" class=\"dataframe\">\n",
       "  <thead>\n",
       "    <tr style=\"text-align: right;\">\n",
       "      <th></th>\n",
       "      <th>PassengerId</th>\n",
       "      <th>Survived</th>\n",
       "      <th>Pclass</th>\n",
       "      <th>Name</th>\n",
       "      <th>Sex</th>\n",
       "      <th>Age</th>\n",
       "      <th>SibSp</th>\n",
       "      <th>Parch</th>\n",
       "      <th>Fare</th>\n",
       "      <th>Cabin</th>\n",
       "      <th>Embarked</th>\n",
       "      <th>Title</th>\n",
       "    </tr>\n",
       "  </thead>\n",
       "  <tbody>\n",
       "    <tr>\n",
       "      <th>0</th>\n",
       "      <td>1</td>\n",
       "      <td>0</td>\n",
       "      <td>3</td>\n",
       "      <td>Braund, Mr. Owen Harris</td>\n",
       "      <td>male</td>\n",
       "      <td>22.0</td>\n",
       "      <td>1</td>\n",
       "      <td>0</td>\n",
       "      <td>7.2500</td>\n",
       "      <td>0</td>\n",
       "      <td>S</td>\n",
       "      <td>1</td>\n",
       "    </tr>\n",
       "    <tr>\n",
       "      <th>1</th>\n",
       "      <td>2</td>\n",
       "      <td>1</td>\n",
       "      <td>1</td>\n",
       "      <td>Cumings, Mrs. John Bradley (Florence Briggs Th...</td>\n",
       "      <td>female</td>\n",
       "      <td>38.0</td>\n",
       "      <td>1</td>\n",
       "      <td>0</td>\n",
       "      <td>71.2833</td>\n",
       "      <td>1</td>\n",
       "      <td>C</td>\n",
       "      <td>3</td>\n",
       "    </tr>\n",
       "    <tr>\n",
       "      <th>2</th>\n",
       "      <td>3</td>\n",
       "      <td>1</td>\n",
       "      <td>3</td>\n",
       "      <td>Heikkinen, Miss. Laina</td>\n",
       "      <td>female</td>\n",
       "      <td>26.0</td>\n",
       "      <td>0</td>\n",
       "      <td>0</td>\n",
       "      <td>7.9250</td>\n",
       "      <td>2</td>\n",
       "      <td>S</td>\n",
       "      <td>2</td>\n",
       "    </tr>\n",
       "    <tr>\n",
       "      <th>3</th>\n",
       "      <td>4</td>\n",
       "      <td>1</td>\n",
       "      <td>1</td>\n",
       "      <td>Futrelle, Mrs. Jacques Heath (Lily May Peel)</td>\n",
       "      <td>female</td>\n",
       "      <td>35.0</td>\n",
       "      <td>1</td>\n",
       "      <td>0</td>\n",
       "      <td>53.1000</td>\n",
       "      <td>3</td>\n",
       "      <td>S</td>\n",
       "      <td>3</td>\n",
       "    </tr>\n",
       "    <tr>\n",
       "      <th>4</th>\n",
       "      <td>5</td>\n",
       "      <td>0</td>\n",
       "      <td>3</td>\n",
       "      <td>Allen, Mr. William Henry</td>\n",
       "      <td>male</td>\n",
       "      <td>35.0</td>\n",
       "      <td>0</td>\n",
       "      <td>0</td>\n",
       "      <td>8.0500</td>\n",
       "      <td>4</td>\n",
       "      <td>S</td>\n",
       "      <td>1</td>\n",
       "    </tr>\n",
       "  </tbody>\n",
       "</table>\n",
       "</div>"
      ],
      "text/plain": [
       "   PassengerId  Survived  Pclass  \\\n",
       "0            1         0       3   \n",
       "1            2         1       1   \n",
       "2            3         1       3   \n",
       "3            4         1       1   \n",
       "4            5         0       3   \n",
       "\n",
       "                                                Name     Sex   Age  SibSp  \\\n",
       "0                            Braund, Mr. Owen Harris    male  22.0      1   \n",
       "1  Cumings, Mrs. John Bradley (Florence Briggs Th...  female  38.0      1   \n",
       "2                             Heikkinen, Miss. Laina  female  26.0      0   \n",
       "3       Futrelle, Mrs. Jacques Heath (Lily May Peel)  female  35.0      1   \n",
       "4                           Allen, Mr. William Henry    male  35.0      0   \n",
       "\n",
       "   Parch     Fare  Cabin Embarked  Title  \n",
       "0      0   7.2500      0        S      1  \n",
       "1      0  71.2833      1        C      3  \n",
       "2      0   7.9250      2        S      2  \n",
       "3      0  53.1000      3        S      3  \n",
       "4      0   8.0500      4        S      1  "
      ]
     },
     "execution_count": 30,
     "metadata": {},
     "output_type": "execute_result"
    }
   ],
   "source": [
    "title_mapping = {\"Mr\": 1, \"Miss\": 2, \"Mrs\": 3, \"Master\": 4, \"Rare\": 5}\n",
    "for dataset in full_data:\n",
    "    dataset['Title'] = dataset['Title'].map(title_mapping)\n",
    "    dataset['Title'] = dataset['Title'].fillna(0)\n",
    "\n",
    "train.head()"
   ]
  },
  {
   "cell_type": "code",
   "execution_count": 31,
   "id": "4005d975",
   "metadata": {
    "execution": {
     "iopub.execute_input": "2024-01-30T13:11:10.698286Z",
     "iopub.status.busy": "2024-01-30T13:11:10.697922Z",
     "iopub.status.idle": "2024-01-30T13:11:10.706397Z",
     "shell.execute_reply": "2024-01-30T13:11:10.705776Z"
    },
    "papermill": {
     "duration": 0.03151,
     "end_time": "2024-01-30T13:11:10.707961",
     "exception": false,
     "start_time": "2024-01-30T13:11:10.676451",
     "status": "completed"
    },
    "tags": []
   },
   "outputs": [
    {
     "data": {
      "text/plain": [
       "((891, 10), (418, 10))"
      ]
     },
     "execution_count": 31,
     "metadata": {},
     "output_type": "execute_result"
    }
   ],
   "source": [
    "train = train.drop(['Name', 'PassengerId'], axis=1)\n",
    "test = test.drop(['Name'], axis=1)\n",
    "full_data = [train, test]\n",
    "train.shape, test.shape"
   ]
  },
  {
   "cell_type": "code",
   "execution_count": 32,
   "id": "8e0d6f2d",
   "metadata": {
    "execution": {
     "iopub.execute_input": "2024-01-30T13:11:10.751114Z",
     "iopub.status.busy": "2024-01-30T13:11:10.750773Z",
     "iopub.status.idle": "2024-01-30T13:11:12.609241Z",
     "shell.execute_reply": "2024-01-30T13:11:12.608311Z"
    },
    "papermill": {
     "duration": 1.882396,
     "end_time": "2024-01-30T13:11:12.611088",
     "exception": false,
     "start_time": "2024-01-30T13:11:10.728692",
     "status": "completed"
    },
    "tags": []
   },
   "outputs": [
    {
     "data": {
      "text/plain": [
       "<seaborn.axisgrid.FacetGrid at 0x7d0f3fec7760>"
      ]
     },
     "execution_count": 32,
     "metadata": {},
     "output_type": "execute_result"
    },
    {
     "data": {
      "image/png": "[encoded data removed]",
      "text/plain": [
       "<Figure size 715.111x660 with 6 Axes>"
      ]
     },
     "metadata": {},
     "output_type": "display_data"
    }
   ],
   "source": [
    "grid = sns.FacetGrid(train, row='Pclass', col='Sex', height=2.2, aspect=1.6)\n",
    "grid.map(plt.hist, 'Age', alpha=.5, bins=20)\n",
    "grid.add_legend()"
   ]
  },
  {
   "cell_type": "code",
   "execution_count": 33,
   "id": "ea062a43",
   "metadata": {
    "execution": {
     "iopub.execute_input": "2024-01-30T13:11:12.656424Z",
     "iopub.status.busy": "2024-01-30T13:11:12.655863Z",
     "iopub.status.idle": "2024-01-30T13:11:12.662044Z",
     "shell.execute_reply": "2024-01-30T13:11:12.661397Z"
    },
    "papermill": {
     "duration": 0.030712,
     "end_time": "2024-01-30T13:11:12.663716",
     "exception": false,
     "start_time": "2024-01-30T13:11:12.633004",
     "status": "completed"
    },
    "tags": []
   },
   "outputs": [],
   "source": [
    "for dataset in full_data:\n",
    "    # Mapping Gender\n",
    "    dataset['Sex'] = dataset['Sex'].map( {'female': 0, 'male': 1} ).astype(int)"
   ]
  },
  {
   "cell_type": "code",
   "execution_count": 34,
   "id": "b927f06b",
   "metadata": {
    "execution": {
     "iopub.execute_input": "2024-01-30T13:11:12.707942Z",
     "iopub.status.busy": "2024-01-30T13:11:12.707553Z",
     "iopub.status.idle": "2024-01-30T13:11:12.713155Z",
     "shell.execute_reply": "2024-01-30T13:11:12.712379Z"
    },
    "papermill": {
     "duration": 0.03014,
     "end_time": "2024-01-30T13:11:12.714995",
     "exception": false,
     "start_time": "2024-01-30T13:11:12.684855",
     "status": "completed"
    },
    "tags": []
   },
   "outputs": [
    {
     "data": {
      "text/plain": [
       "array([[0., 0., 0.],\n",
       "       [0., 0., 0.]])"
      ]
     },
     "execution_count": 34,
     "metadata": {},
     "output_type": "execute_result"
    }
   ],
   "source": [
    "guess_ages = np.zeros((2,3))\n",
    "guess_ages"
   ]
  },
  {
   "cell_type": "code",
   "execution_count": 35,
   "id": "09440de8",
   "metadata": {
    "execution": {
     "iopub.execute_input": "2024-01-30T13:11:12.760357Z",
     "iopub.status.busy": "2024-01-30T13:11:12.759444Z",
     "iopub.status.idle": "2024-01-30T13:11:12.794372Z",
     "shell.execute_reply": "2024-01-30T13:11:12.793543Z"
    },
    "papermill": {
     "duration": 0.059734,
     "end_time": "2024-01-30T13:11:12.796509",
     "exception": false,
     "start_time": "2024-01-30T13:11:12.736775",
     "status": "completed"
    },
    "tags": []
   },
   "outputs": [
    {
     "name": "stdout",
     "output_type": "stream",
     "text": [
      "<class 'pandas.core.frame.DataFrame'>\n",
      "Index: 891 entries, 0 to 890\n",
      "Data columns (total 10 columns):\n",
      " #   Column    Non-Null Count  Dtype  \n",
      "---  ------    --------------  -----  \n",
      " 0   Survived  891 non-null    int64  \n",
      " 1   Pclass    891 non-null    int64  \n",
      " 2   Sex       891 non-null    int64  \n",
      " 3   Age       891 non-null    int64  \n",
      " 4   SibSp     891 non-null    int64  \n",
      " 5   Parch     891 non-null    int64  \n",
      " 6   Fare      891 non-null    float64\n",
      " 7   Cabin     891 non-null    int64  \n",
      " 8   Embarked  889 non-null    object \n",
      " 9   Title     891 non-null    int64  \n",
      "dtypes: float64(1), int64(8), object(1)\n",
      "memory usage: 76.6+ KB\n"
     ]
    }
   ],
   "source": [
    "# Initialize guess_ages as a list\n",
    "guess_ages = []\n",
    "\n",
    "for dataset in full_data:\n",
    "    # Initialize guess_ages for each dataset\n",
    "    guess_ages_dataset = []\n",
    "\n",
    "    for i in range(0, 2):\n",
    "        for j in range(0, 3):\n",
    "            guess_df = dataset[(dataset['Sex'] == i) & (dataset['Pclass'] == j + 1)]['Age'].dropna()\n",
    "\n",
    "            age_guess = guess_df.median()\n",
    "\n",
    "            # Convert random age float to nearest .5 age\n",
    "            guess_ages_dataset.append(int(age_guess / 0.5 + 0.5) * 0.5)\n",
    "\n",
    "    guess_ages.append(guess_ages_dataset)\n",
    "\n",
    "for i, dataset in enumerate(full_data):\n",
    "    for j in range(0, 2):\n",
    "        for k in range(0, 3):\n",
    "            dataset.loc[(dataset.Age.isnull()) & (dataset.Sex == j) & (dataset.Pclass == k + 1), 'Age'] = guess_ages[i][j]\n",
    "\n",
    "    dataset['Age'] = dataset['Age'].astype(int)\n",
    "\n",
    "# Your code to print the information about the 'train' dataset\n",
    "train.info()"
   ]
  },
  {
   "cell_type": "code",
   "execution_count": 36,
   "id": "9013bae4",
   "metadata": {
    "execution": {
     "iopub.execute_input": "2024-01-30T13:11:12.842245Z",
     "iopub.status.busy": "2024-01-30T13:11:12.841765Z",
     "iopub.status.idle": "2024-01-30T13:11:12.856050Z",
     "shell.execute_reply": "2024-01-30T13:11:12.855310Z"
    },
    "papermill": {
     "duration": 0.039078,
     "end_time": "2024-01-30T13:11:12.857488",
     "exception": false,
     "start_time": "2024-01-30T13:11:12.818410",
     "status": "completed"
    },
    "tags": []
   },
   "outputs": [
    {
     "data": {
      "text/html": [
       "<div>\n",
       "<style scoped>\n",
       "    .dataframe tbody tr th:only-of-type {\n",
       "        vertical-align: middle;\n",
       "    }\n",
       "\n",
       "    .dataframe tbody tr th {\n",
       "        vertical-align: top;\n",
       "    }\n",
       "\n",
       "    .dataframe thead th {\n",
       "        text-align: right;\n",
       "    }\n",
       "</style>\n",
       "<table border=\"1\" class=\"dataframe\">\n",
       "  <thead>\n",
       "    <tr style=\"text-align: right;\">\n",
       "      <th></th>\n",
       "      <th>Survived</th>\n",
       "      <th>Pclass</th>\n",
       "      <th>Sex</th>\n",
       "      <th>Age</th>\n",
       "      <th>SibSp</th>\n",
       "      <th>Parch</th>\n",
       "      <th>Fare</th>\n",
       "      <th>Cabin</th>\n",
       "      <th>Embarked</th>\n",
       "      <th>Title</th>\n",
       "    </tr>\n",
       "  </thead>\n",
       "  <tbody>\n",
       "    <tr>\n",
       "      <th>0</th>\n",
       "      <td>0</td>\n",
       "      <td>3</td>\n",
       "      <td>1</td>\n",
       "      <td>2</td>\n",
       "      <td>1</td>\n",
       "      <td>0</td>\n",
       "      <td>7.25</td>\n",
       "      <td>0</td>\n",
       "      <td>S</td>\n",
       "      <td>1</td>\n",
       "    </tr>\n",
       "  </tbody>\n",
       "</table>\n",
       "</div>"
      ],
      "text/plain": [
       "   Survived  Pclass  Sex  Age  SibSp  Parch  Fare  Cabin Embarked  Title\n",
       "0         0       3    1    2      1      0  7.25      0        S      1"
      ]
     },
     "execution_count": 36,
     "metadata": {},
     "output_type": "execute_result"
    }
   ],
   "source": [
    "# Define the bins and labels for AGE column\n",
    "bins_Age = [0, 16, 32, 48, 64, 82]\n",
    "labels_Age = [1, 2, 3, 4, 5]\n",
    "for dataset in full_data:\n",
    "     # Mapping Age\n",
    "    dataset['Age'] = pd.cut(dataset['Age'], bins=bins_Age, labels=labels_Age, right=False).astype(int)\n",
    "train.head(1)"
   ]
  },
  {
   "cell_type": "code",
   "execution_count": 37,
   "id": "8054c2cd",
   "metadata": {
    "execution": {
     "iopub.execute_input": "2024-01-30T13:11:12.902998Z",
     "iopub.status.busy": "2024-01-30T13:11:12.902656Z",
     "iopub.status.idle": "2024-01-30T13:11:12.916109Z",
     "shell.execute_reply": "2024-01-30T13:11:12.915351Z"
    },
    "papermill": {
     "duration": 0.03815,
     "end_time": "2024-01-30T13:11:12.917624",
     "exception": false,
     "start_time": "2024-01-30T13:11:12.879474",
     "status": "completed"
    },
    "tags": []
   },
   "outputs": [
    {
     "data": {
      "text/html": [
       "<div>\n",
       "<style scoped>\n",
       "    .dataframe tbody tr th:only-of-type {\n",
       "        vertical-align: middle;\n",
       "    }\n",
       "\n",
       "    .dataframe tbody tr th {\n",
       "        vertical-align: top;\n",
       "    }\n",
       "\n",
       "    .dataframe thead th {\n",
       "        text-align: right;\n",
       "    }\n",
       "</style>\n",
       "<table border=\"1\" class=\"dataframe\">\n",
       "  <thead>\n",
       "    <tr style=\"text-align: right;\">\n",
       "      <th></th>\n",
       "      <th>FamilySize</th>\n",
       "      <th>Survived</th>\n",
       "    </tr>\n",
       "  </thead>\n",
       "  <tbody>\n",
       "    <tr>\n",
       "      <th>3</th>\n",
       "      <td>4</td>\n",
       "      <td>0.724138</td>\n",
       "    </tr>\n",
       "    <tr>\n",
       "      <th>2</th>\n",
       "      <td>3</td>\n",
       "      <td>0.578431</td>\n",
       "    </tr>\n",
       "    <tr>\n",
       "      <th>1</th>\n",
       "      <td>2</td>\n",
       "      <td>0.552795</td>\n",
       "    </tr>\n",
       "    <tr>\n",
       "      <th>6</th>\n",
       "      <td>7</td>\n",
       "      <td>0.333333</td>\n",
       "    </tr>\n",
       "    <tr>\n",
       "      <th>0</th>\n",
       "      <td>1</td>\n",
       "      <td>0.303538</td>\n",
       "    </tr>\n",
       "    <tr>\n",
       "      <th>4</th>\n",
       "      <td>5</td>\n",
       "      <td>0.200000</td>\n",
       "    </tr>\n",
       "    <tr>\n",
       "      <th>5</th>\n",
       "      <td>6</td>\n",
       "      <td>0.136364</td>\n",
       "    </tr>\n",
       "    <tr>\n",
       "      <th>7</th>\n",
       "      <td>8</td>\n",
       "      <td>0.000000</td>\n",
       "    </tr>\n",
       "    <tr>\n",
       "      <th>8</th>\n",
       "      <td>11</td>\n",
       "      <td>0.000000</td>\n",
       "    </tr>\n",
       "  </tbody>\n",
       "</table>\n",
       "</div>"
      ],
      "text/plain": [
       "   FamilySize  Survived\n",
       "3           4  0.724138\n",
       "2           3  0.578431\n",
       "1           2  0.552795\n",
       "6           7  0.333333\n",
       "0           1  0.303538\n",
       "4           5  0.200000\n",
       "5           6  0.136364\n",
       "7           8  0.000000\n",
       "8          11  0.000000"
      ]
     },
     "execution_count": 37,
     "metadata": {},
     "output_type": "execute_result"
    }
   ],
   "source": [
    "# Create new feature FamilySize as a combination of SibSp and Parch\n",
    "for dataset in full_data:\n",
    "    dataset['FamilySize'] = dataset['SibSp'] + dataset['Parch'] + 1\n",
    "\n",
    "train[['FamilySize', 'Survived']].groupby(['FamilySize'], as_index=False).mean().sort_values(by='Survived', ascending=False)\n",
    "# train.head(1)"
   ]
  },
  {
   "cell_type": "code",
   "execution_count": 38,
   "id": "322adaa4",
   "metadata": {
    "execution": {
     "iopub.execute_input": "2024-01-30T13:11:12.963374Z",
     "iopub.status.busy": "2024-01-30T13:11:12.963065Z",
     "iopub.status.idle": "2024-01-30T13:11:12.983874Z",
     "shell.execute_reply": "2024-01-30T13:11:12.982779Z"
    },
    "papermill": {
     "duration": 0.04619,
     "end_time": "2024-01-30T13:11:12.985732",
     "exception": false,
     "start_time": "2024-01-30T13:11:12.939542",
     "status": "completed"
    },
    "tags": []
   },
   "outputs": [
    {
     "data": {
      "text/html": [
       "<div>\n",
       "<style scoped>\n",
       "    .dataframe tbody tr th:only-of-type {\n",
       "        vertical-align: middle;\n",
       "    }\n",
       "\n",
       "    .dataframe tbody tr th {\n",
       "        vertical-align: top;\n",
       "    }\n",
       "\n",
       "    .dataframe thead th {\n",
       "        text-align: right;\n",
       "    }\n",
       "</style>\n",
       "<table border=\"1\" class=\"dataframe\">\n",
       "  <thead>\n",
       "    <tr style=\"text-align: right;\">\n",
       "      <th></th>\n",
       "      <th>Chance</th>\n",
       "      <th>Survived</th>\n",
       "    </tr>\n",
       "  </thead>\n",
       "  <tbody>\n",
       "    <tr>\n",
       "      <th>0</th>\n",
       "      <td>0</td>\n",
       "      <td>0</td>\n",
       "    </tr>\n",
       "    <tr>\n",
       "      <th>1</th>\n",
       "      <td>1</td>\n",
       "      <td>0</td>\n",
       "    </tr>\n",
       "    <tr>\n",
       "      <th>2</th>\n",
       "      <td>2</td>\n",
       "      <td>0</td>\n",
       "    </tr>\n",
       "    <tr>\n",
       "      <th>3</th>\n",
       "      <td>3</td>\n",
       "      <td>0</td>\n",
       "    </tr>\n",
       "    <tr>\n",
       "      <th>4</th>\n",
       "      <td>4</td>\n",
       "      <td>0</td>\n",
       "    </tr>\n",
       "  </tbody>\n",
       "</table>\n",
       "</div>"
      ],
      "text/plain": [
       "   Chance  Survived\n",
       "0       0         0\n",
       "1       1         0\n",
       "2       2         0\n",
       "3       3         0\n",
       "4       4         0"
      ]
     },
     "execution_count": 38,
     "metadata": {},
     "output_type": "execute_result"
    }
   ],
   "source": [
    "for dataset in full_data:\n",
    "    dataset.loc[(dataset['FamilySize'] == 8) | (dataset['FamilySize'] == 11), 'Chance'] = 0\n",
    "    dataset.loc[(dataset['FamilySize'] == 5) | (dataset['FamilySize'] == 6), 'Chance'] = 1\n",
    "    dataset.loc[(dataset['FamilySize'] == 1) | (dataset['FamilySize'] == 7), 'Chance'] = 2\n",
    "    dataset.loc[(dataset['FamilySize'] == 2) | (dataset['FamilySize'] == 3), 'Chance'] = 3\n",
    "    dataset.loc[dataset['FamilySize'] == 4, 'Chance'] = 4\n",
    "        \n",
    "train[['Chance', 'Survived']].groupby(['Chance'], as_index=False).mean().astype(int)"
   ]
  },
  {
   "cell_type": "code",
   "execution_count": 39,
   "id": "e4777b12",
   "metadata": {
    "execution": {
     "iopub.execute_input": "2024-01-30T13:11:13.032366Z",
     "iopub.status.busy": "2024-01-30T13:11:13.031994Z",
     "iopub.status.idle": "2024-01-30T13:11:13.046402Z",
     "shell.execute_reply": "2024-01-30T13:11:13.045420Z"
    },
    "papermill": {
     "duration": 0.040835,
     "end_time": "2024-01-30T13:11:13.048124",
     "exception": false,
     "start_time": "2024-01-30T13:11:13.007289",
     "status": "completed"
    },
    "tags": []
   },
   "outputs": [
    {
     "data": {
      "text/html": [
       "<div>\n",
       "<style scoped>\n",
       "    .dataframe tbody tr th:only-of-type {\n",
       "        vertical-align: middle;\n",
       "    }\n",
       "\n",
       "    .dataframe tbody tr th {\n",
       "        vertical-align: top;\n",
       "    }\n",
       "\n",
       "    .dataframe thead th {\n",
       "        text-align: right;\n",
       "    }\n",
       "</style>\n",
       "<table border=\"1\" class=\"dataframe\">\n",
       "  <thead>\n",
       "    <tr style=\"text-align: right;\">\n",
       "      <th></th>\n",
       "      <th>Survived</th>\n",
       "      <th>Pclass</th>\n",
       "      <th>Sex</th>\n",
       "      <th>Age</th>\n",
       "      <th>Fare</th>\n",
       "      <th>Cabin</th>\n",
       "      <th>Embarked</th>\n",
       "      <th>Title</th>\n",
       "      <th>Chance</th>\n",
       "    </tr>\n",
       "  </thead>\n",
       "  <tbody>\n",
       "    <tr>\n",
       "      <th>0</th>\n",
       "      <td>0</td>\n",
       "      <td>3</td>\n",
       "      <td>1</td>\n",
       "      <td>2</td>\n",
       "      <td>7.25</td>\n",
       "      <td>0</td>\n",
       "      <td>S</td>\n",
       "      <td>1</td>\n",
       "      <td>3.0</td>\n",
       "    </tr>\n",
       "  </tbody>\n",
       "</table>\n",
       "</div>"
      ],
      "text/plain": [
       "   Survived  Pclass  Sex  Age  Fare  Cabin Embarked  Title  Chance\n",
       "0         0       3    1    2  7.25      0        S      1     3.0"
      ]
     },
     "execution_count": 39,
     "metadata": {},
     "output_type": "execute_result"
    }
   ],
   "source": [
    "train = train.drop(['Parch', 'SibSp', 'FamilySize'], axis=1)\n",
    "test = test.drop(['Parch', 'SibSp', 'FamilySize'], axis=1)\n",
    "full_data = [train, test]\n",
    "\n",
    "train.head(1)"
   ]
  },
  {
   "cell_type": "code",
   "execution_count": 40,
   "id": "0d522f95",
   "metadata": {
    "execution": {
     "iopub.execute_input": "2024-01-30T13:11:13.092943Z",
     "iopub.status.busy": "2024-01-30T13:11:13.092572Z",
     "iopub.status.idle": "2024-01-30T13:11:13.100023Z",
     "shell.execute_reply": "2024-01-30T13:11:13.099137Z"
    },
    "papermill": {
     "duration": 0.032326,
     "end_time": "2024-01-30T13:11:13.102213",
     "exception": false,
     "start_time": "2024-01-30T13:11:13.069887",
     "status": "completed"
    },
    "tags": []
   },
   "outputs": [
    {
     "data": {
      "text/plain": [
       "'S'"
      ]
     },
     "execution_count": 40,
     "metadata": {},
     "output_type": "execute_result"
    }
   ],
   "source": [
    "freq_port = train.Embarked.dropna().mode()[0]\n",
    "freq_port"
   ]
  },
  {
   "cell_type": "code",
   "execution_count": 41,
   "id": "63daa476",
   "metadata": {
    "execution": {
     "iopub.execute_input": "2024-01-30T13:11:13.147868Z",
     "iopub.status.busy": "2024-01-30T13:11:13.147458Z",
     "iopub.status.idle": "2024-01-30T13:11:13.160109Z",
     "shell.execute_reply": "2024-01-30T13:11:13.159320Z"
    },
    "papermill": {
     "duration": 0.03766,
     "end_time": "2024-01-30T13:11:13.161882",
     "exception": false,
     "start_time": "2024-01-30T13:11:13.124222",
     "status": "completed"
    },
    "tags": []
   },
   "outputs": [
    {
     "data": {
      "text/html": [
       "<div>\n",
       "<style scoped>\n",
       "    .dataframe tbody tr th:only-of-type {\n",
       "        vertical-align: middle;\n",
       "    }\n",
       "\n",
       "    .dataframe tbody tr th {\n",
       "        vertical-align: top;\n",
       "    }\n",
       "\n",
       "    .dataframe thead th {\n",
       "        text-align: right;\n",
       "    }\n",
       "</style>\n",
       "<table border=\"1\" class=\"dataframe\">\n",
       "  <thead>\n",
       "    <tr style=\"text-align: right;\">\n",
       "      <th></th>\n",
       "      <th>Embarked</th>\n",
       "      <th>Survived</th>\n",
       "    </tr>\n",
       "  </thead>\n",
       "  <tbody>\n",
       "    <tr>\n",
       "      <th>0</th>\n",
       "      <td>C</td>\n",
       "      <td>0.553571</td>\n",
       "    </tr>\n",
       "    <tr>\n",
       "      <th>1</th>\n",
       "      <td>Q</td>\n",
       "      <td>0.389610</td>\n",
       "    </tr>\n",
       "    <tr>\n",
       "      <th>2</th>\n",
       "      <td>S</td>\n",
       "      <td>0.339009</td>\n",
       "    </tr>\n",
       "  </tbody>\n",
       "</table>\n",
       "</div>"
      ],
      "text/plain": [
       "  Embarked  Survived\n",
       "0        C  0.553571\n",
       "1        Q  0.389610\n",
       "2        S  0.339009"
      ]
     },
     "execution_count": 41,
     "metadata": {},
     "output_type": "execute_result"
    }
   ],
   "source": [
    "for dataset in full_data:\n",
    "    dataset['Embarked'] = dataset['Embarked'].fillna('S')\n",
    "train[['Embarked', 'Survived']].groupby(['Embarked'], as_index=False).mean().sort_values(by='Survived', ascending=False)\n",
    "# print(test.info())"
   ]
  },
  {
   "cell_type": "code",
   "execution_count": 42,
   "id": "23c19248",
   "metadata": {
    "execution": {
     "iopub.execute_input": "2024-01-30T13:11:13.209854Z",
     "iopub.status.busy": "2024-01-30T13:11:13.209466Z",
     "iopub.status.idle": "2024-01-30T13:11:13.223712Z",
     "shell.execute_reply": "2024-01-30T13:11:13.222744Z"
    },
    "papermill": {
     "duration": 0.03998,
     "end_time": "2024-01-30T13:11:13.225520",
     "exception": false,
     "start_time": "2024-01-30T13:11:13.185540",
     "status": "completed"
    },
    "tags": []
   },
   "outputs": [
    {
     "data": {
      "text/html": [
       "<div>\n",
       "<style scoped>\n",
       "    .dataframe tbody tr th:only-of-type {\n",
       "        vertical-align: middle;\n",
       "    }\n",
       "\n",
       "    .dataframe tbody tr th {\n",
       "        vertical-align: top;\n",
       "    }\n",
       "\n",
       "    .dataframe thead th {\n",
       "        text-align: right;\n",
       "    }\n",
       "</style>\n",
       "<table border=\"1\" class=\"dataframe\">\n",
       "  <thead>\n",
       "    <tr style=\"text-align: right;\">\n",
       "      <th></th>\n",
       "      <th>Survived</th>\n",
       "      <th>Pclass</th>\n",
       "      <th>Sex</th>\n",
       "      <th>Age</th>\n",
       "      <th>Fare</th>\n",
       "      <th>Cabin</th>\n",
       "      <th>Embarked</th>\n",
       "      <th>Title</th>\n",
       "      <th>Chance</th>\n",
       "    </tr>\n",
       "  </thead>\n",
       "  <tbody>\n",
       "    <tr>\n",
       "      <th>0</th>\n",
       "      <td>0</td>\n",
       "      <td>3</td>\n",
       "      <td>1</td>\n",
       "      <td>2</td>\n",
       "      <td>7.2500</td>\n",
       "      <td>0</td>\n",
       "      <td>0</td>\n",
       "      <td>1</td>\n",
       "      <td>3</td>\n",
       "    </tr>\n",
       "    <tr>\n",
       "      <th>1</th>\n",
       "      <td>1</td>\n",
       "      <td>1</td>\n",
       "      <td>0</td>\n",
       "      <td>3</td>\n",
       "      <td>71.2833</td>\n",
       "      <td>1</td>\n",
       "      <td>1</td>\n",
       "      <td>3</td>\n",
       "      <td>3</td>\n",
       "    </tr>\n",
       "    <tr>\n",
       "      <th>2</th>\n",
       "      <td>1</td>\n",
       "      <td>3</td>\n",
       "      <td>0</td>\n",
       "      <td>2</td>\n",
       "      <td>7.9250</td>\n",
       "      <td>2</td>\n",
       "      <td>0</td>\n",
       "      <td>2</td>\n",
       "      <td>2</td>\n",
       "    </tr>\n",
       "  </tbody>\n",
       "</table>\n",
       "</div>"
      ],
      "text/plain": [
       "   Survived  Pclass  Sex  Age     Fare  Cabin  Embarked  Title  Chance\n",
       "0         0       3    1    2   7.2500      0         0      1       3\n",
       "1         1       1    0    3  71.2833      1         1      3       3\n",
       "2         1       3    0    2   7.9250      2         0      2       2"
      ]
     },
     "execution_count": 42,
     "metadata": {},
     "output_type": "execute_result"
    }
   ],
   "source": [
    "for dataset in full_data:\n",
    "    # Mapping Embarked\n",
    "    dataset['Embarked'] = dataset['Embarked'].map( {'S': 0, 'C': 1, 'Q': 2} )\n",
    "    # Convert to integer type\n",
    "    dataset['Embarked'] = dataset['Embarked'].astype(int)    \n",
    "    dataset['Chance'] = dataset['Chance'].astype(int)\n",
    "\n",
    "train.head(3)"
   ]
  },
  {
   "cell_type": "code",
   "execution_count": 43,
   "id": "ee513149",
   "metadata": {
    "execution": {
     "iopub.execute_input": "2024-01-30T13:11:13.273580Z",
     "iopub.status.busy": "2024-01-30T13:11:13.273225Z",
     "iopub.status.idle": "2024-01-30T13:11:13.276780Z",
     "shell.execute_reply": "2024-01-30T13:11:13.276014Z"
    },
    "papermill": {
     "duration": 0.029471,
     "end_time": "2024-01-30T13:11:13.278304",
     "exception": false,
     "start_time": "2024-01-30T13:11:13.248833",
     "status": "completed"
    },
    "tags": []
   },
   "outputs": [],
   "source": [
    "# print(set(train.Age))\n",
    "# print(set(train.Pclass))"
   ]
  },
  {
   "cell_type": "code",
   "execution_count": 44,
   "id": "2cae6fa5",
   "metadata": {
    "execution": {
     "iopub.execute_input": "2024-01-30T13:11:13.325580Z",
     "iopub.status.busy": "2024-01-30T13:11:13.325239Z",
     "iopub.status.idle": "2024-01-30T13:11:13.337866Z",
     "shell.execute_reply": "2024-01-30T13:11:13.336882Z"
    },
    "papermill": {
     "duration": 0.038669,
     "end_time": "2024-01-30T13:11:13.339936",
     "exception": false,
     "start_time": "2024-01-30T13:11:13.301267",
     "status": "completed"
    },
    "tags": []
   },
   "outputs": [
    {
     "data": {
      "text/html": [
       "<div>\n",
       "<style scoped>\n",
       "    .dataframe tbody tr th:only-of-type {\n",
       "        vertical-align: middle;\n",
       "    }\n",
       "\n",
       "    .dataframe tbody tr th {\n",
       "        vertical-align: top;\n",
       "    }\n",
       "\n",
       "    .dataframe thead th {\n",
       "        text-align: right;\n",
       "    }\n",
       "</style>\n",
       "<table border=\"1\" class=\"dataframe\">\n",
       "  <thead>\n",
       "    <tr style=\"text-align: right;\">\n",
       "      <th></th>\n",
       "      <th>Age*Class</th>\n",
       "      <th>Age</th>\n",
       "      <th>Pclass</th>\n",
       "    </tr>\n",
       "  </thead>\n",
       "  <tbody>\n",
       "    <tr>\n",
       "      <th>0</th>\n",
       "      <td>6</td>\n",
       "      <td>2</td>\n",
       "      <td>3</td>\n",
       "    </tr>\n",
       "    <tr>\n",
       "      <th>1</th>\n",
       "      <td>3</td>\n",
       "      <td>3</td>\n",
       "      <td>1</td>\n",
       "    </tr>\n",
       "    <tr>\n",
       "      <th>2</th>\n",
       "      <td>6</td>\n",
       "      <td>2</td>\n",
       "      <td>3</td>\n",
       "    </tr>\n",
       "    <tr>\n",
       "      <th>3</th>\n",
       "      <td>3</td>\n",
       "      <td>3</td>\n",
       "      <td>1</td>\n",
       "    </tr>\n",
       "    <tr>\n",
       "      <th>4</th>\n",
       "      <td>9</td>\n",
       "      <td>3</td>\n",
       "      <td>3</td>\n",
       "    </tr>\n",
       "    <tr>\n",
       "      <th>5</th>\n",
       "      <td>6</td>\n",
       "      <td>2</td>\n",
       "      <td>3</td>\n",
       "    </tr>\n",
       "    <tr>\n",
       "      <th>6</th>\n",
       "      <td>4</td>\n",
       "      <td>4</td>\n",
       "      <td>1</td>\n",
       "    </tr>\n",
       "    <tr>\n",
       "      <th>7</th>\n",
       "      <td>3</td>\n",
       "      <td>1</td>\n",
       "      <td>3</td>\n",
       "    </tr>\n",
       "    <tr>\n",
       "      <th>8</th>\n",
       "      <td>6</td>\n",
       "      <td>2</td>\n",
       "      <td>3</td>\n",
       "    </tr>\n",
       "    <tr>\n",
       "      <th>9</th>\n",
       "      <td>2</td>\n",
       "      <td>1</td>\n",
       "      <td>2</td>\n",
       "    </tr>\n",
       "  </tbody>\n",
       "</table>\n",
       "</div>"
      ],
      "text/plain": [
       "   Age*Class  Age  Pclass\n",
       "0          6    2       3\n",
       "1          3    3       1\n",
       "2          6    2       3\n",
       "3          3    3       1\n",
       "4          9    3       3\n",
       "5          6    2       3\n",
       "6          4    4       1\n",
       "7          3    1       3\n",
       "8          6    2       3\n",
       "9          2    1       2"
      ]
     },
     "execution_count": 44,
     "metadata": {},
     "output_type": "execute_result"
    }
   ],
   "source": [
    "#We can also create an artificial feature combining Pclass and Age.\n",
    "for dataset in full_data:\n",
    "    dataset['Age*Class'] = dataset.Age * dataset.Pclass\n",
    "\n",
    "train.loc[:, ['Age*Class', 'Age', 'Pclass']].head(10)"
   ]
  },
  {
   "cell_type": "code",
   "execution_count": 45,
   "id": "285c179b",
   "metadata": {
    "execution": {
     "iopub.execute_input": "2024-01-30T13:11:13.386199Z",
     "iopub.status.busy": "2024-01-30T13:11:13.385759Z",
     "iopub.status.idle": "2024-01-30T13:11:13.390167Z",
     "shell.execute_reply": "2024-01-30T13:11:13.389322Z"
    },
    "papermill": {
     "duration": 0.030333,
     "end_time": "2024-01-30T13:11:13.392726",
     "exception": false,
     "start_time": "2024-01-30T13:11:13.362393",
     "status": "completed"
    },
    "tags": []
   },
   "outputs": [],
   "source": [
    "# train = train.drop(['Age', 'Pclass'], axis=1)\n",
    "# test = test.drop(['Age', 'Pclass'], axis=1)\n",
    "# full_data = [train, test]\n",
    "# train.head(3)"
   ]
  },
  {
   "cell_type": "code",
   "execution_count": 46,
   "id": "4fc9194d",
   "metadata": {
    "execution": {
     "iopub.execute_input": "2024-01-30T13:11:13.442731Z",
     "iopub.status.busy": "2024-01-30T13:11:13.442065Z",
     "iopub.status.idle": "2024-01-30T13:11:13.458268Z",
     "shell.execute_reply": "2024-01-30T13:11:13.457378Z"
    },
    "papermill": {
     "duration": 0.042026,
     "end_time": "2024-01-30T13:11:13.460137",
     "exception": false,
     "start_time": "2024-01-30T13:11:13.418111",
     "status": "completed"
    },
    "tags": []
   },
   "outputs": [
    {
     "data": {
      "text/html": [
       "<div>\n",
       "<style scoped>\n",
       "    .dataframe tbody tr th:only-of-type {\n",
       "        vertical-align: middle;\n",
       "    }\n",
       "\n",
       "    .dataframe tbody tr th {\n",
       "        vertical-align: top;\n",
       "    }\n",
       "\n",
       "    .dataframe thead th {\n",
       "        text-align: right;\n",
       "    }\n",
       "</style>\n",
       "<table border=\"1\" class=\"dataframe\">\n",
       "  <thead>\n",
       "    <tr style=\"text-align: right;\">\n",
       "      <th></th>\n",
       "      <th>Fare</th>\n",
       "      <th>Survived</th>\n",
       "    </tr>\n",
       "  </thead>\n",
       "  <tbody>\n",
       "    <tr>\n",
       "      <th>0</th>\n",
       "      <td>1</td>\n",
       "      <td>0.197309</td>\n",
       "    </tr>\n",
       "    <tr>\n",
       "      <th>1</th>\n",
       "      <td>2</td>\n",
       "      <td>0.308756</td>\n",
       "    </tr>\n",
       "    <tr>\n",
       "      <th>2</th>\n",
       "      <td>3</td>\n",
       "      <td>0.442478</td>\n",
       "    </tr>\n",
       "    <tr>\n",
       "      <th>3</th>\n",
       "      <td>4</td>\n",
       "      <td>0.582222</td>\n",
       "    </tr>\n",
       "  </tbody>\n",
       "</table>\n",
       "</div>"
      ],
      "text/plain": [
       "   Fare  Survived\n",
       "0     1  0.197309\n",
       "1     2  0.308756\n",
       "2     3  0.442478\n",
       "3     4  0.582222"
      ]
     },
     "execution_count": 46,
     "metadata": {},
     "output_type": "execute_result"
    }
   ],
   "source": [
    "# Define the bins and labels for Fare column\n",
    "bins_Fare = [0, 7.91, 14.45, 31, 600]\n",
    "labels_Fare = [1, 2, 3, 4]\n",
    "\n",
    "for dataset in full_data:\n",
    "    # Mapping Fare\n",
    "    dataset['Fare'] = dataset['Fare'].fillna(dataset['Fare'].mean())\n",
    "    dataset['Fare'] = pd.cut(dataset['Fare'], bins=bins_Fare, labels=labels_Fare, right=False).astype(int)\n",
    "\n",
    "train[['Fare', 'Survived']].groupby(['Fare'], as_index=False).mean().sort_values(by='Survived', ascending=True)"
   ]
  },
  {
   "cell_type": "markdown",
   "id": "9f7c87b5",
   "metadata": {
    "papermill": {
     "duration": 0.022611,
     "end_time": "2024-01-30T13:11:13.506354",
     "exception": false,
     "start_time": "2024-01-30T13:11:13.483743",
     "status": "completed"
    },
    "tags": []
   },
   "source": [
    "# 4. Data Frame: Make it Ready for Train"
   ]
  },
  {
   "cell_type": "code",
   "execution_count": 47,
   "id": "e6f14bf7",
   "metadata": {
    "execution": {
     "iopub.execute_input": "2024-01-30T13:11:13.553908Z",
     "iopub.status.busy": "2024-01-30T13:11:13.552962Z",
     "iopub.status.idle": "2024-01-30T13:11:13.563904Z",
     "shell.execute_reply": "2024-01-30T13:11:13.563086Z"
    },
    "papermill": {
     "duration": 0.037115,
     "end_time": "2024-01-30T13:11:13.566183",
     "exception": false,
     "start_time": "2024-01-30T13:11:13.529068",
     "status": "completed"
    },
    "tags": []
   },
   "outputs": [
    {
     "data": {
      "text/html": [
       "<div>\n",
       "<style scoped>\n",
       "    .dataframe tbody tr th:only-of-type {\n",
       "        vertical-align: middle;\n",
       "    }\n",
       "\n",
       "    .dataframe tbody tr th {\n",
       "        vertical-align: top;\n",
       "    }\n",
       "\n",
       "    .dataframe thead th {\n",
       "        text-align: right;\n",
       "    }\n",
       "</style>\n",
       "<table border=\"1\" class=\"dataframe\">\n",
       "  <thead>\n",
       "    <tr style=\"text-align: right;\">\n",
       "      <th></th>\n",
       "      <th>PassengerId</th>\n",
       "      <th>Pclass</th>\n",
       "      <th>Sex</th>\n",
       "      <th>Age</th>\n",
       "      <th>Fare</th>\n",
       "      <th>Cabin</th>\n",
       "      <th>Embarked</th>\n",
       "      <th>Title</th>\n",
       "      <th>Chance</th>\n",
       "      <th>Age*Class</th>\n",
       "    </tr>\n",
       "  </thead>\n",
       "  <tbody>\n",
       "    <tr>\n",
       "      <th>891</th>\n",
       "      <td>892</td>\n",
       "      <td>3</td>\n",
       "      <td>1</td>\n",
       "      <td>3</td>\n",
       "      <td>1</td>\n",
       "      <td>696</td>\n",
       "      <td>2</td>\n",
       "      <td>1</td>\n",
       "      <td>2</td>\n",
       "      <td>9</td>\n",
       "    </tr>\n",
       "    <tr>\n",
       "      <th>892</th>\n",
       "      <td>893</td>\n",
       "      <td>3</td>\n",
       "      <td>0</td>\n",
       "      <td>3</td>\n",
       "      <td>1</td>\n",
       "      <td>697</td>\n",
       "      <td>0</td>\n",
       "      <td>3</td>\n",
       "      <td>3</td>\n",
       "      <td>9</td>\n",
       "    </tr>\n",
       "    <tr>\n",
       "      <th>893</th>\n",
       "      <td>894</td>\n",
       "      <td>2</td>\n",
       "      <td>1</td>\n",
       "      <td>4</td>\n",
       "      <td>2</td>\n",
       "      <td>698</td>\n",
       "      <td>2</td>\n",
       "      <td>1</td>\n",
       "      <td>2</td>\n",
       "      <td>8</td>\n",
       "    </tr>\n",
       "  </tbody>\n",
       "</table>\n",
       "</div>"
      ],
      "text/plain": [
       "     PassengerId  Pclass  Sex  Age  Fare  Cabin  Embarked  Title  Chance  \\\n",
       "891          892       3    1    3     1    696         2      1       2   \n",
       "892          893       3    0    3     1    697         0      3       3   \n",
       "893          894       2    1    4     2    698         2      1       2   \n",
       "\n",
       "     Age*Class  \n",
       "891          9  \n",
       "892          9  \n",
       "893          8  "
      ]
     },
     "execution_count": 47,
     "metadata": {},
     "output_type": "execute_result"
    }
   ],
   "source": [
    "test.head(3)"
   ]
  },
  {
   "cell_type": "code",
   "execution_count": 48,
   "id": "d627baef",
   "metadata": {
    "execution": {
     "iopub.execute_input": "2024-01-30T13:11:13.612508Z",
     "iopub.status.busy": "2024-01-30T13:11:13.612115Z",
     "iopub.status.idle": "2024-01-30T13:11:13.619022Z",
     "shell.execute_reply": "2024-01-30T13:11:13.618397Z"
    },
    "papermill": {
     "duration": 0.031486,
     "end_time": "2024-01-30T13:11:13.620448",
     "exception": false,
     "start_time": "2024-01-30T13:11:13.588962",
     "status": "completed"
    },
    "tags": []
   },
   "outputs": [
    {
     "data": {
      "text/plain": [
       "891      892\n",
       "892      893\n",
       "893      894\n",
       "894      895\n",
       "895      896\n",
       "        ... \n",
       "1304    1305\n",
       "1305    1306\n",
       "1306    1307\n",
       "1307    1308\n",
       "1308    1309\n",
       "Name: PassengerId, Length: 418, dtype: int64"
      ]
     },
     "execution_count": 48,
     "metadata": {},
     "output_type": "execute_result"
    }
   ],
   "source": [
    "testPassengerIds = test.PassengerId\n",
    "testPassengerIds"
   ]
  },
  {
   "cell_type": "code",
   "execution_count": 49,
   "id": "6887c39c",
   "metadata": {
    "execution": {
     "iopub.execute_input": "2024-01-30T13:11:13.665695Z",
     "iopub.status.busy": "2024-01-30T13:11:13.664672Z",
     "iopub.status.idle": "2024-01-30T13:11:14.178937Z",
     "shell.execute_reply": "2024-01-30T13:11:14.178113Z"
    },
    "papermill": {
     "duration": 0.541259,
     "end_time": "2024-01-30T13:11:14.183081",
     "exception": false,
     "start_time": "2024-01-30T13:11:13.641822",
     "status": "completed"
    },
    "tags": []
   },
   "outputs": [
    {
     "data": {
      "text/plain": [
       "<Axes: title={'center': 'Correlation of Features'}>"
      ]
     },
     "execution_count": 49,
     "metadata": {},
     "output_type": "execute_result"
    },
    {
     "data": {
      "image/png": "[encoded data removed]",
      "text/plain": [
       "<Figure size 1400x1200 with 2 Axes>"
      ]
     },
     "metadata": {},
     "output_type": "display_data"
    }
   ],
   "source": [
    "newTrain = train\n",
    "newTest = test\n",
    "# Feature selection\n",
    "# drop_elements = ['PassengerId', 'Name', 'Ticket', 'Cabin','SibSp','Parch']\n",
    "\n",
    "survived_train = newTrain['Survived']\n",
    "\n",
    "newTrain = newTrain.drop(['Survived'], axis = 1)\n",
    "\n",
    "# newTrain = newTrain.drop(drop_elements, axis = 1)\n",
    "\n",
    "newTest  = newTest.drop(['PassengerId'], axis = 1)\n",
    "\n",
    "# print(newTrain.info())\n",
    "# print(newTest.info())\n",
    "numeric_columns = newTrain.select_dtypes(include=['int64', 'float64'])\n",
    "colormap = plt.cm.RdBu\n",
    "plt.figure(figsize=(14,12))\n",
    "plt.title('Correlation of Features', y=1.05, size=15)\n",
    "sns.heatmap(numeric_columns.corr(),linewidths=0.1,vmax=1.0, \n",
    "            square=True, cmap=colormap, linecolor='white', annot=True)"
   ]
  },
  {
   "cell_type": "markdown",
   "id": "e98b00f3",
   "metadata": {
    "papermill": {
     "duration": 0.024275,
     "end_time": "2024-01-30T13:11:14.233321",
     "exception": false,
     "start_time": "2024-01-30T13:11:14.209046",
     "status": "completed"
    },
    "tags": []
   },
   "source": [
    "# 3.Using different Models\n",
    ">Logistic Regression\n",
    "\n",
    ">KNN or k-Nearest Neighbors\n",
    "\n",
    ">Support Vector Machines\n",
    "\n",
    ">Naive Bayes classifier\n",
    "\n",
    ">Decision Tree\n",
    "\n",
    ">Random Forrest\n",
    "\n",
    ">Perceptron\n",
    "\n",
    ">Artificial neural network\n",
    "\n",
    ">RVM or Relevance Vector Machine"
   ]
  },
  {
   "cell_type": "markdown",
   "id": "296a1c0f",
   "metadata": {
    "papermill": {
     "duration": 0.02444,
     "end_time": "2024-01-30T13:11:14.282741",
     "exception": false,
     "start_time": "2024-01-30T13:11:14.258301",
     "status": "completed"
    },
    "tags": []
   },
   "source": [
    "# 3.1.Logistic Regression [Predicted(%78.708)]"
   ]
  },
  {
   "cell_type": "code",
   "execution_count": 50,
   "id": "88fdaca1",
   "metadata": {
    "execution": {
     "iopub.execute_input": "2024-01-30T13:11:14.335150Z",
     "iopub.status.busy": "2024-01-30T13:11:14.334330Z",
     "iopub.status.idle": "2024-01-30T13:11:14.337967Z",
     "shell.execute_reply": "2024-01-30T13:11:14.337416Z"
    },
    "papermill": {
     "duration": 0.031033,
     "end_time": "2024-01-30T13:11:14.339397",
     "exception": false,
     "start_time": "2024-01-30T13:11:14.308364",
     "status": "completed"
    },
    "tags": []
   },
   "outputs": [],
   "source": [
    "# from sklearn.linear_model import LogisticRegression\n",
    "\n",
    "# #adding Logistic regeression model\n",
    "# logmodel = LogisticRegression(max_iter=10000)\n",
    "\n",
    "# #training model with the train data\n",
    "# logmodel.fit(newTrain, survived_train)\n",
    "\n",
    "# #Try to get the pridiction with data\n",
    "# predictions = logmodel.predict(newTest)\n",
    "# predictions"
   ]
  },
  {
   "cell_type": "code",
   "execution_count": 51,
   "id": "f2385864",
   "metadata": {
    "execution": {
     "iopub.execute_input": "2024-01-30T13:11:14.391829Z",
     "iopub.status.busy": "2024-01-30T13:11:14.390057Z",
     "iopub.status.idle": "2024-01-30T13:11:14.395276Z",
     "shell.execute_reply": "2024-01-30T13:11:14.394659Z"
    },
    "papermill": {
     "duration": 0.033639,
     "end_time": "2024-01-30T13:11:14.396958",
     "exception": false,
     "start_time": "2024-01-30T13:11:14.363319",
     "status": "completed"
    },
    "tags": []
   },
   "outputs": [],
   "source": [
    "# # Logistic Regression\n",
    "\n",
    "# logreg = LogisticRegression()\n",
    "# logreg.fit(newTrain, survived_train)\n",
    "# predictions = logreg.predict(newTest)\n",
    "# acc_log = round(logreg.score(newTrain, survived_train) * 100, 2)\n",
    "# acc_log"
   ]
  },
  {
   "cell_type": "markdown",
   "id": "1040808e",
   "metadata": {
    "papermill": {
     "duration": 0.022717,
     "end_time": "2024-01-30T13:11:14.443468",
     "exception": false,
     "start_time": "2024-01-30T13:11:14.420751",
     "status": "completed"
    },
    "tags": []
   },
   "source": [
    "# 3.2.KNN or k-Nearest Neighbors  [Predicted(%62.2)]"
   ]
  },
  {
   "cell_type": "code",
   "execution_count": 52,
   "id": "0f3d50f7",
   "metadata": {
    "execution": {
     "iopub.execute_input": "2024-01-30T13:11:14.493832Z",
     "iopub.status.busy": "2024-01-30T13:11:14.493439Z",
     "iopub.status.idle": "2024-01-30T13:11:14.563959Z",
     "shell.execute_reply": "2024-01-30T13:11:14.562931Z"
    },
    "papermill": {
     "duration": 0.098864,
     "end_time": "2024-01-30T13:11:14.565888",
     "exception": false,
     "start_time": "2024-01-30T13:11:14.467024",
     "status": "completed"
    },
    "tags": []
   },
   "outputs": [
    {
     "data": {
      "text/plain": [
       "84.29"
      ]
     },
     "execution_count": 52,
     "metadata": {},
     "output_type": "execute_result"
    }
   ],
   "source": [
    "knn = KNeighborsClassifier(n_neighbors = 3)\n",
    "knn.fit(newTrain, survived_train)\n",
    "predictions = knn.predict(newTest)\n",
    "acc_knn = round(knn.score(newTrain, survived_train) * 100, 2)\n",
    "acc_knn"
   ]
  },
  {
   "cell_type": "markdown",
   "id": "28ca65f2",
   "metadata": {
    "papermill": {
     "duration": 0.028145,
     "end_time": "2024-01-30T13:11:14.619711",
     "exception": false,
     "start_time": "2024-01-30T13:11:14.591566",
     "status": "completed"
    },
    "tags": []
   },
   "source": [
    "# 3.3.Support Vector Machines  [Predicted(%62.2)]"
   ]
  },
  {
   "cell_type": "code",
   "execution_count": 53,
   "id": "3b03c94a",
   "metadata": {
    "execution": {
     "iopub.execute_input": "2024-01-30T13:11:14.674731Z",
     "iopub.status.busy": "2024-01-30T13:11:14.674296Z",
     "iopub.status.idle": "2024-01-30T13:11:14.678322Z",
     "shell.execute_reply": "2024-01-30T13:11:14.677523Z"
    },
    "papermill": {
     "duration": 0.033046,
     "end_time": "2024-01-30T13:11:14.680033",
     "exception": false,
     "start_time": "2024-01-30T13:11:14.646987",
     "status": "completed"
    },
    "tags": []
   },
   "outputs": [],
   "source": [
    "# # Support Vector Machines\n",
    "# svc = SVC()\n",
    "# svc.fit(newTrain, survived_train)\n",
    "# predictions = svc.predict(newTest)\n",
    "# acc_svc = round(svc.score(newTrain, survived_train) * 100, 2)\n",
    "# acc_svc"
   ]
  },
  {
   "cell_type": "markdown",
   "id": "88cfbb43",
   "metadata": {
    "papermill": {
     "duration": 0.026142,
     "end_time": "2024-01-30T13:11:14.732129",
     "exception": false,
     "start_time": "2024-01-30T13:11:14.705987",
     "status": "completed"
    },
    "tags": []
   },
   "source": [
    "# 3.1.Decision Tree Classifier  [Predicted(%72)]"
   ]
  },
  {
   "cell_type": "code",
   "execution_count": 54,
   "id": "1b939c09",
   "metadata": {
    "execution": {
     "iopub.execute_input": "2024-01-30T13:11:14.785769Z",
     "iopub.status.busy": "2024-01-30T13:11:14.785111Z",
     "iopub.status.idle": "2024-01-30T13:11:14.788506Z",
     "shell.execute_reply": "2024-01-30T13:11:14.787965Z"
    },
    "papermill": {
     "duration": 0.031512,
     "end_time": "2024-01-30T13:11:14.789927",
     "exception": false,
     "start_time": "2024-01-30T13:11:14.758415",
     "status": "completed"
    },
    "tags": []
   },
   "outputs": [],
   "source": [
    "# from sklearn.tree import DecisionTreeClassifier\n",
    "\n",
    "# # Initialize a Decision Tree Classifier\n",
    "# model = DecisionTreeClassifier()\n",
    "\n",
    "# # Train the model\n",
    "# model.fit(newTrain, survived_train)\n",
    "\n",
    "# # Make predictions on the test set\n",
    "# predictions = model.predict(newTest)\n",
    "# predictions"
   ]
  },
  {
   "cell_type": "markdown",
   "id": "afb8229b",
   "metadata": {
    "papermill": {
     "duration": 0.024948,
     "end_time": "2024-01-30T13:11:14.839703",
     "exception": false,
     "start_time": "2024-01-30T13:11:14.814755",
     "status": "completed"
    },
    "tags": []
   },
   "source": [
    "# 3.3.XGBosst Classifier [Predicted(%00)]"
   ]
  },
  {
   "cell_type": "code",
   "execution_count": 55,
   "id": "62bd06b9",
   "metadata": {
    "execution": {
     "iopub.execute_input": "2024-01-30T13:11:14.890830Z",
     "iopub.status.busy": "2024-01-30T13:11:14.890158Z",
     "iopub.status.idle": "2024-01-30T13:11:14.894116Z",
     "shell.execute_reply": "2024-01-30T13:11:14.893433Z"
    },
    "papermill": {
     "duration": 0.031951,
     "end_time": "2024-01-30T13:11:14.895782",
     "exception": false,
     "start_time": "2024-01-30T13:11:14.863831",
     "status": "completed"
    },
    "tags": []
   },
   "outputs": [],
   "source": [
    "# gbm = xgb.XGBClassifier(\n",
    "#     #learning_rate = 0.02,\n",
    "#  n_estimators= 2000,\n",
    "#  max_depth= 4,\n",
    "#  min_child_weight= 2,\n",
    "#  #gamma=1,\n",
    "#  gamma=0.9,                        \n",
    "#  subsample=0.8,\n",
    "#  colsample_bytree=0.8,\n",
    "#  objective= 'binary:logistic',\n",
    "#  nthread= -1,\n",
    "#  scale_pos_weight=1).fit(newTrain, survived_train)\n",
    "\n",
    "# #Try to get the pridiction from the train data\n",
    "# predictions = gbm.predict(newTest)\n",
    "# predictions"
   ]
  },
  {
   "cell_type": "markdown",
   "id": "b0c42cbd",
   "metadata": {
    "papermill": {
     "duration": 0.023204,
     "end_time": "2024-01-30T13:11:14.943876",
     "exception": false,
     "start_time": "2024-01-30T13:11:14.920672",
     "status": "completed"
    },
    "tags": []
   },
   "source": [
    "# 4.Submit Answers"
   ]
  },
  {
   "cell_type": "code",
   "execution_count": 56,
   "id": "f4b042bd",
   "metadata": {
    "execution": {
     "iopub.execute_input": "2024-01-30T13:11:14.993708Z",
     "iopub.status.busy": "2024-01-30T13:11:14.993096Z",
     "iopub.status.idle": "2024-01-30T13:11:15.007028Z",
     "shell.execute_reply": "2024-01-30T13:11:15.006145Z"
    },
    "papermill": {
     "duration": 0.041742,
     "end_time": "2024-01-30T13:11:15.008868",
     "exception": false,
     "start_time": "2024-01-30T13:11:14.967126",
     "status": "completed"
    },
    "tags": []
   },
   "outputs": [
    {
     "data": {
      "text/html": [
       "<div>\n",
       "<style scoped>\n",
       "    .dataframe tbody tr th:only-of-type {\n",
       "        vertical-align: middle;\n",
       "    }\n",
       "\n",
       "    .dataframe tbody tr th {\n",
       "        vertical-align: top;\n",
       "    }\n",
       "\n",
       "    .dataframe thead th {\n",
       "        text-align: right;\n",
       "    }\n",
       "</style>\n",
       "<table border=\"1\" class=\"dataframe\">\n",
       "  <thead>\n",
       "    <tr style=\"text-align: right;\">\n",
       "      <th></th>\n",
       "      <th>PassengerId</th>\n",
       "      <th>Survived</th>\n",
       "    </tr>\n",
       "  </thead>\n",
       "  <tbody>\n",
       "    <tr>\n",
       "      <th>0</th>\n",
       "      <td>892</td>\n",
       "      <td>0</td>\n",
       "    </tr>\n",
       "    <tr>\n",
       "      <th>1</th>\n",
       "      <td>893</td>\n",
       "      <td>0</td>\n",
       "    </tr>\n",
       "    <tr>\n",
       "      <th>2</th>\n",
       "      <td>894</td>\n",
       "      <td>0</td>\n",
       "    </tr>\n",
       "    <tr>\n",
       "      <th>3</th>\n",
       "      <td>895</td>\n",
       "      <td>1</td>\n",
       "    </tr>\n",
       "    <tr>\n",
       "      <th>4</th>\n",
       "      <td>896</td>\n",
       "      <td>0</td>\n",
       "    </tr>\n",
       "  </tbody>\n",
       "</table>\n",
       "</div>"
      ],
      "text/plain": [
       "   PassengerId  Survived\n",
       "0          892         0\n",
       "1          893         0\n",
       "2          894         0\n",
       "3          895         1\n",
       "4          896         0"
      ]
     },
     "execution_count": 56,
     "metadata": {},
     "output_type": "execute_result"
    }
   ],
   "source": [
    "df_predictions = pd.DataFrame()\n",
    "df_predictions['PassengerId'] = pd.Series(testPassengerIds.T.values)\n",
    "df_predictions['Survived'] = pd.Series(predictions)\n",
    "df_predictions.to_csv(\"12th_ClassicTitanic_Attempt.csv\", sep=',', index=False)\n",
    "df_predictions.head(5)"
   ]
  },
  {
   "cell_type": "code",
   "execution_count": 57,
   "id": "b3c476d4",
   "metadata": {
    "execution": {
     "iopub.execute_input": "2024-01-30T13:11:15.058617Z",
     "iopub.status.busy": "2024-01-30T13:11:15.058214Z",
     "iopub.status.idle": "2024-01-30T13:11:15.062093Z",
     "shell.execute_reply": "2024-01-30T13:11:15.061346Z"
    },
    "papermill": {
     "duration": 0.030303,
     "end_time": "2024-01-30T13:11:15.063522",
     "exception": false,
     "start_time": "2024-01-30T13:11:15.033219",
     "status": "completed"
    },
    "tags": []
   },
   "outputs": [],
   "source": [
    "# import pandas as pd\n",
    "# import numpy as np\n",
    "# sub1=pd.read_csv('../input/titanic-leaked/titanic.csv')\n",
    "# sub1.to_csv('submission1.csv', index=False)"
   ]
  }
 ],
 "metadata": {
  "kaggle": {
   "accelerator": "none",
   "dataSources": [
    {
     "databundleVersionId": 26502,
     "sourceId": 3136,
     "sourceType": "competition"
    }
   ],
   "dockerImageVersionId": 30635,
   "isGpuEnabled": false,
   "isInternetEnabled": true,
   "language": "python",
   "sourceType": "notebook"
  },
  "kernelspec": {
   "display_name": "Python 3",
   "language": "python",
   "name": "python3"
  },
  "language_info": {
   "codemirror_mode": {
    "name": "ipython",
    "version": 3
   },
   "file_extension": ".py",
   "mimetype": "text/x-python",
   "name": "python",
   "nbconvert_exporter": "python",
   "pygments_lexer": "ipython3",
   "version": "3.10.12"
  },
  "papermill": {
   "default_parameters": {},
   "duration": 22.294983,
   "end_time": "2024-01-30T13:11:16.010861",
   "environment_variables": {},
   "exception": null,
   "input_path": "__notebook__.ipynb",
   "output_path": "__notebook__.ipynb",
   "parameters": {},
   "start_time": "2024-01-30T13:10:53.715878",
   "version": "2.4.0"
  }
 },
 "nbformat": 4,
 "nbformat_minor": 5
}
