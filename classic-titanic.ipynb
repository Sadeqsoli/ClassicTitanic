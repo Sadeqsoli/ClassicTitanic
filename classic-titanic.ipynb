{
 "cells": [
  {
   "cell_type": "code",
   "execution_count": 1,
   "id": "01f8a0cd",
   "metadata": {
    "_cell_guid": "b1076dfc-b9ad-4769-8c92-a6c4dae69d19",
    "_uuid": "8f2839f25d086af736a60e9eeb907d3b93b6e0e5",
    "execution": {
     "iopub.execute_input": "2024-01-30T12:37:59.415137Z",
     "iopub.status.busy": "2024-01-30T12:37:59.414734Z",
     "iopub.status.idle": "2024-01-30T12:38:03.051871Z",
     "shell.execute_reply": "2024-01-30T12:38:03.050667Z"
    },
    "papermill": {
     "duration": 3.662186,
     "end_time": "2024-01-30T12:38:03.054593",
     "exception": false,
     "start_time": "2024-01-30T12:37:59.392407",
     "status": "completed"
    },
    "tags": []
   },
   "outputs": [
    {
     "data": {
      "text/html": [
       "        <script type=\"text/javascript\">\n",
       "        window.PlotlyConfig = {MathJaxConfig: 'local'};\n",
       "        if (window.MathJax && window.MathJax.Hub && window.MathJax.Hub.Config) {window.MathJax.Hub.Config({SVG: {font: \"STIX-Web\"}});}\n",
       "        if (typeof require !== 'undefined') {\n",
       "        require.undef(\"plotly\");\n",
       "        requirejs.config({\n",
       "            paths: {\n",
       "                'plotly': ['https://cdn.plot.ly/plotly-2.25.2.min']\n",
       "            }\n",
       "        });\n",
       "        require(['plotly'], function(Plotly) {\n",
       "            window._Plotly = Plotly;\n",
       "        });\n",
       "        }\n",
       "        </script>\n",
       "        "
      ]
     },
     "metadata": {},
     "output_type": "display_data"
    },
    {
     "name": "stdout",
     "output_type": "stream",
     "text": [
      "/kaggle/input/titanic/train.csv\n",
      "/kaggle/input/titanic/test.csv\n",
      "/kaggle/input/titanic/gender_submission.csv\n"
     ]
    }
   ],
   "source": [
    "# This Python 3 environment comes with many helpful analytics libraries installed\n",
    "# It is defined by the kaggle/python Docker image: https://github.com/kaggle/docker-python\n",
    "# For example, here's several helpful packages to load\n",
    "\n",
    "import numpy as np # linear algebra\n",
    "import pandas as pd # data processing, CSV file I/O (e.g. pd.read_csv)\n",
    "import re\n",
    "import sklearn\n",
    "import xgboost as xgb\n",
    "import seaborn as sns\n",
    "import matplotlib.pyplot as plt\n",
    "%matplotlib inline\n",
    "import plotly.offline as py\n",
    "py.init_notebook_mode(connected=True)\n",
    "import plotly.graph_objs as go\n",
    "import plotly.tools as tls\n",
    "import missingno as msno\n",
    "from pandas.plotting import scatter_matrix\n",
    "import warnings\n",
    "warnings.filterwarnings('ignore')\n",
    "\n",
    "# Going to use these 5 base models for the stacking\n",
    "from sklearn.ensemble import (RandomForestClassifier, AdaBoostClassifier, \n",
    "                              GradientBoostingClassifier, ExtraTreesClassifier)\n",
    "from sklearn.svm import SVC\n",
    "import os\n",
    "for dirname, _, filenames in os.walk('/kaggle/input'):\n",
    "    for filename in filenames:\n",
    "        print(os.path.join(dirname, filename))\n",
    "\n",
    "# You can write up to 20GB to the current directory (/kaggle/working/) that gets preserved as output when you create a version using \"Save & Run All\" \n",
    "# You can also write temporary files to /kaggle/temp/, but they won't be saved outside of the current session"
   ]
  },
  {
   "cell_type": "code",
   "execution_count": 2,
   "id": "bb68270a",
   "metadata": {
    "_kg_hide-input": false,
    "execution": {
     "iopub.execute_input": "2024-01-30T12:38:03.096788Z",
     "iopub.status.busy": "2024-01-30T12:38:03.096361Z",
     "iopub.status.idle": "2024-01-30T12:38:03.155346Z",
     "shell.execute_reply": "2024-01-30T12:38:03.154405Z"
    },
    "papermill": {
     "duration": 0.082771,
     "end_time": "2024-01-30T12:38:03.158066",
     "exception": false,
     "start_time": "2024-01-30T12:38:03.075295",
     "status": "completed"
    },
    "tags": []
   },
   "outputs": [
    {
     "data": {
      "text/html": [
       "<div>\n",
       "<style scoped>\n",
       "    .dataframe tbody tr th:only-of-type {\n",
       "        vertical-align: middle;\n",
       "    }\n",
       "\n",
       "    .dataframe tbody tr th {\n",
       "        vertical-align: top;\n",
       "    }\n",
       "\n",
       "    .dataframe thead th {\n",
       "        text-align: right;\n",
       "    }\n",
       "</style>\n",
       "<table border=\"1\" class=\"dataframe\">\n",
       "  <thead>\n",
       "    <tr style=\"text-align: right;\">\n",
       "      <th></th>\n",
       "      <th>PassengerId</th>\n",
       "      <th>Survived</th>\n",
       "      <th>Pclass</th>\n",
       "      <th>Name</th>\n",
       "      <th>Sex</th>\n",
       "      <th>Age</th>\n",
       "      <th>SibSp</th>\n",
       "      <th>Parch</th>\n",
       "      <th>Ticket</th>\n",
       "      <th>Fare</th>\n",
       "      <th>Cabin</th>\n",
       "      <th>Embarked</th>\n",
       "    </tr>\n",
       "  </thead>\n",
       "  <tbody>\n",
       "    <tr>\n",
       "      <th>0</th>\n",
       "      <td>1</td>\n",
       "      <td>0</td>\n",
       "      <td>3</td>\n",
       "      <td>Braund, Mr. Owen Harris</td>\n",
       "      <td>male</td>\n",
       "      <td>22.0</td>\n",
       "      <td>1</td>\n",
       "      <td>0</td>\n",
       "      <td>A/5 21171</td>\n",
       "      <td>7.2500</td>\n",
       "      <td>NaN</td>\n",
       "      <td>S</td>\n",
       "    </tr>\n",
       "    <tr>\n",
       "      <th>1</th>\n",
       "      <td>2</td>\n",
       "      <td>1</td>\n",
       "      <td>1</td>\n",
       "      <td>Cumings, Mrs. John Bradley (Florence Briggs Th...</td>\n",
       "      <td>female</td>\n",
       "      <td>38.0</td>\n",
       "      <td>1</td>\n",
       "      <td>0</td>\n",
       "      <td>PC 17599</td>\n",
       "      <td>71.2833</td>\n",
       "      <td>C85</td>\n",
       "      <td>C</td>\n",
       "    </tr>\n",
       "    <tr>\n",
       "      <th>2</th>\n",
       "      <td>3</td>\n",
       "      <td>1</td>\n",
       "      <td>3</td>\n",
       "      <td>Heikkinen, Miss. Laina</td>\n",
       "      <td>female</td>\n",
       "      <td>26.0</td>\n",
       "      <td>0</td>\n",
       "      <td>0</td>\n",
       "      <td>STON/O2. 3101282</td>\n",
       "      <td>7.9250</td>\n",
       "      <td>NaN</td>\n",
       "      <td>S</td>\n",
       "    </tr>\n",
       "  </tbody>\n",
       "</table>\n",
       "</div>"
      ],
      "text/plain": [
       "   PassengerId  Survived  Pclass  \\\n",
       "0            1         0       3   \n",
       "1            2         1       1   \n",
       "2            3         1       3   \n",
       "\n",
       "                                                Name     Sex   Age  SibSp  \\\n",
       "0                            Braund, Mr. Owen Harris    male  22.0      1   \n",
       "1  Cumings, Mrs. John Bradley (Florence Briggs Th...  female  38.0      1   \n",
       "2                             Heikkinen, Miss. Laina  female  26.0      0   \n",
       "\n",
       "   Parch            Ticket     Fare Cabin Embarked  \n",
       "0      0         A/5 21171   7.2500   NaN        S  \n",
       "1      0          PC 17599  71.2833   C85        C  \n",
       "2      0  STON/O2. 3101282   7.9250   NaN        S  "
      ]
     },
     "execution_count": 2,
     "metadata": {},
     "output_type": "execute_result"
    }
   ],
   "source": [
    "train=pd.read_csv('../input/titanic/train.csv')\n",
    "test=pd.read_csv('../input/titanic/test.csv')\n",
    "\n",
    "train.head(3)"
   ]
  },
  {
   "cell_type": "markdown",
   "id": "54af9e43",
   "metadata": {
    "papermill": {
     "duration": 0.020075,
     "end_time": "2024-01-30T12:38:03.199559",
     "exception": false,
     "start_time": "2024-01-30T12:38:03.179484",
     "status": "completed"
    },
    "tags": []
   },
   "source": [
    "# 1. Data Description\n",
    "\n",
    "> Variable\tDefinition\tKey\n",
    "> survival\tSurvival\t0 = No, 1 = Yes\n",
    "> pclass\tTicket class\t1 = 1st, 2 = 2nd, 3 = 3rd\n",
    "> sex\tSex\t\n",
    "> Age\tAge in years\t\n",
    "> sibsp\t# of siblings / spouses aboard the Titanic\t\n",
    "> parch\t# of parents / children aboard the Titanic\t\n",
    "> ticket\tTicket number\t\n",
    "> fare\tPassenger fare\t\n",
    "> cabin\tCabin number\t\n",
    "> embarked\tPort of Embarkation\tC = Cherbourg, Q = Queenstown, S = Southampton"
   ]
  },
  {
   "cell_type": "markdown",
   "id": "883939ba",
   "metadata": {
    "papermill": {
     "duration": 0.020088,
     "end_time": "2024-01-30T12:38:03.240723",
     "exception": false,
     "start_time": "2024-01-30T12:38:03.220635",
     "status": "completed"
    },
    "tags": []
   },
   "source": [
    "# 2. Check Missing Values & Distribution"
   ]
  },
  {
   "cell_type": "code",
   "execution_count": 3,
   "id": "74c5a415",
   "metadata": {
    "execution": {
     "iopub.execute_input": "2024-01-30T12:38:03.283609Z",
     "iopub.status.busy": "2024-01-30T12:38:03.283152Z",
     "iopub.status.idle": "2024-01-30T12:38:03.889578Z",
     "shell.execute_reply": "2024-01-30T12:38:03.888232Z"
    },
    "papermill": {
     "duration": 0.630989,
     "end_time": "2024-01-30T12:38:03.892572",
     "exception": false,
     "start_time": "2024-01-30T12:38:03.261583",
     "status": "completed"
    },
    "tags": []
   },
   "outputs": [
    {
     "data": {
      "image/png": "[encoded data removed]",
      "text/plain": [
       "<Figure size 1000x600 with 2 Axes>"
      ]
     },
     "metadata": {},
     "output_type": "display_data"
    }
   ],
   "source": [
    "# # Create a heatmap of null values\n",
    "# plt.figure(figsize=(10, 6))\n",
    "# sns.heatmap(train.isnull(), cmap='viridis', cbar=False, yticklabels=False)\n",
    "# plt.title('Null Values Heatmap')\n",
    "# plt.show()\n",
    "# Visualize null values using missingno matrix\n",
    "msno.matrix(train, figsize=(10, 6))\n",
    "plt.title('Null Values Matrix')\n",
    "plt.show()"
   ]
  },
  {
   "cell_type": "code",
   "execution_count": 4,
   "id": "53653fd2",
   "metadata": {
    "execution": {
     "iopub.execute_input": "2024-01-30T12:38:03.938574Z",
     "iopub.status.busy": "2024-01-30T12:38:03.937840Z",
     "iopub.status.idle": "2024-01-30T12:38:03.973301Z",
     "shell.execute_reply": "2024-01-30T12:38:03.971857Z"
    },
    "papermill": {
     "duration": 0.06054,
     "end_time": "2024-01-30T12:38:03.975905",
     "exception": false,
     "start_time": "2024-01-30T12:38:03.915365",
     "status": "completed"
    },
    "tags": []
   },
   "outputs": [
    {
     "name": "stdout",
     "output_type": "stream",
     "text": [
      "<class 'pandas.core.frame.DataFrame'>\n",
      "RangeIndex: 891 entries, 0 to 890\n",
      "Data columns (total 12 columns):\n",
      " #   Column       Non-Null Count  Dtype  \n",
      "---  ------       --------------  -----  \n",
      " 0   PassengerId  891 non-null    int64  \n",
      " 1   Survived     891 non-null    int64  \n",
      " 2   Pclass       891 non-null    int64  \n",
      " 3   Name         891 non-null    object \n",
      " 4   Sex          891 non-null    object \n",
      " 5   Age          714 non-null    float64\n",
      " 6   SibSp        891 non-null    int64  \n",
      " 7   Parch        891 non-null    int64  \n",
      " 8   Ticket       891 non-null    object \n",
      " 9   Fare         891 non-null    float64\n",
      " 10  Cabin        204 non-null    object \n",
      " 11  Embarked     889 non-null    object \n",
      "dtypes: float64(2), int64(5), object(5)\n",
      "memory usage: 83.7+ KB\n",
      "None\n",
      "_+_+_+_&*_*_*_*_*_\n",
      "<class 'pandas.core.frame.DataFrame'>\n",
      "RangeIndex: 418 entries, 0 to 417\n",
      "Data columns (total 11 columns):\n",
      " #   Column       Non-Null Count  Dtype  \n",
      "---  ------       --------------  -----  \n",
      " 0   PassengerId  418 non-null    int64  \n",
      " 1   Pclass       418 non-null    int64  \n",
      " 2   Name         418 non-null    object \n",
      " 3   Sex          418 non-null    object \n",
      " 4   Age          332 non-null    float64\n",
      " 5   SibSp        418 non-null    int64  \n",
      " 6   Parch        418 non-null    int64  \n",
      " 7   Ticket       418 non-null    object \n",
      " 8   Fare         417 non-null    float64\n",
      " 9   Cabin        91 non-null     object \n",
      " 10  Embarked     418 non-null    object \n",
      "dtypes: float64(2), int64(4), object(5)\n",
      "memory usage: 36.0+ KB\n",
      "None\n"
     ]
    }
   ],
   "source": [
    "print(train.info())\n",
    "print('_+_+_+_&*_*_*_*_*_')\n",
    "print(test.info())"
   ]
  },
  {
   "cell_type": "code",
   "execution_count": 5,
   "id": "2f22153a",
   "metadata": {
    "execution": {
     "iopub.execute_input": "2024-01-30T12:38:04.021811Z",
     "iopub.status.busy": "2024-01-30T12:38:04.021007Z",
     "iopub.status.idle": "2024-01-30T12:38:04.505036Z",
     "shell.execute_reply": "2024-01-30T12:38:04.503665Z"
    },
    "papermill": {
     "duration": 0.510214,
     "end_time": "2024-01-30T12:38:04.507780",
     "exception": false,
     "start_time": "2024-01-30T12:38:03.997566",
     "status": "completed"
    },
    "tags": []
   },
   "outputs": [
    {
     "data": {
      "image/png": "[encoded data removed]",
      "text/plain": [
       "<Figure size 1000x600 with 1 Axes>"
      ]
     },
     "metadata": {},
     "output_type": "display_data"
    }
   ],
   "source": [
    "# Visualize the distribution of 'Age'\n",
    "plt.figure(figsize=(10, 6))\n",
    "sns.histplot(train['Age'].dropna(), bins=30, kde=True, color='blue')\n",
    "plt.title('Distribution of Age')\n",
    "plt.xlabel('Age')\n",
    "plt.ylabel('Count')\n",
    "plt.show()"
   ]
  },
  {
   "cell_type": "code",
   "execution_count": 6,
   "id": "e1d9acfe",
   "metadata": {
    "execution": {
     "iopub.execute_input": "2024-01-30T12:38:04.555588Z",
     "iopub.status.busy": "2024-01-30T12:38:04.554872Z",
     "iopub.status.idle": "2024-01-30T12:38:05.371947Z",
     "shell.execute_reply": "2024-01-30T12:38:05.370649Z"
    },
    "papermill": {
     "duration": 0.845008,
     "end_time": "2024-01-30T12:38:05.374910",
     "exception": false,
     "start_time": "2024-01-30T12:38:04.529902",
     "status": "completed"
    },
    "tags": []
   },
   "outputs": [
    {
     "data": {
      "text/plain": [
       "<seaborn.axisgrid.FacetGrid at 0x7ab02f4481f0>"
      ]
     },
     "execution_count": 6,
     "metadata": {},
     "output_type": "execute_result"
    },
    {
     "data": {
      "image/png": "[encoded data removed]",
      "text/plain": [
       "<Figure size 600x300 with 2 Axes>"
      ]
     },
     "metadata": {},
     "output_type": "display_data"
    }
   ],
   "source": [
    "# Visualize the distribution of 'Age'\n",
    "g = sns.FacetGrid(train, col='Survived')\n",
    "g.map(plt.hist, 'Age', bins=20)"
   ]
  },
  {
   "cell_type": "code",
   "execution_count": 7,
   "id": "64746027",
   "metadata": {
    "execution": {
     "iopub.execute_input": "2024-01-30T12:38:05.421737Z",
     "iopub.status.busy": "2024-01-30T12:38:05.421308Z",
     "iopub.status.idle": "2024-01-30T12:38:05.674380Z",
     "shell.execute_reply": "2024-01-30T12:38:05.673312Z"
    },
    "papermill": {
     "duration": 0.280002,
     "end_time": "2024-01-30T12:38:05.677223",
     "exception": false,
     "start_time": "2024-01-30T12:38:05.397221",
     "status": "completed"
    },
    "tags": []
   },
   "outputs": [
    {
     "data": {
      "image/png": "[encoded data removed]",
      "text/plain": [
       "<Figure size 600x400 with 1 Axes>"
      ]
     },
     "metadata": {},
     "output_type": "display_data"
    }
   ],
   "source": [
    "# Visualize the survival count\n",
    "plt.figure(figsize=(6, 4))\n",
    "sns.countplot(x='Survived', data=train, palette='Set1')\n",
    "plt.title('Survival Count')\n",
    "plt.xlabel('Survived')\n",
    "plt.ylabel('Count')\n",
    "plt.show()"
   ]
  },
  {
   "cell_type": "code",
   "execution_count": 8,
   "id": "b6019089",
   "metadata": {
    "execution": {
     "iopub.execute_input": "2024-01-30T12:38:05.792478Z",
     "iopub.status.busy": "2024-01-30T12:38:05.792006Z",
     "iopub.status.idle": "2024-01-30T12:38:08.897302Z",
     "shell.execute_reply": "2024-01-30T12:38:08.895885Z"
    },
    "papermill": {
     "duration": 3.199965,
     "end_time": "2024-01-30T12:38:08.900339",
     "exception": false,
     "start_time": "2024-01-30T12:38:05.700374",
     "status": "completed"
    },
    "tags": []
   },
   "outputs": [
    {
     "data": {
      "image/png": "[encoded data removed]",
      "text/plain": [
       "<Figure size 715.111x660 with 6 Axes>"
      ]
     },
     "metadata": {},
     "output_type": "display_data"
    }
   ],
   "source": [
    "grid = sns.FacetGrid(train, col='Survived', row='Pclass', height=2.2, aspect=1.6)\n",
    "grid.map(plt.hist, 'Age', alpha=.5, bins=20)\n",
    "grid.add_legend();"
   ]
  },
  {
   "cell_type": "code",
   "execution_count": 9,
   "id": "9681ccbb",
   "metadata": {
    "execution": {
     "iopub.execute_input": "2024-01-30T12:38:08.948747Z",
     "iopub.status.busy": "2024-01-30T12:38:08.948054Z",
     "iopub.status.idle": "2024-01-30T12:38:09.216420Z",
     "shell.execute_reply": "2024-01-30T12:38:09.215157Z"
    },
    "papermill": {
     "duration": 0.295944,
     "end_time": "2024-01-30T12:38:09.219396",
     "exception": false,
     "start_time": "2024-01-30T12:38:08.923452",
     "status": "completed"
    },
    "tags": []
   },
   "outputs": [
    {
     "data": {
      "image/png": "[encoded data removed]",
      "text/plain": [
       "<Figure size 800x600 with 1 Axes>"
      ]
     },
     "metadata": {},
     "output_type": "display_data"
    }
   ],
   "source": [
    "# Visualize the count of passengers in each Pclass\n",
    "plt.figure(figsize=(8, 6))\n",
    "sns.countplot(x='Pclass', data=train, palette='viridis')\n",
    "plt.title('Passenger Count in Each Pclass')\n",
    "plt.xlabel('Pclass')\n",
    "plt.ylabel('Count')\n",
    "plt.show()"
   ]
  },
  {
   "cell_type": "code",
   "execution_count": 10,
   "id": "e5e09e61",
   "metadata": {
    "execution": {
     "iopub.execute_input": "2024-01-30T12:38:09.270723Z",
     "iopub.status.busy": "2024-01-30T12:38:09.270011Z",
     "iopub.status.idle": "2024-01-30T12:38:11.426591Z",
     "shell.execute_reply": "2024-01-30T12:38:11.425180Z"
    },
    "papermill": {
     "duration": 2.185713,
     "end_time": "2024-01-30T12:38:11.429793",
     "exception": false,
     "start_time": "2024-01-30T12:38:09.244080",
     "status": "completed"
    },
    "tags": []
   },
   "outputs": [
    {
     "data": {
      "text/plain": [
       "<seaborn.axisgrid.FacetGrid at 0x7ab067e3ada0>"
      ]
     },
     "execution_count": 10,
     "metadata": {},
     "output_type": "execute_result"
    },
    {
     "data": {
      "image/png": "[encoded data removed]",
      "text/plain": [
       "<Figure size 450x660 with 3 Axes>"
      ]
     },
     "metadata": {},
     "output_type": "display_data"
    }
   ],
   "source": [
    "grid = sns.FacetGrid(train, row='Embarked', height=2.2, aspect=1.6)\n",
    "grid.map(sns.pointplot, 'Pclass', 'Survived', 'Sex', palette='deep')\n",
    "grid.add_legend()"
   ]
  },
  {
   "cell_type": "code",
   "execution_count": 11,
   "id": "d00afea8",
   "metadata": {
    "execution": {
     "iopub.execute_input": "2024-01-30T12:38:11.484489Z",
     "iopub.status.busy": "2024-01-30T12:38:11.483859Z",
     "iopub.status.idle": "2024-01-30T12:38:13.621458Z",
     "shell.execute_reply": "2024-01-30T12:38:13.620018Z"
    },
    "papermill": {
     "duration": 2.168966,
     "end_time": "2024-01-30T12:38:13.624123",
     "exception": false,
     "start_time": "2024-01-30T12:38:11.455157",
     "status": "completed"
    },
    "tags": []
   },
   "outputs": [
    {
     "data": {
      "text/plain": [
       "<seaborn.axisgrid.FacetGrid at 0x7ab02541f9a0>"
      ]
     },
     "execution_count": 11,
     "metadata": {},
     "output_type": "execute_result"
    },
    {
     "data": {
      "image/png": "[encoded data removed]",
      "text/plain": [
       "<Figure size 715.111x660 with 6 Axes>"
      ]
     },
     "metadata": {},
     "output_type": "display_data"
    }
   ],
   "source": [
    "grid = sns.FacetGrid(train, row='Embarked', col='Survived', height=2.2, aspect=1.6)\n",
    "grid.map(sns.barplot, 'Sex', 'Fare', alpha=.5, ci=None)\n",
    "grid.add_legend()"
   ]
  },
  {
   "cell_type": "code",
   "execution_count": 12,
   "id": "a6582e02",
   "metadata": {
    "execution": {
     "iopub.execute_input": "2024-01-30T12:38:13.679461Z",
     "iopub.status.busy": "2024-01-30T12:38:13.678983Z",
     "iopub.status.idle": "2024-01-30T12:38:14.387705Z",
     "shell.execute_reply": "2024-01-30T12:38:14.386391Z"
    },
    "papermill": {
     "duration": 0.740368,
     "end_time": "2024-01-30T12:38:14.391420",
     "exception": false,
     "start_time": "2024-01-30T12:38:13.651052",
     "status": "completed"
    },
    "tags": []
   },
   "outputs": [
    {
     "data": {
      "text/plain": [
       "<Axes: title={'center': 'Correlation of Features'}>"
      ]
     },
     "execution_count": 12,
     "metadata": {},
     "output_type": "execute_result"
    },
    {
     "data": {
      "image/png": "[encoded data removed]",
      "text/plain": [
       "<Figure size 1400x1200 with 2 Axes>"
      ]
     },
     "metadata": {},
     "output_type": "display_data"
    }
   ],
   "source": [
    "# Visualize the correlation between numeric features\n",
    "numeric_columns = train.select_dtypes(include=['int64', 'float64'])\n",
    "colormap = plt.cm.RdBu\n",
    "plt.figure(figsize=(14,12))\n",
    "plt.title('Correlation of Features', y=1.05, size=15)\n",
    "sns.heatmap(numeric_columns.corr(),linewidths=0.1,vmax=1.0, \n",
    "            square=True, cmap=colormap, linecolor='white', annot=True)"
   ]
  },
  {
   "cell_type": "code",
   "execution_count": 13,
   "id": "4203a6e7",
   "metadata": {
    "execution": {
     "iopub.execute_input": "2024-01-30T12:38:14.452659Z",
     "iopub.status.busy": "2024-01-30T12:38:14.452156Z",
     "iopub.status.idle": "2024-01-30T12:38:18.410753Z",
     "shell.execute_reply": "2024-01-30T12:38:18.409855Z"
    },
    "papermill": {
     "duration": 3.993663,
     "end_time": "2024-01-30T12:38:18.413950",
     "exception": false,
     "start_time": "2024-01-30T12:38:14.420287",
     "status": "completed"
    },
    "tags": []
   },
   "outputs": [
    {
     "data": {
      "image/png": "[encoded data removed]",
      "text/plain": [
       "<Figure size 600x600 with 49 Axes>"
      ]
     },
     "metadata": {},
     "output_type": "display_data"
    }
   ],
   "source": [
    "scatter_matrix(train, alpha=0.2, figsize=(6, 6), diagonal='kde')\n",
    "plt.show()"
   ]
  },
  {
   "cell_type": "markdown",
   "id": "e8afd67c",
   "metadata": {
    "papermill": {
     "duration": 0.028473,
     "end_time": "2024-01-30T12:38:18.471265",
     "exception": false,
     "start_time": "2024-01-30T12:38:18.442792",
     "status": "completed"
    },
    "tags": []
   },
   "source": [
    "# 3.Check values towards Survival"
   ]
  },
  {
   "cell_type": "code",
   "execution_count": 14,
   "id": "a61a29c6",
   "metadata": {
    "execution": {
     "iopub.execute_input": "2024-01-30T12:38:18.531997Z",
     "iopub.status.busy": "2024-01-30T12:38:18.530963Z",
     "iopub.status.idle": "2024-01-30T12:38:18.566848Z",
     "shell.execute_reply": "2024-01-30T12:38:18.565652Z"
    },
    "papermill": {
     "duration": 0.068898,
     "end_time": "2024-01-30T12:38:18.569632",
     "exception": false,
     "start_time": "2024-01-30T12:38:18.500734",
     "status": "completed"
    },
    "tags": []
   },
   "outputs": [
    {
     "data": {
      "text/html": [
       "<div>\n",
       "<style scoped>\n",
       "    .dataframe tbody tr th:only-of-type {\n",
       "        vertical-align: middle;\n",
       "    }\n",
       "\n",
       "    .dataframe tbody tr th {\n",
       "        vertical-align: top;\n",
       "    }\n",
       "\n",
       "    .dataframe thead th {\n",
       "        text-align: right;\n",
       "    }\n",
       "</style>\n",
       "<table border=\"1\" class=\"dataframe\">\n",
       "  <thead>\n",
       "    <tr style=\"text-align: right;\">\n",
       "      <th></th>\n",
       "      <th>PassengerId</th>\n",
       "      <th>Survived</th>\n",
       "      <th>Pclass</th>\n",
       "      <th>Age</th>\n",
       "      <th>SibSp</th>\n",
       "      <th>Parch</th>\n",
       "      <th>Fare</th>\n",
       "    </tr>\n",
       "  </thead>\n",
       "  <tbody>\n",
       "    <tr>\n",
       "      <th>count</th>\n",
       "      <td>891.000000</td>\n",
       "      <td>891.000000</td>\n",
       "      <td>891.000000</td>\n",
       "      <td>714.000000</td>\n",
       "      <td>891.000000</td>\n",
       "      <td>891.000000</td>\n",
       "      <td>891.000000</td>\n",
       "    </tr>\n",
       "    <tr>\n",
       "      <th>mean</th>\n",
       "      <td>446.000000</td>\n",
       "      <td>0.383838</td>\n",
       "      <td>2.308642</td>\n",
       "      <td>29.699118</td>\n",
       "      <td>0.523008</td>\n",
       "      <td>0.381594</td>\n",
       "      <td>32.204208</td>\n",
       "    </tr>\n",
       "    <tr>\n",
       "      <th>std</th>\n",
       "      <td>257.353842</td>\n",
       "      <td>0.486592</td>\n",
       "      <td>0.836071</td>\n",
       "      <td>14.526497</td>\n",
       "      <td>1.102743</td>\n",
       "      <td>0.806057</td>\n",
       "      <td>49.693429</td>\n",
       "    </tr>\n",
       "    <tr>\n",
       "      <th>min</th>\n",
       "      <td>1.000000</td>\n",
       "      <td>0.000000</td>\n",
       "      <td>1.000000</td>\n",
       "      <td>0.420000</td>\n",
       "      <td>0.000000</td>\n",
       "      <td>0.000000</td>\n",
       "      <td>0.000000</td>\n",
       "    </tr>\n",
       "    <tr>\n",
       "      <th>25%</th>\n",
       "      <td>223.500000</td>\n",
       "      <td>0.000000</td>\n",
       "      <td>2.000000</td>\n",
       "      <td>20.125000</td>\n",
       "      <td>0.000000</td>\n",
       "      <td>0.000000</td>\n",
       "      <td>7.910400</td>\n",
       "    </tr>\n",
       "    <tr>\n",
       "      <th>50%</th>\n",
       "      <td>446.000000</td>\n",
       "      <td>0.000000</td>\n",
       "      <td>3.000000</td>\n",
       "      <td>28.000000</td>\n",
       "      <td>0.000000</td>\n",
       "      <td>0.000000</td>\n",
       "      <td>14.454200</td>\n",
       "    </tr>\n",
       "    <tr>\n",
       "      <th>75%</th>\n",
       "      <td>668.500000</td>\n",
       "      <td>1.000000</td>\n",
       "      <td>3.000000</td>\n",
       "      <td>38.000000</td>\n",
       "      <td>1.000000</td>\n",
       "      <td>0.000000</td>\n",
       "      <td>31.000000</td>\n",
       "    </tr>\n",
       "    <tr>\n",
       "      <th>max</th>\n",
       "      <td>891.000000</td>\n",
       "      <td>1.000000</td>\n",
       "      <td>3.000000</td>\n",
       "      <td>80.000000</td>\n",
       "      <td>8.000000</td>\n",
       "      <td>6.000000</td>\n",
       "      <td>512.329200</td>\n",
       "    </tr>\n",
       "  </tbody>\n",
       "</table>\n",
       "</div>"
      ],
      "text/plain": [
       "       PassengerId    Survived      Pclass         Age       SibSp  \\\n",
       "count   891.000000  891.000000  891.000000  714.000000  891.000000   \n",
       "mean    446.000000    0.383838    2.308642   29.699118    0.523008   \n",
       "std     257.353842    0.486592    0.836071   14.526497    1.102743   \n",
       "min       1.000000    0.000000    1.000000    0.420000    0.000000   \n",
       "25%     223.500000    0.000000    2.000000   20.125000    0.000000   \n",
       "50%     446.000000    0.000000    3.000000   28.000000    0.000000   \n",
       "75%     668.500000    1.000000    3.000000   38.000000    1.000000   \n",
       "max     891.000000    1.000000    3.000000   80.000000    8.000000   \n",
       "\n",
       "            Parch        Fare  \n",
       "count  891.000000  891.000000  \n",
       "mean     0.381594   32.204208  \n",
       "std      0.806057   49.693429  \n",
       "min      0.000000    0.000000  \n",
       "25%      0.000000    7.910400  \n",
       "50%      0.000000   14.454200  \n",
       "75%      0.000000   31.000000  \n",
       "max      6.000000  512.329200  "
      ]
     },
     "execution_count": 14,
     "metadata": {},
     "output_type": "execute_result"
    }
   ],
   "source": [
    "train.describe()"
   ]
  },
  {
   "cell_type": "code",
   "execution_count": 15,
   "id": "255da183",
   "metadata": {
    "execution": {
     "iopub.execute_input": "2024-01-30T12:38:18.632357Z",
     "iopub.status.busy": "2024-01-30T12:38:18.631934Z",
     "iopub.status.idle": "2024-01-30T12:38:18.649410Z",
     "shell.execute_reply": "2024-01-30T12:38:18.648231Z"
    },
    "papermill": {
     "duration": 0.052362,
     "end_time": "2024-01-30T12:38:18.651928",
     "exception": false,
     "start_time": "2024-01-30T12:38:18.599566",
     "status": "completed"
    },
    "tags": []
   },
   "outputs": [
    {
     "data": {
      "text/html": [
       "<div>\n",
       "<style scoped>\n",
       "    .dataframe tbody tr th:only-of-type {\n",
       "        vertical-align: middle;\n",
       "    }\n",
       "\n",
       "    .dataframe tbody tr th {\n",
       "        vertical-align: top;\n",
       "    }\n",
       "\n",
       "    .dataframe thead th {\n",
       "        text-align: right;\n",
       "    }\n",
       "</style>\n",
       "<table border=\"1\" class=\"dataframe\">\n",
       "  <thead>\n",
       "    <tr style=\"text-align: right;\">\n",
       "      <th></th>\n",
       "      <th>Pclass</th>\n",
       "      <th>Survived</th>\n",
       "    </tr>\n",
       "  </thead>\n",
       "  <tbody>\n",
       "    <tr>\n",
       "      <th>0</th>\n",
       "      <td>1</td>\n",
       "      <td>0.629630</td>\n",
       "    </tr>\n",
       "    <tr>\n",
       "      <th>1</th>\n",
       "      <td>2</td>\n",
       "      <td>0.472826</td>\n",
       "    </tr>\n",
       "    <tr>\n",
       "      <th>2</th>\n",
       "      <td>3</td>\n",
       "      <td>0.242363</td>\n",
       "    </tr>\n",
       "  </tbody>\n",
       "</table>\n",
       "</div>"
      ],
      "text/plain": [
       "   Pclass  Survived\n",
       "0       1  0.629630\n",
       "1       2  0.472826\n",
       "2       3  0.242363"
      ]
     },
     "execution_count": 15,
     "metadata": {},
     "output_type": "execute_result"
    }
   ],
   "source": [
    "train[['Pclass', 'Survived']].groupby(['Pclass'], as_index=False).mean().sort_values(by='Survived', ascending=False)"
   ]
  },
  {
   "cell_type": "code",
   "execution_count": 16,
   "id": "4c1ed581",
   "metadata": {
    "execution": {
     "iopub.execute_input": "2024-01-30T12:38:18.713815Z",
     "iopub.status.busy": "2024-01-30T12:38:18.713111Z",
     "iopub.status.idle": "2024-01-30T12:38:18.727767Z",
     "shell.execute_reply": "2024-01-30T12:38:18.726600Z"
    },
    "papermill": {
     "duration": 0.049112,
     "end_time": "2024-01-30T12:38:18.730417",
     "exception": false,
     "start_time": "2024-01-30T12:38:18.681305",
     "status": "completed"
    },
    "tags": []
   },
   "outputs": [
    {
     "data": {
      "text/html": [
       "<div>\n",
       "<style scoped>\n",
       "    .dataframe tbody tr th:only-of-type {\n",
       "        vertical-align: middle;\n",
       "    }\n",
       "\n",
       "    .dataframe tbody tr th {\n",
       "        vertical-align: top;\n",
       "    }\n",
       "\n",
       "    .dataframe thead th {\n",
       "        text-align: right;\n",
       "    }\n",
       "</style>\n",
       "<table border=\"1\" class=\"dataframe\">\n",
       "  <thead>\n",
       "    <tr style=\"text-align: right;\">\n",
       "      <th></th>\n",
       "      <th>Sex</th>\n",
       "      <th>Survived</th>\n",
       "    </tr>\n",
       "  </thead>\n",
       "  <tbody>\n",
       "    <tr>\n",
       "      <th>0</th>\n",
       "      <td>female</td>\n",
       "      <td>0.742038</td>\n",
       "    </tr>\n",
       "    <tr>\n",
       "      <th>1</th>\n",
       "      <td>male</td>\n",
       "      <td>0.188908</td>\n",
       "    </tr>\n",
       "  </tbody>\n",
       "</table>\n",
       "</div>"
      ],
      "text/plain": [
       "      Sex  Survived\n",
       "0  female  0.742038\n",
       "1    male  0.188908"
      ]
     },
     "execution_count": 16,
     "metadata": {},
     "output_type": "execute_result"
    }
   ],
   "source": [
    "train[['Sex', 'Survived']].groupby(['Sex'], as_index=False).mean().sort_values(by='Survived', ascending=False)"
   ]
  },
  {
   "cell_type": "code",
   "execution_count": 17,
   "id": "0d759b1f",
   "metadata": {
    "execution": {
     "iopub.execute_input": "2024-01-30T12:38:18.792223Z",
     "iopub.status.busy": "2024-01-30T12:38:18.791532Z",
     "iopub.status.idle": "2024-01-30T12:38:18.806722Z",
     "shell.execute_reply": "2024-01-30T12:38:18.805543Z"
    },
    "papermill": {
     "duration": 0.049232,
     "end_time": "2024-01-30T12:38:18.809645",
     "exception": false,
     "start_time": "2024-01-30T12:38:18.760413",
     "status": "completed"
    },
    "tags": []
   },
   "outputs": [
    {
     "data": {
      "text/html": [
       "<div>\n",
       "<style scoped>\n",
       "    .dataframe tbody tr th:only-of-type {\n",
       "        vertical-align: middle;\n",
       "    }\n",
       "\n",
       "    .dataframe tbody tr th {\n",
       "        vertical-align: top;\n",
       "    }\n",
       "\n",
       "    .dataframe thead th {\n",
       "        text-align: right;\n",
       "    }\n",
       "</style>\n",
       "<table border=\"1\" class=\"dataframe\">\n",
       "  <thead>\n",
       "    <tr style=\"text-align: right;\">\n",
       "      <th></th>\n",
       "      <th>SibSp</th>\n",
       "      <th>Survived</th>\n",
       "    </tr>\n",
       "  </thead>\n",
       "  <tbody>\n",
       "    <tr>\n",
       "      <th>1</th>\n",
       "      <td>1</td>\n",
       "      <td>0.535885</td>\n",
       "    </tr>\n",
       "    <tr>\n",
       "      <th>2</th>\n",
       "      <td>2</td>\n",
       "      <td>0.464286</td>\n",
       "    </tr>\n",
       "    <tr>\n",
       "      <th>0</th>\n",
       "      <td>0</td>\n",
       "      <td>0.345395</td>\n",
       "    </tr>\n",
       "    <tr>\n",
       "      <th>3</th>\n",
       "      <td>3</td>\n",
       "      <td>0.250000</td>\n",
       "    </tr>\n",
       "    <tr>\n",
       "      <th>4</th>\n",
       "      <td>4</td>\n",
       "      <td>0.166667</td>\n",
       "    </tr>\n",
       "    <tr>\n",
       "      <th>5</th>\n",
       "      <td>5</td>\n",
       "      <td>0.000000</td>\n",
       "    </tr>\n",
       "    <tr>\n",
       "      <th>6</th>\n",
       "      <td>8</td>\n",
       "      <td>0.000000</td>\n",
       "    </tr>\n",
       "  </tbody>\n",
       "</table>\n",
       "</div>"
      ],
      "text/plain": [
       "   SibSp  Survived\n",
       "1      1  0.535885\n",
       "2      2  0.464286\n",
       "0      0  0.345395\n",
       "3      3  0.250000\n",
       "4      4  0.166667\n",
       "5      5  0.000000\n",
       "6      8  0.000000"
      ]
     },
     "execution_count": 17,
     "metadata": {},
     "output_type": "execute_result"
    }
   ],
   "source": [
    "train[[\"SibSp\", \"Survived\"]].groupby(['SibSp'], as_index=False).mean().sort_values(by='Survived', ascending=False)"
   ]
  },
  {
   "cell_type": "code",
   "execution_count": 18,
   "id": "8a9a9790",
   "metadata": {
    "execution": {
     "iopub.execute_input": "2024-01-30T12:38:18.873572Z",
     "iopub.status.busy": "2024-01-30T12:38:18.872241Z",
     "iopub.status.idle": "2024-01-30T12:38:18.888131Z",
     "shell.execute_reply": "2024-01-30T12:38:18.886659Z"
    },
    "papermill": {
     "duration": 0.050918,
     "end_time": "2024-01-30T12:38:18.890894",
     "exception": false,
     "start_time": "2024-01-30T12:38:18.839976",
     "status": "completed"
    },
    "tags": []
   },
   "outputs": [
    {
     "data": {
      "text/html": [
       "<div>\n",
       "<style scoped>\n",
       "    .dataframe tbody tr th:only-of-type {\n",
       "        vertical-align: middle;\n",
       "    }\n",
       "\n",
       "    .dataframe tbody tr th {\n",
       "        vertical-align: top;\n",
       "    }\n",
       "\n",
       "    .dataframe thead th {\n",
       "        text-align: right;\n",
       "    }\n",
       "</style>\n",
       "<table border=\"1\" class=\"dataframe\">\n",
       "  <thead>\n",
       "    <tr style=\"text-align: right;\">\n",
       "      <th></th>\n",
       "      <th>Parch</th>\n",
       "      <th>Survived</th>\n",
       "    </tr>\n",
       "  </thead>\n",
       "  <tbody>\n",
       "    <tr>\n",
       "      <th>3</th>\n",
       "      <td>3</td>\n",
       "      <td>0.600000</td>\n",
       "    </tr>\n",
       "    <tr>\n",
       "      <th>1</th>\n",
       "      <td>1</td>\n",
       "      <td>0.550847</td>\n",
       "    </tr>\n",
       "    <tr>\n",
       "      <th>2</th>\n",
       "      <td>2</td>\n",
       "      <td>0.500000</td>\n",
       "    </tr>\n",
       "    <tr>\n",
       "      <th>0</th>\n",
       "      <td>0</td>\n",
       "      <td>0.343658</td>\n",
       "    </tr>\n",
       "    <tr>\n",
       "      <th>5</th>\n",
       "      <td>5</td>\n",
       "      <td>0.200000</td>\n",
       "    </tr>\n",
       "    <tr>\n",
       "      <th>4</th>\n",
       "      <td>4</td>\n",
       "      <td>0.000000</td>\n",
       "    </tr>\n",
       "    <tr>\n",
       "      <th>6</th>\n",
       "      <td>6</td>\n",
       "      <td>0.000000</td>\n",
       "    </tr>\n",
       "  </tbody>\n",
       "</table>\n",
       "</div>"
      ],
      "text/plain": [
       "   Parch  Survived\n",
       "3      3  0.600000\n",
       "1      1  0.550847\n",
       "2      2  0.500000\n",
       "0      0  0.343658\n",
       "5      5  0.200000\n",
       "4      4  0.000000\n",
       "6      6  0.000000"
      ]
     },
     "execution_count": 18,
     "metadata": {},
     "output_type": "execute_result"
    }
   ],
   "source": [
    "train[[\"Parch\", \"Survived\"]].groupby(['Parch'], as_index=False).mean().sort_values(by='Survived', ascending=False)"
   ]
  },
  {
   "cell_type": "code",
   "execution_count": 19,
   "id": "d87eec8c",
   "metadata": {
    "execution": {
     "iopub.execute_input": "2024-01-30T12:38:18.953931Z",
     "iopub.status.busy": "2024-01-30T12:38:18.953481Z",
     "iopub.status.idle": "2024-01-30T12:38:18.958762Z",
     "shell.execute_reply": "2024-01-30T12:38:18.957376Z"
    },
    "papermill": {
     "duration": 0.040251,
     "end_time": "2024-01-30T12:38:18.961295",
     "exception": false,
     "start_time": "2024-01-30T12:38:18.921044",
     "status": "completed"
    },
    "tags": []
   },
   "outputs": [],
   "source": [
    "#sum(train[train['Fare'] < 8].Survived)\n",
    "#train[['Fare', 'Survived']].groupby(['Fare'], as_index=False).mean().sort_values(by='Survived', ascending=False)"
   ]
  },
  {
   "cell_type": "markdown",
   "id": "d9d2987a",
   "metadata": {
    "papermill": {
     "duration": 0.029978,
     "end_time": "2024-01-30T12:38:19.022030",
     "exception": false,
     "start_time": "2024-01-30T12:38:18.992052",
     "status": "completed"
    },
    "tags": []
   },
   "source": [
    "# 2. Handling Missing Values and Adding New Features¶"
   ]
  },
  {
   "cell_type": "code",
   "execution_count": 20,
   "id": "cea345aa",
   "metadata": {
    "execution": {
     "iopub.execute_input": "2024-01-30T12:38:19.086979Z",
     "iopub.status.busy": "2024-01-30T12:38:19.086526Z",
     "iopub.status.idle": "2024-01-30T12:38:19.109216Z",
     "shell.execute_reply": "2024-01-30T12:38:19.107897Z"
    },
    "papermill": {
     "duration": 0.05839,
     "end_time": "2024-01-30T12:38:19.111754",
     "exception": false,
     "start_time": "2024-01-30T12:38:19.053364",
     "status": "completed"
    },
    "tags": []
   },
   "outputs": [
    {
     "data": {
      "text/html": [
       "<div>\n",
       "<style scoped>\n",
       "    .dataframe tbody tr th:only-of-type {\n",
       "        vertical-align: middle;\n",
       "    }\n",
       "\n",
       "    .dataframe tbody tr th {\n",
       "        vertical-align: top;\n",
       "    }\n",
       "\n",
       "    .dataframe thead th {\n",
       "        text-align: right;\n",
       "    }\n",
       "</style>\n",
       "<table border=\"1\" class=\"dataframe\">\n",
       "  <thead>\n",
       "    <tr style=\"text-align: right;\">\n",
       "      <th></th>\n",
       "      <th>PassengerId</th>\n",
       "      <th>Survived</th>\n",
       "      <th>Pclass</th>\n",
       "      <th>Name</th>\n",
       "      <th>Sex</th>\n",
       "      <th>Age</th>\n",
       "      <th>SibSp</th>\n",
       "      <th>Parch</th>\n",
       "      <th>Ticket</th>\n",
       "      <th>Fare</th>\n",
       "      <th>Cabin</th>\n",
       "      <th>Embarked</th>\n",
       "    </tr>\n",
       "  </thead>\n",
       "  <tbody>\n",
       "    <tr>\n",
       "      <th>0</th>\n",
       "      <td>1</td>\n",
       "      <td>0.0</td>\n",
       "      <td>3</td>\n",
       "      <td>Braund, Mr. Owen Harris</td>\n",
       "      <td>male</td>\n",
       "      <td>22.0</td>\n",
       "      <td>1</td>\n",
       "      <td>0</td>\n",
       "      <td>A/5 21171</td>\n",
       "      <td>7.2500</td>\n",
       "      <td>NaN</td>\n",
       "      <td>S</td>\n",
       "    </tr>\n",
       "    <tr>\n",
       "      <th>1</th>\n",
       "      <td>2</td>\n",
       "      <td>1.0</td>\n",
       "      <td>1</td>\n",
       "      <td>Cumings, Mrs. John Bradley (Florence Briggs Th...</td>\n",
       "      <td>female</td>\n",
       "      <td>38.0</td>\n",
       "      <td>1</td>\n",
       "      <td>0</td>\n",
       "      <td>PC 17599</td>\n",
       "      <td>71.2833</td>\n",
       "      <td>C85</td>\n",
       "      <td>C</td>\n",
       "    </tr>\n",
       "    <tr>\n",
       "      <th>2</th>\n",
       "      <td>3</td>\n",
       "      <td>1.0</td>\n",
       "      <td>3</td>\n",
       "      <td>Heikkinen, Miss. Laina</td>\n",
       "      <td>female</td>\n",
       "      <td>26.0</td>\n",
       "      <td>0</td>\n",
       "      <td>0</td>\n",
       "      <td>STON/O2. 3101282</td>\n",
       "      <td>7.9250</td>\n",
       "      <td>NaN</td>\n",
       "      <td>S</td>\n",
       "    </tr>\n",
       "    <tr>\n",
       "      <th>3</th>\n",
       "      <td>4</td>\n",
       "      <td>1.0</td>\n",
       "      <td>1</td>\n",
       "      <td>Futrelle, Mrs. Jacques Heath (Lily May Peel)</td>\n",
       "      <td>female</td>\n",
       "      <td>35.0</td>\n",
       "      <td>1</td>\n",
       "      <td>0</td>\n",
       "      <td>113803</td>\n",
       "      <td>53.1000</td>\n",
       "      <td>C123</td>\n",
       "      <td>S</td>\n",
       "    </tr>\n",
       "    <tr>\n",
       "      <th>4</th>\n",
       "      <td>5</td>\n",
       "      <td>0.0</td>\n",
       "      <td>3</td>\n",
       "      <td>Allen, Mr. William Henry</td>\n",
       "      <td>male</td>\n",
       "      <td>35.0</td>\n",
       "      <td>0</td>\n",
       "      <td>0</td>\n",
       "      <td>373450</td>\n",
       "      <td>8.0500</td>\n",
       "      <td>NaN</td>\n",
       "      <td>S</td>\n",
       "    </tr>\n",
       "  </tbody>\n",
       "</table>\n",
       "</div>"
      ],
      "text/plain": [
       "   PassengerId  Survived  Pclass  \\\n",
       "0            1       0.0       3   \n",
       "1            2       1.0       1   \n",
       "2            3       1.0       3   \n",
       "3            4       1.0       1   \n",
       "4            5       0.0       3   \n",
       "\n",
       "                                                Name     Sex   Age  SibSp  \\\n",
       "0                            Braund, Mr. Owen Harris    male  22.0      1   \n",
       "1  Cumings, Mrs. John Bradley (Florence Briggs Th...  female  38.0      1   \n",
       "2                             Heikkinen, Miss. Laina  female  26.0      0   \n",
       "3       Futrelle, Mrs. Jacques Heath (Lily May Peel)  female  35.0      1   \n",
       "4                           Allen, Mr. William Henry    male  35.0      0   \n",
       "\n",
       "   Parch            Ticket     Fare Cabin Embarked  \n",
       "0      0         A/5 21171   7.2500   NaN        S  \n",
       "1      0          PC 17599  71.2833   C85        C  \n",
       "2      0  STON/O2. 3101282   7.9250   NaN        S  \n",
       "3      0            113803  53.1000  C123        S  \n",
       "4      0            373450   8.0500   NaN        S  "
      ]
     },
     "execution_count": 20,
     "metadata": {},
     "output_type": "execute_result"
    }
   ],
   "source": [
    "train_test = pd.concat([train, test], ignore_index=True)\n",
    "train_test.head()"
   ]
  },
  {
   "cell_type": "code",
   "execution_count": 21,
   "id": "b1430b03",
   "metadata": {
    "execution": {
     "iopub.execute_input": "2024-01-30T12:38:19.176793Z",
     "iopub.status.busy": "2024-01-30T12:38:19.176325Z",
     "iopub.status.idle": "2024-01-30T12:38:19.242838Z",
     "shell.execute_reply": "2024-01-30T12:38:19.241498Z"
    },
    "papermill": {
     "duration": 0.102934,
     "end_time": "2024-01-30T12:38:19.245525",
     "exception": false,
     "start_time": "2024-01-30T12:38:19.142591",
     "status": "completed"
    },
    "tags": []
   },
   "outputs": [
    {
     "name": "stdout",
     "output_type": "stream",
     "text": [
      "<class 'pandas.core.frame.DataFrame'>\n",
      "RangeIndex: 1309 entries, 0 to 1308\n",
      "Data columns (total 12 columns):\n",
      " #   Column       Non-Null Count  Dtype  \n",
      "---  ------       --------------  -----  \n",
      " 0   PassengerId  1309 non-null   int64  \n",
      " 1   Survived     891 non-null    float64\n",
      " 2   Pclass       1309 non-null   int64  \n",
      " 3   Name         1309 non-null   object \n",
      " 4   Sex          1309 non-null   object \n",
      " 5   Age          1046 non-null   float64\n",
      " 6   SibSp        1309 non-null   int64  \n",
      " 7   Parch        1309 non-null   int64  \n",
      " 8   Ticket       1309 non-null   object \n",
      " 9   Fare         1308 non-null   float64\n",
      " 10  Cabin        1309 non-null   object \n",
      " 11  Embarked     1307 non-null   object \n",
      "dtypes: float64(3), int64(4), object(5)\n",
      "memory usage: 122.8+ KB\n",
      "None\n"
     ]
    },
    {
     "data": {
      "text/html": [
       "<div>\n",
       "<style scoped>\n",
       "    .dataframe tbody tr th:only-of-type {\n",
       "        vertical-align: middle;\n",
       "    }\n",
       "\n",
       "    .dataframe tbody tr th {\n",
       "        vertical-align: top;\n",
       "    }\n",
       "\n",
       "    .dataframe thead th {\n",
       "        text-align: right;\n",
       "    }\n",
       "</style>\n",
       "<table border=\"1\" class=\"dataframe\">\n",
       "  <thead>\n",
       "    <tr style=\"text-align: right;\">\n",
       "      <th></th>\n",
       "      <th>PassengerId</th>\n",
       "      <th>Survived</th>\n",
       "      <th>Pclass</th>\n",
       "      <th>Name</th>\n",
       "      <th>Sex</th>\n",
       "      <th>Age</th>\n",
       "      <th>SibSp</th>\n",
       "      <th>Parch</th>\n",
       "      <th>Ticket</th>\n",
       "      <th>Fare</th>\n",
       "      <th>Cabin</th>\n",
       "      <th>Embarked</th>\n",
       "    </tr>\n",
       "  </thead>\n",
       "  <tbody>\n",
       "    <tr>\n",
       "      <th>0</th>\n",
       "      <td>1</td>\n",
       "      <td>0.0</td>\n",
       "      <td>3</td>\n",
       "      <td>Braund, Mr. Owen Harris</td>\n",
       "      <td>male</td>\n",
       "      <td>22.0</td>\n",
       "      <td>1</td>\n",
       "      <td>0</td>\n",
       "      <td>A/5 21171</td>\n",
       "      <td>7.2500</td>\n",
       "      <td>C_1</td>\n",
       "      <td>S</td>\n",
       "    </tr>\n",
       "    <tr>\n",
       "      <th>1</th>\n",
       "      <td>2</td>\n",
       "      <td>1.0</td>\n",
       "      <td>1</td>\n",
       "      <td>Cumings, Mrs. John Bradley (Florence Briggs Th...</td>\n",
       "      <td>female</td>\n",
       "      <td>38.0</td>\n",
       "      <td>1</td>\n",
       "      <td>0</td>\n",
       "      <td>PC 17599</td>\n",
       "      <td>71.2833</td>\n",
       "      <td>C85</td>\n",
       "      <td>C</td>\n",
       "    </tr>\n",
       "    <tr>\n",
       "      <th>2</th>\n",
       "      <td>3</td>\n",
       "      <td>1.0</td>\n",
       "      <td>3</td>\n",
       "      <td>Heikkinen, Miss. Laina</td>\n",
       "      <td>female</td>\n",
       "      <td>26.0</td>\n",
       "      <td>0</td>\n",
       "      <td>0</td>\n",
       "      <td>STON/O2. 3101282</td>\n",
       "      <td>7.9250</td>\n",
       "      <td>C_2</td>\n",
       "      <td>S</td>\n",
       "    </tr>\n",
       "    <tr>\n",
       "      <th>3</th>\n",
       "      <td>4</td>\n",
       "      <td>1.0</td>\n",
       "      <td>1</td>\n",
       "      <td>Futrelle, Mrs. Jacques Heath (Lily May Peel)</td>\n",
       "      <td>female</td>\n",
       "      <td>35.0</td>\n",
       "      <td>1</td>\n",
       "      <td>0</td>\n",
       "      <td>113803</td>\n",
       "      <td>53.1000</td>\n",
       "      <td>C123</td>\n",
       "      <td>S</td>\n",
       "    </tr>\n",
       "    <tr>\n",
       "      <th>4</th>\n",
       "      <td>5</td>\n",
       "      <td>0.0</td>\n",
       "      <td>3</td>\n",
       "      <td>Allen, Mr. William Henry</td>\n",
       "      <td>male</td>\n",
       "      <td>35.0</td>\n",
       "      <td>0</td>\n",
       "      <td>0</td>\n",
       "      <td>373450</td>\n",
       "      <td>8.0500</td>\n",
       "      <td>C_3</td>\n",
       "      <td>S</td>\n",
       "    </tr>\n",
       "    <tr>\n",
       "      <th>5</th>\n",
       "      <td>6</td>\n",
       "      <td>0.0</td>\n",
       "      <td>3</td>\n",
       "      <td>Moran, Mr. James</td>\n",
       "      <td>male</td>\n",
       "      <td>NaN</td>\n",
       "      <td>0</td>\n",
       "      <td>0</td>\n",
       "      <td>330877</td>\n",
       "      <td>8.4583</td>\n",
       "      <td>C_4</td>\n",
       "      <td>Q</td>\n",
       "    </tr>\n",
       "    <tr>\n",
       "      <th>6</th>\n",
       "      <td>7</td>\n",
       "      <td>0.0</td>\n",
       "      <td>1</td>\n",
       "      <td>McCarthy, Mr. Timothy J</td>\n",
       "      <td>male</td>\n",
       "      <td>54.0</td>\n",
       "      <td>0</td>\n",
       "      <td>0</td>\n",
       "      <td>17463</td>\n",
       "      <td>51.8625</td>\n",
       "      <td>E46</td>\n",
       "      <td>S</td>\n",
       "    </tr>\n",
       "    <tr>\n",
       "      <th>7</th>\n",
       "      <td>8</td>\n",
       "      <td>0.0</td>\n",
       "      <td>3</td>\n",
       "      <td>Palsson, Master. Gosta Leonard</td>\n",
       "      <td>male</td>\n",
       "      <td>2.0</td>\n",
       "      <td>3</td>\n",
       "      <td>1</td>\n",
       "      <td>349909</td>\n",
       "      <td>21.0750</td>\n",
       "      <td>C_5</td>\n",
       "      <td>S</td>\n",
       "    </tr>\n",
       "    <tr>\n",
       "      <th>8</th>\n",
       "      <td>9</td>\n",
       "      <td>1.0</td>\n",
       "      <td>3</td>\n",
       "      <td>Johnson, Mrs. Oscar W (Elisabeth Vilhelmina Berg)</td>\n",
       "      <td>female</td>\n",
       "      <td>27.0</td>\n",
       "      <td>0</td>\n",
       "      <td>2</td>\n",
       "      <td>347742</td>\n",
       "      <td>11.1333</td>\n",
       "      <td>C_6</td>\n",
       "      <td>S</td>\n",
       "    </tr>\n",
       "    <tr>\n",
       "      <th>9</th>\n",
       "      <td>10</td>\n",
       "      <td>1.0</td>\n",
       "      <td>2</td>\n",
       "      <td>Nasser, Mrs. Nicholas (Adele Achem)</td>\n",
       "      <td>female</td>\n",
       "      <td>14.0</td>\n",
       "      <td>1</td>\n",
       "      <td>0</td>\n",
       "      <td>237736</td>\n",
       "      <td>30.0708</td>\n",
       "      <td>C_7</td>\n",
       "      <td>C</td>\n",
       "    </tr>\n",
       "    <tr>\n",
       "      <th>10</th>\n",
       "      <td>11</td>\n",
       "      <td>1.0</td>\n",
       "      <td>3</td>\n",
       "      <td>Sandstrom, Miss. Marguerite Rut</td>\n",
       "      <td>female</td>\n",
       "      <td>4.0</td>\n",
       "      <td>1</td>\n",
       "      <td>1</td>\n",
       "      <td>PP 9549</td>\n",
       "      <td>16.7000</td>\n",
       "      <td>G6</td>\n",
       "      <td>S</td>\n",
       "    </tr>\n",
       "    <tr>\n",
       "      <th>11</th>\n",
       "      <td>12</td>\n",
       "      <td>1.0</td>\n",
       "      <td>1</td>\n",
       "      <td>Bonnell, Miss. Elizabeth</td>\n",
       "      <td>female</td>\n",
       "      <td>58.0</td>\n",
       "      <td>0</td>\n",
       "      <td>0</td>\n",
       "      <td>113783</td>\n",
       "      <td>26.5500</td>\n",
       "      <td>C103</td>\n",
       "      <td>S</td>\n",
       "    </tr>\n",
       "    <tr>\n",
       "      <th>12</th>\n",
       "      <td>13</td>\n",
       "      <td>0.0</td>\n",
       "      <td>3</td>\n",
       "      <td>Saundercock, Mr. William Henry</td>\n",
       "      <td>male</td>\n",
       "      <td>20.0</td>\n",
       "      <td>0</td>\n",
       "      <td>0</td>\n",
       "      <td>A/5. 2151</td>\n",
       "      <td>8.0500</td>\n",
       "      <td>C_8</td>\n",
       "      <td>S</td>\n",
       "    </tr>\n",
       "    <tr>\n",
       "      <th>13</th>\n",
       "      <td>14</td>\n",
       "      <td>0.0</td>\n",
       "      <td>3</td>\n",
       "      <td>Andersson, Mr. Anders Johan</td>\n",
       "      <td>male</td>\n",
       "      <td>39.0</td>\n",
       "      <td>1</td>\n",
       "      <td>5</td>\n",
       "      <td>347082</td>\n",
       "      <td>31.2750</td>\n",
       "      <td>C_9</td>\n",
       "      <td>S</td>\n",
       "    </tr>\n",
       "    <tr>\n",
       "      <th>14</th>\n",
       "      <td>15</td>\n",
       "      <td>0.0</td>\n",
       "      <td>3</td>\n",
       "      <td>Vestrom, Miss. Hulda Amanda Adolfina</td>\n",
       "      <td>female</td>\n",
       "      <td>14.0</td>\n",
       "      <td>0</td>\n",
       "      <td>0</td>\n",
       "      <td>350406</td>\n",
       "      <td>7.8542</td>\n",
       "      <td>C_10</td>\n",
       "      <td>S</td>\n",
       "    </tr>\n",
       "  </tbody>\n",
       "</table>\n",
       "</div>"
      ],
      "text/plain": [
       "    PassengerId  Survived  Pclass  \\\n",
       "0             1       0.0       3   \n",
       "1             2       1.0       1   \n",
       "2             3       1.0       3   \n",
       "3             4       1.0       1   \n",
       "4             5       0.0       3   \n",
       "5             6       0.0       3   \n",
       "6             7       0.0       1   \n",
       "7             8       0.0       3   \n",
       "8             9       1.0       3   \n",
       "9            10       1.0       2   \n",
       "10           11       1.0       3   \n",
       "11           12       1.0       1   \n",
       "12           13       0.0       3   \n",
       "13           14       0.0       3   \n",
       "14           15       0.0       3   \n",
       "\n",
       "                                                 Name     Sex   Age  SibSp  \\\n",
       "0                             Braund, Mr. Owen Harris    male  22.0      1   \n",
       "1   Cumings, Mrs. John Bradley (Florence Briggs Th...  female  38.0      1   \n",
       "2                              Heikkinen, Miss. Laina  female  26.0      0   \n",
       "3        Futrelle, Mrs. Jacques Heath (Lily May Peel)  female  35.0      1   \n",
       "4                            Allen, Mr. William Henry    male  35.0      0   \n",
       "5                                    Moran, Mr. James    male   NaN      0   \n",
       "6                             McCarthy, Mr. Timothy J    male  54.0      0   \n",
       "7                      Palsson, Master. Gosta Leonard    male   2.0      3   \n",
       "8   Johnson, Mrs. Oscar W (Elisabeth Vilhelmina Berg)  female  27.0      0   \n",
       "9                 Nasser, Mrs. Nicholas (Adele Achem)  female  14.0      1   \n",
       "10                    Sandstrom, Miss. Marguerite Rut  female   4.0      1   \n",
       "11                           Bonnell, Miss. Elizabeth  female  58.0      0   \n",
       "12                     Saundercock, Mr. William Henry    male  20.0      0   \n",
       "13                        Andersson, Mr. Anders Johan    male  39.0      1   \n",
       "14               Vestrom, Miss. Hulda Amanda Adolfina  female  14.0      0   \n",
       "\n",
       "    Parch            Ticket     Fare Cabin Embarked  \n",
       "0       0         A/5 21171   7.2500   C_1        S  \n",
       "1       0          PC 17599  71.2833   C85        C  \n",
       "2       0  STON/O2. 3101282   7.9250   C_2        S  \n",
       "3       0            113803  53.1000  C123        S  \n",
       "4       0            373450   8.0500   C_3        S  \n",
       "5       0            330877   8.4583   C_4        Q  \n",
       "6       0             17463  51.8625   E46        S  \n",
       "7       1            349909  21.0750   C_5        S  \n",
       "8       2            347742  11.1333   C_6        S  \n",
       "9       0            237736  30.0708   C_7        C  \n",
       "10      1           PP 9549  16.7000    G6        S  \n",
       "11      0            113783  26.5500  C103        S  \n",
       "12      0         A/5. 2151   8.0500   C_8        S  \n",
       "13      5            347082  31.2750   C_9        S  \n",
       "14      0            350406   7.8542  C_10        S  "
      ]
     },
     "execution_count": 21,
     "metadata": {},
     "output_type": "execute_result"
    }
   ],
   "source": [
    "# Create a dictionary to store unique cabin names for each ticket number\n",
    "ticket_cabin_mapping = {}\n",
    "\n",
    "# Function to generate unique cabin names\n",
    "def generate_cabin(ticket, cabin):\n",
    "    if ticket not in ticket_cabin_mapping:\n",
    "        if pd.notna(cabin):\n",
    "            return cabin \n",
    "        else:\n",
    "            ticket_cabin_mapping[ticket] = len(ticket_cabin_mapping) + 1\n",
    "            return f'C_{ticket_cabin_mapping[ticket]}'\n",
    "    else:\n",
    "        if pd.notna(cabin):\n",
    "            return cabin \n",
    "        else:\n",
    "            return f'C_{ticket_cabin_mapping[ticket]}'\n",
    "\n",
    "# Apply the function to create a new 'Cabin' column\n",
    "train_test['Cabin'] = train_test.apply(lambda row: generate_cabin(row['Ticket'], row['Cabin']), axis=1)\n",
    "\n",
    "\n",
    "print(train_test.info())\n",
    "train_test.head(15)"
   ]
  },
  {
   "cell_type": "markdown",
   "id": "51130286",
   "metadata": {
    "papermill": {
     "duration": 0.030586,
     "end_time": "2024-01-30T12:38:19.307148",
     "exception": false,
     "start_time": "2024-01-30T12:38:19.276562",
     "status": "completed"
    },
    "tags": []
   },
   "source": [
    "# Test\n",
    ">PC 17569"
   ]
  },
  {
   "cell_type": "code",
   "execution_count": 22,
   "id": "ee2aa7a3",
   "metadata": {
    "execution": {
     "iopub.execute_input": "2024-01-30T12:38:19.371205Z",
     "iopub.status.busy": "2024-01-30T12:38:19.370717Z",
     "iopub.status.idle": "2024-01-30T12:38:19.375600Z",
     "shell.execute_reply": "2024-01-30T12:38:19.374387Z"
    },
    "papermill": {
     "duration": 0.040224,
     "end_time": "2024-01-30T12:38:19.378267",
     "exception": false,
     "start_time": "2024-01-30T12:38:19.338043",
     "status": "completed"
    },
    "tags": []
   },
   "outputs": [],
   "source": [
    "# train_test[train_test['Ticket'] == 'PC 17569']\n",
    "# train_test[:40]"
   ]
  },
  {
   "cell_type": "code",
   "execution_count": 23,
   "id": "90c8fe49",
   "metadata": {
    "execution": {
     "iopub.execute_input": "2024-01-30T12:38:19.446388Z",
     "iopub.status.busy": "2024-01-30T12:38:19.445951Z",
     "iopub.status.idle": "2024-01-30T12:38:19.462272Z",
     "shell.execute_reply": "2024-01-30T12:38:19.461358Z"
    },
    "papermill": {
     "duration": 0.053733,
     "end_time": "2024-01-30T12:38:19.464855",
     "exception": false,
     "start_time": "2024-01-30T12:38:19.411122",
     "status": "completed"
    },
    "tags": []
   },
   "outputs": [
    {
     "name": "stdout",
     "output_type": "stream",
     "text": [
      "<class 'pandas.core.frame.DataFrame'>\n",
      "RangeIndex: 1309 entries, 0 to 1308\n",
      "Data columns (total 12 columns):\n",
      " #   Column       Non-Null Count  Dtype  \n",
      "---  ------       --------------  -----  \n",
      " 0   PassengerId  1309 non-null   int64  \n",
      " 1   Survived     891 non-null    float64\n",
      " 2   Pclass       1309 non-null   int64  \n",
      " 3   Name         1309 non-null   object \n",
      " 4   Sex          1309 non-null   object \n",
      " 5   Age          1046 non-null   float64\n",
      " 6   SibSp        1309 non-null   int64  \n",
      " 7   Parch        1309 non-null   int64  \n",
      " 8   Ticket       1309 non-null   object \n",
      " 9   Fare         1308 non-null   float64\n",
      " 10  Cabin        1309 non-null   int64  \n",
      " 11  Embarked     1307 non-null   object \n",
      "dtypes: float64(3), int64(5), object(4)\n",
      "memory usage: 122.8+ KB\n"
     ]
    }
   ],
   "source": [
    "train_test['Cabin'] = pd.factorize(train_test['Cabin'])[0]\n",
    "train_test.info()"
   ]
  },
  {
   "cell_type": "code",
   "execution_count": 24,
   "id": "76b6dc8a",
   "metadata": {
    "execution": {
     "iopub.execute_input": "2024-01-30T12:38:19.530552Z",
     "iopub.status.busy": "2024-01-30T12:38:19.529282Z",
     "iopub.status.idle": "2024-01-30T12:38:19.540422Z",
     "shell.execute_reply": "2024-01-30T12:38:19.539193Z"
    },
    "papermill": {
     "duration": 0.047273,
     "end_time": "2024-01-30T12:38:19.543501",
     "exception": false,
     "start_time": "2024-01-30T12:38:19.496228",
     "status": "completed"
    },
    "tags": []
   },
   "outputs": [],
   "source": [
    "train = train_test[train_test['Survived'].notnull()].copy()\n",
    "train.Survived =train.Survived.astype('int')\n",
    "test = train_test[train_test['Survived'].isnull()].drop(\"Survived\",axis=1)"
   ]
  },
  {
   "cell_type": "code",
   "execution_count": 25,
   "id": "1020d327",
   "metadata": {
    "execution": {
     "iopub.execute_input": "2024-01-30T12:38:19.610291Z",
     "iopub.status.busy": "2024-01-30T12:38:19.609846Z",
     "iopub.status.idle": "2024-01-30T12:38:19.636391Z",
     "shell.execute_reply": "2024-01-30T12:38:19.635007Z"
    },
    "papermill": {
     "duration": 0.063927,
     "end_time": "2024-01-30T12:38:19.639685",
     "exception": false,
     "start_time": "2024-01-30T12:38:19.575758",
     "status": "completed"
    },
    "tags": []
   },
   "outputs": [
    {
     "name": "stdout",
     "output_type": "stream",
     "text": [
      "<class 'pandas.core.frame.DataFrame'>\n",
      "Index: 891 entries, 0 to 890\n",
      "Data columns (total 12 columns):\n",
      " #   Column       Non-Null Count  Dtype  \n",
      "---  ------       --------------  -----  \n",
      " 0   PassengerId  891 non-null    int64  \n",
      " 1   Survived     891 non-null    int64  \n",
      " 2   Pclass       891 non-null    int64  \n",
      " 3   Name         891 non-null    object \n",
      " 4   Sex          891 non-null    object \n",
      " 5   Age          714 non-null    float64\n",
      " 6   SibSp        891 non-null    int64  \n",
      " 7   Parch        891 non-null    int64  \n",
      " 8   Ticket       891 non-null    object \n",
      " 9   Fare         891 non-null    float64\n",
      " 10  Cabin        891 non-null    int64  \n",
      " 11  Embarked     889 non-null    object \n",
      "dtypes: float64(2), int64(6), object(4)\n",
      "memory usage: 90.5+ KB\n",
      "None\n",
      "_+_+_+_&*_*_*_*_*_\n",
      "<class 'pandas.core.frame.DataFrame'>\n",
      "Index: 418 entries, 891 to 1308\n",
      "Data columns (total 11 columns):\n",
      " #   Column       Non-Null Count  Dtype  \n",
      "---  ------       --------------  -----  \n",
      " 0   PassengerId  418 non-null    int64  \n",
      " 1   Pclass       418 non-null    int64  \n",
      " 2   Name         418 non-null    object \n",
      " 3   Sex          418 non-null    object \n",
      " 4   Age          332 non-null    float64\n",
      " 5   SibSp        418 non-null    int64  \n",
      " 6   Parch        418 non-null    int64  \n",
      " 7   Ticket       418 non-null    object \n",
      " 8   Fare         417 non-null    float64\n",
      " 9   Cabin        418 non-null    int64  \n",
      " 10  Embarked     418 non-null    object \n",
      "dtypes: float64(2), int64(5), object(4)\n",
      "memory usage: 39.2+ KB\n",
      "None\n"
     ]
    }
   ],
   "source": [
    "print(train.info())\n",
    "print('_+_+_+_&*_*_*_*_*_')\n",
    "print(test.info())"
   ]
  },
  {
   "cell_type": "code",
   "execution_count": 26,
   "id": "eee9e978",
   "metadata": {
    "execution": {
     "iopub.execute_input": "2024-01-30T12:38:19.705236Z",
     "iopub.status.busy": "2024-01-30T12:38:19.704434Z",
     "iopub.status.idle": "2024-01-30T12:38:19.718302Z",
     "shell.execute_reply": "2024-01-30T12:38:19.717080Z"
    },
    "papermill": {
     "duration": 0.050028,
     "end_time": "2024-01-30T12:38:19.721366",
     "exception": false,
     "start_time": "2024-01-30T12:38:19.671338",
     "status": "completed"
    },
    "tags": []
   },
   "outputs": [
    {
     "name": "stdout",
     "output_type": "stream",
     "text": [
      "Before (891, 12) (418, 11) (891, 12) (418, 11)\n"
     ]
    },
    {
     "data": {
      "text/plain": [
       "('After', (891, 11), (418, 10), (891, 11), (418, 10))"
      ]
     },
     "execution_count": 26,
     "metadata": {},
     "output_type": "execute_result"
    }
   ],
   "source": [
    "# combining all data\n",
    "full_data = [train, test]\n",
    "print(\"Before\", train.shape, test.shape, full_data[0].shape, full_data[1].shape)\n",
    "\n",
    "train = train.drop(['Ticket'], axis=1)\n",
    "test = test.drop(['Ticket'], axis=1)\n",
    "full_data = [train, test]\n",
    "\n",
    "\"After\", train.shape, test.shape, full_data[0].shape, full_data[1].shape"
   ]
  },
  {
   "cell_type": "code",
   "execution_count": 27,
   "id": "371f89b8",
   "metadata": {
    "execution": {
     "iopub.execute_input": "2024-01-30T12:38:19.786871Z",
     "iopub.status.busy": "2024-01-30T12:38:19.786007Z",
     "iopub.status.idle": "2024-01-30T12:38:19.807251Z",
     "shell.execute_reply": "2024-01-30T12:38:19.805889Z"
    },
    "papermill": {
     "duration": 0.05724,
     "end_time": "2024-01-30T12:38:19.809864",
     "exception": false,
     "start_time": "2024-01-30T12:38:19.752624",
     "status": "completed"
    },
    "tags": []
   },
   "outputs": [
    {
     "name": "stdout",
     "output_type": "stream",
     "text": [
      "<class 'pandas.core.frame.DataFrame'>\n",
      "Index: 891 entries, 0 to 890\n",
      "Data columns (total 11 columns):\n",
      " #   Column       Non-Null Count  Dtype  \n",
      "---  ------       --------------  -----  \n",
      " 0   PassengerId  891 non-null    int64  \n",
      " 1   Survived     891 non-null    int64  \n",
      " 2   Pclass       891 non-null    int64  \n",
      " 3   Name         891 non-null    object \n",
      " 4   Sex          891 non-null    object \n",
      " 5   Age          714 non-null    float64\n",
      " 6   SibSp        891 non-null    int64  \n",
      " 7   Parch        891 non-null    int64  \n",
      " 8   Fare         891 non-null    float64\n",
      " 9   Cabin        891 non-null    int64  \n",
      " 10  Embarked     889 non-null    object \n",
      "dtypes: float64(2), int64(6), object(3)\n",
      "memory usage: 83.5+ KB\n",
      "None\n",
      "_+_+_+_&*_*_*_*_*_\n",
      "<class 'pandas.core.frame.DataFrame'>\n",
      "Index: 418 entries, 891 to 1308\n",
      "Data columns (total 10 columns):\n",
      " #   Column       Non-Null Count  Dtype  \n",
      "---  ------       --------------  -----  \n",
      " 0   PassengerId  418 non-null    int64  \n",
      " 1   Pclass       418 non-null    int64  \n",
      " 2   Name         418 non-null    object \n",
      " 3   Sex          418 non-null    object \n",
      " 4   Age          332 non-null    float64\n",
      " 5   SibSp        418 non-null    int64  \n",
      " 6   Parch        418 non-null    int64  \n",
      " 7   Fare         417 non-null    float64\n",
      " 8   Cabin        418 non-null    int64  \n",
      " 9   Embarked     418 non-null    object \n",
      "dtypes: float64(2), int64(5), object(3)\n",
      "memory usage: 35.9+ KB\n",
      "None\n"
     ]
    }
   ],
   "source": [
    "print(train.info())\n",
    "print('_+_+_+_&*_*_*_*_*_')\n",
    "print(test.info())"
   ]
  },
  {
   "cell_type": "code",
   "execution_count": 28,
   "id": "fab7dd81",
   "metadata": {
    "execution": {
     "iopub.execute_input": "2024-01-30T12:38:19.875754Z",
     "iopub.status.busy": "2024-01-30T12:38:19.874759Z",
     "iopub.status.idle": "2024-01-30T12:38:19.905400Z",
     "shell.execute_reply": "2024-01-30T12:38:19.904515Z"
    },
    "papermill": {
     "duration": 0.066237,
     "end_time": "2024-01-30T12:38:19.907740",
     "exception": false,
     "start_time": "2024-01-30T12:38:19.841503",
     "status": "completed"
    },
    "tags": []
   },
   "outputs": [
    {
     "data": {
      "text/html": [
       "<div>\n",
       "<style scoped>\n",
       "    .dataframe tbody tr th:only-of-type {\n",
       "        vertical-align: middle;\n",
       "    }\n",
       "\n",
       "    .dataframe tbody tr th {\n",
       "        vertical-align: top;\n",
       "    }\n",
       "\n",
       "    .dataframe thead th {\n",
       "        text-align: right;\n",
       "    }\n",
       "</style>\n",
       "<table border=\"1\" class=\"dataframe\">\n",
       "  <thead>\n",
       "    <tr style=\"text-align: right;\">\n",
       "      <th>Sex</th>\n",
       "      <th>female</th>\n",
       "      <th>male</th>\n",
       "    </tr>\n",
       "    <tr>\n",
       "      <th>Title</th>\n",
       "      <th></th>\n",
       "      <th></th>\n",
       "    </tr>\n",
       "  </thead>\n",
       "  <tbody>\n",
       "    <tr>\n",
       "      <th>Capt</th>\n",
       "      <td>0</td>\n",
       "      <td>1</td>\n",
       "    </tr>\n",
       "    <tr>\n",
       "      <th>Col</th>\n",
       "      <td>0</td>\n",
       "      <td>2</td>\n",
       "    </tr>\n",
       "    <tr>\n",
       "      <th>Countess</th>\n",
       "      <td>1</td>\n",
       "      <td>0</td>\n",
       "    </tr>\n",
       "    <tr>\n",
       "      <th>Don</th>\n",
       "      <td>0</td>\n",
       "      <td>1</td>\n",
       "    </tr>\n",
       "    <tr>\n",
       "      <th>Dr</th>\n",
       "      <td>1</td>\n",
       "      <td>6</td>\n",
       "    </tr>\n",
       "    <tr>\n",
       "      <th>Jonkheer</th>\n",
       "      <td>0</td>\n",
       "      <td>1</td>\n",
       "    </tr>\n",
       "    <tr>\n",
       "      <th>Lady</th>\n",
       "      <td>1</td>\n",
       "      <td>0</td>\n",
       "    </tr>\n",
       "    <tr>\n",
       "      <th>Major</th>\n",
       "      <td>0</td>\n",
       "      <td>2</td>\n",
       "    </tr>\n",
       "    <tr>\n",
       "      <th>Master</th>\n",
       "      <td>0</td>\n",
       "      <td>40</td>\n",
       "    </tr>\n",
       "    <tr>\n",
       "      <th>Miss</th>\n",
       "      <td>182</td>\n",
       "      <td>0</td>\n",
       "    </tr>\n",
       "    <tr>\n",
       "      <th>Mlle</th>\n",
       "      <td>2</td>\n",
       "      <td>0</td>\n",
       "    </tr>\n",
       "    <tr>\n",
       "      <th>Mme</th>\n",
       "      <td>1</td>\n",
       "      <td>0</td>\n",
       "    </tr>\n",
       "    <tr>\n",
       "      <th>Mr</th>\n",
       "      <td>0</td>\n",
       "      <td>517</td>\n",
       "    </tr>\n",
       "    <tr>\n",
       "      <th>Mrs</th>\n",
       "      <td>125</td>\n",
       "      <td>0</td>\n",
       "    </tr>\n",
       "    <tr>\n",
       "      <th>Ms</th>\n",
       "      <td>1</td>\n",
       "      <td>0</td>\n",
       "    </tr>\n",
       "    <tr>\n",
       "      <th>Rev</th>\n",
       "      <td>0</td>\n",
       "      <td>6</td>\n",
       "    </tr>\n",
       "    <tr>\n",
       "      <th>Sir</th>\n",
       "      <td>0</td>\n",
       "      <td>1</td>\n",
       "    </tr>\n",
       "  </tbody>\n",
       "</table>\n",
       "</div>"
      ],
      "text/plain": [
       "Sex       female  male\n",
       "Title                 \n",
       "Capt           0     1\n",
       "Col            0     2\n",
       "Countess       1     0\n",
       "Don            0     1\n",
       "Dr             1     6\n",
       "Jonkheer       0     1\n",
       "Lady           1     0\n",
       "Major          0     2\n",
       "Master         0    40\n",
       "Miss         182     0\n",
       "Mlle           2     0\n",
       "Mme            1     0\n",
       "Mr             0   517\n",
       "Mrs          125     0\n",
       "Ms             1     0\n",
       "Rev            0     6\n",
       "Sir            0     1"
      ]
     },
     "execution_count": 28,
     "metadata": {},
     "output_type": "execute_result"
    }
   ],
   "source": [
    "for dataset in full_data:\n",
    "    dataset['Title'] = dataset.Name.str.extract(' ([A-Za-z]+)\\.', expand=False)\n",
    "\n",
    "pd.crosstab(train['Title'], train['Sex'])"
   ]
  },
  {
   "cell_type": "code",
   "execution_count": 29,
   "id": "adf8782d",
   "metadata": {
    "execution": {
     "iopub.execute_input": "2024-01-30T12:38:19.974748Z",
     "iopub.status.busy": "2024-01-30T12:38:19.973672Z",
     "iopub.status.idle": "2024-01-30T12:38:19.999072Z",
     "shell.execute_reply": "2024-01-30T12:38:19.997754Z"
    },
    "papermill": {
     "duration": 0.06212,
     "end_time": "2024-01-30T12:38:20.001826",
     "exception": false,
     "start_time": "2024-01-30T12:38:19.939706",
     "status": "completed"
    },
    "tags": []
   },
   "outputs": [
    {
     "data": {
      "text/html": [
       "<div>\n",
       "<style scoped>\n",
       "    .dataframe tbody tr th:only-of-type {\n",
       "        vertical-align: middle;\n",
       "    }\n",
       "\n",
       "    .dataframe tbody tr th {\n",
       "        vertical-align: top;\n",
       "    }\n",
       "\n",
       "    .dataframe thead th {\n",
       "        text-align: right;\n",
       "    }\n",
       "</style>\n",
       "<table border=\"1\" class=\"dataframe\">\n",
       "  <thead>\n",
       "    <tr style=\"text-align: right;\">\n",
       "      <th></th>\n",
       "      <th>Title</th>\n",
       "      <th>Survived</th>\n",
       "    </tr>\n",
       "  </thead>\n",
       "  <tbody>\n",
       "    <tr>\n",
       "      <th>0</th>\n",
       "      <td>Master</td>\n",
       "      <td>0.575000</td>\n",
       "    </tr>\n",
       "    <tr>\n",
       "      <th>1</th>\n",
       "      <td>Miss</td>\n",
       "      <td>0.702703</td>\n",
       "    </tr>\n",
       "    <tr>\n",
       "      <th>2</th>\n",
       "      <td>Mr</td>\n",
       "      <td>0.156673</td>\n",
       "    </tr>\n",
       "    <tr>\n",
       "      <th>3</th>\n",
       "      <td>Mrs</td>\n",
       "      <td>0.793651</td>\n",
       "    </tr>\n",
       "    <tr>\n",
       "      <th>4</th>\n",
       "      <td>Rare</td>\n",
       "      <td>0.347826</td>\n",
       "    </tr>\n",
       "  </tbody>\n",
       "</table>\n",
       "</div>"
      ],
      "text/plain": [
       "    Title  Survived\n",
       "0  Master  0.575000\n",
       "1    Miss  0.702703\n",
       "2      Mr  0.156673\n",
       "3     Mrs  0.793651\n",
       "4    Rare  0.347826"
      ]
     },
     "execution_count": 29,
     "metadata": {},
     "output_type": "execute_result"
    }
   ],
   "source": [
    "for dataset in full_data:\n",
    "    dataset['Title'] = dataset['Title'].replace(['Lady', 'Countess','Capt', 'Col',\\\n",
    " \t'Don', 'Dr', 'Major', 'Rev', 'Sir', 'Jonkheer', 'Dona'], 'Rare')\n",
    "\n",
    "    dataset['Title'] = dataset['Title'].replace('Mlle', 'Miss')\n",
    "    dataset['Title'] = dataset['Title'].replace('Ms', 'Miss')\n",
    "    dataset['Title'] = dataset['Title'].replace('Mme', 'Mrs')\n",
    "    \n",
    "train[['Title', 'Survived']].groupby(['Title'], as_index=False).mean()"
   ]
  },
  {
   "cell_type": "code",
   "execution_count": 30,
   "id": "f86801c1",
   "metadata": {
    "execution": {
     "iopub.execute_input": "2024-01-30T12:38:20.072569Z",
     "iopub.status.busy": "2024-01-30T12:38:20.071331Z",
     "iopub.status.idle": "2024-01-30T12:38:20.093425Z",
     "shell.execute_reply": "2024-01-30T12:38:20.092260Z"
    },
    "papermill": {
     "duration": 0.060288,
     "end_time": "2024-01-30T12:38:20.096069",
     "exception": false,
     "start_time": "2024-01-30T12:38:20.035781",
     "status": "completed"
    },
    "tags": []
   },
   "outputs": [
    {
     "data": {
      "text/html": [
       "<div>\n",
       "<style scoped>\n",
       "    .dataframe tbody tr th:only-of-type {\n",
       "        vertical-align: middle;\n",
       "    }\n",
       "\n",
       "    .dataframe tbody tr th {\n",
       "        vertical-align: top;\n",
       "    }\n",
       "\n",
       "    .dataframe thead th {\n",
       "        text-align: right;\n",
       "    }\n",
       "</style>\n",
       "<table border=\"1\" class=\"dataframe\">\n",
       "  <thead>\n",
       "    <tr style=\"text-align: right;\">\n",
       "      <th></th>\n",
       "      <th>PassengerId</th>\n",
       "      <th>Survived</th>\n",
       "      <th>Pclass</th>\n",
       "      <th>Name</th>\n",
       "      <th>Sex</th>\n",
       "      <th>Age</th>\n",
       "      <th>SibSp</th>\n",
       "      <th>Parch</th>\n",
       "      <th>Fare</th>\n",
       "      <th>Cabin</th>\n",
       "      <th>Embarked</th>\n",
       "      <th>Title</th>\n",
       "    </tr>\n",
       "  </thead>\n",
       "  <tbody>\n",
       "    <tr>\n",
       "      <th>0</th>\n",
       "      <td>1</td>\n",
       "      <td>0</td>\n",
       "      <td>3</td>\n",
       "      <td>Braund, Mr. Owen Harris</td>\n",
       "      <td>male</td>\n",
       "      <td>22.0</td>\n",
       "      <td>1</td>\n",
       "      <td>0</td>\n",
       "      <td>7.2500</td>\n",
       "      <td>0</td>\n",
       "      <td>S</td>\n",
       "      <td>1</td>\n",
       "    </tr>\n",
       "    <tr>\n",
       "      <th>1</th>\n",
       "      <td>2</td>\n",
       "      <td>1</td>\n",
       "      <td>1</td>\n",
       "      <td>Cumings, Mrs. John Bradley (Florence Briggs Th...</td>\n",
       "      <td>female</td>\n",
       "      <td>38.0</td>\n",
       "      <td>1</td>\n",
       "      <td>0</td>\n",
       "      <td>71.2833</td>\n",
       "      <td>1</td>\n",
       "      <td>C</td>\n",
       "      <td>3</td>\n",
       "    </tr>\n",
       "    <tr>\n",
       "      <th>2</th>\n",
       "      <td>3</td>\n",
       "      <td>1</td>\n",
       "      <td>3</td>\n",
       "      <td>Heikkinen, Miss. Laina</td>\n",
       "      <td>female</td>\n",
       "      <td>26.0</td>\n",
       "      <td>0</td>\n",
       "      <td>0</td>\n",
       "      <td>7.9250</td>\n",
       "      <td>2</td>\n",
       "      <td>S</td>\n",
       "      <td>2</td>\n",
       "    </tr>\n",
       "    <tr>\n",
       "      <th>3</th>\n",
       "      <td>4</td>\n",
       "      <td>1</td>\n",
       "      <td>1</td>\n",
       "      <td>Futrelle, Mrs. Jacques Heath (Lily May Peel)</td>\n",
       "      <td>female</td>\n",
       "      <td>35.0</td>\n",
       "      <td>1</td>\n",
       "      <td>0</td>\n",
       "      <td>53.1000</td>\n",
       "      <td>3</td>\n",
       "      <td>S</td>\n",
       "      <td>3</td>\n",
       "    </tr>\n",
       "    <tr>\n",
       "      <th>4</th>\n",
       "      <td>5</td>\n",
       "      <td>0</td>\n",
       "      <td>3</td>\n",
       "      <td>Allen, Mr. William Henry</td>\n",
       "      <td>male</td>\n",
       "      <td>35.0</td>\n",
       "      <td>0</td>\n",
       "      <td>0</td>\n",
       "      <td>8.0500</td>\n",
       "      <td>4</td>\n",
       "      <td>S</td>\n",
       "      <td>1</td>\n",
       "    </tr>\n",
       "  </tbody>\n",
       "</table>\n",
       "</div>"
      ],
      "text/plain": [
       "   PassengerId  Survived  Pclass  \\\n",
       "0            1         0       3   \n",
       "1            2         1       1   \n",
       "2            3         1       3   \n",
       "3            4         1       1   \n",
       "4            5         0       3   \n",
       "\n",
       "                                                Name     Sex   Age  SibSp  \\\n",
       "0                            Braund, Mr. Owen Harris    male  22.0      1   \n",
       "1  Cumings, Mrs. John Bradley (Florence Briggs Th...  female  38.0      1   \n",
       "2                             Heikkinen, Miss. Laina  female  26.0      0   \n",
       "3       Futrelle, Mrs. Jacques Heath (Lily May Peel)  female  35.0      1   \n",
       "4                           Allen, Mr. William Henry    male  35.0      0   \n",
       "\n",
       "   Parch     Fare  Cabin Embarked  Title  \n",
       "0      0   7.2500      0        S      1  \n",
       "1      0  71.2833      1        C      3  \n",
       "2      0   7.9250      2        S      2  \n",
       "3      0  53.1000      3        S      3  \n",
       "4      0   8.0500      4        S      1  "
      ]
     },
     "execution_count": 30,
     "metadata": {},
     "output_type": "execute_result"
    }
   ],
   "source": [
    "title_mapping = {\"Mr\": 1, \"Miss\": 2, \"Mrs\": 3, \"Master\": 4, \"Rare\": 5}\n",
    "for dataset in full_data:\n",
    "    dataset['Title'] = dataset['Title'].map(title_mapping)\n",
    "    dataset['Title'] = dataset['Title'].fillna(0)\n",
    "\n",
    "train.head()"
   ]
  },
  {
   "cell_type": "code",
   "execution_count": 31,
   "id": "05217cc4",
   "metadata": {
    "execution": {
     "iopub.execute_input": "2024-01-30T12:38:20.163647Z",
     "iopub.status.busy": "2024-01-30T12:38:20.162641Z",
     "iopub.status.idle": "2024-01-30T12:38:20.173665Z",
     "shell.execute_reply": "2024-01-30T12:38:20.172529Z"
    },
    "papermill": {
     "duration": 0.047675,
     "end_time": "2024-01-30T12:38:20.176338",
     "exception": false,
     "start_time": "2024-01-30T12:38:20.128663",
     "status": "completed"
    },
    "tags": []
   },
   "outputs": [
    {
     "data": {
      "text/plain": [
       "((891, 10), (418, 10))"
      ]
     },
     "execution_count": 31,
     "metadata": {},
     "output_type": "execute_result"
    }
   ],
   "source": [
    "train = train.drop(['Name', 'PassengerId'], axis=1)\n",
    "test = test.drop(['Name'], axis=1)\n",
    "full_data = [train, test]\n",
    "train.shape, test.shape"
   ]
  },
  {
   "cell_type": "code",
   "execution_count": 32,
   "id": "551e3dc9",
   "metadata": {
    "execution": {
     "iopub.execute_input": "2024-01-30T12:38:20.245641Z",
     "iopub.status.busy": "2024-01-30T12:38:20.244649Z",
     "iopub.status.idle": "2024-01-30T12:38:23.155866Z",
     "shell.execute_reply": "2024-01-30T12:38:23.154955Z"
    },
    "papermill": {
     "duration": 2.947567,
     "end_time": "2024-01-30T12:38:23.158080",
     "exception": false,
     "start_time": "2024-01-30T12:38:20.210513",
     "status": "completed"
    },
    "tags": []
   },
   "outputs": [
    {
     "data": {
      "text/plain": [
       "<seaborn.axisgrid.FacetGrid at 0x7ab02d2cfac0>"
      ]
     },
     "execution_count": 32,
     "metadata": {},
     "output_type": "execute_result"
    },
    {
     "data": {
      "image/png": "[encoded data removed]",
      "text/plain": [
       "<Figure size 715.111x660 with 6 Axes>"
      ]
     },
     "metadata": {},
     "output_type": "display_data"
    }
   ],
   "source": [
    "grid = sns.FacetGrid(train, row='Pclass', col='Sex', height=2.2, aspect=1.6)\n",
    "grid.map(plt.hist, 'Age', alpha=.5, bins=20)\n",
    "grid.add_legend()"
   ]
  },
  {
   "cell_type": "code",
   "execution_count": 33,
   "id": "52b4101c",
   "metadata": {
    "execution": {
     "iopub.execute_input": "2024-01-30T12:38:23.227774Z",
     "iopub.status.busy": "2024-01-30T12:38:23.227329Z",
     "iopub.status.idle": "2024-01-30T12:38:23.235873Z",
     "shell.execute_reply": "2024-01-30T12:38:23.234734Z"
    },
    "papermill": {
     "duration": 0.045902,
     "end_time": "2024-01-30T12:38:23.238199",
     "exception": false,
     "start_time": "2024-01-30T12:38:23.192297",
     "status": "completed"
    },
    "tags": []
   },
   "outputs": [],
   "source": [
    "for dataset in full_data:\n",
    "    # Mapping Gender\n",
    "    dataset['Sex'] = dataset['Sex'].map( {'female': 0, 'male': 1} ).astype(int)"
   ]
  },
  {
   "cell_type": "code",
   "execution_count": 34,
   "id": "a0eea537",
   "metadata": {
    "execution": {
     "iopub.execute_input": "2024-01-30T12:38:23.307536Z",
     "iopub.status.busy": "2024-01-30T12:38:23.306872Z",
     "iopub.status.idle": "2024-01-30T12:38:23.313619Z",
     "shell.execute_reply": "2024-01-30T12:38:23.312447Z"
    },
    "papermill": {
     "duration": 0.044322,
     "end_time": "2024-01-30T12:38:23.316067",
     "exception": false,
     "start_time": "2024-01-30T12:38:23.271745",
     "status": "completed"
    },
    "tags": []
   },
   "outputs": [
    {
     "data": {
      "text/plain": [
       "array([[0., 0., 0.],\n",
       "       [0., 0., 0.]])"
      ]
     },
     "execution_count": 34,
     "metadata": {},
     "output_type": "execute_result"
    }
   ],
   "source": [
    "guess_ages = np.zeros((2,3))\n",
    "guess_ages"
   ]
  },
  {
   "cell_type": "code",
   "execution_count": 35,
   "id": "8a9db497",
   "metadata": {
    "execution": {
     "iopub.execute_input": "2024-01-30T12:38:23.384869Z",
     "iopub.status.busy": "2024-01-30T12:38:23.384044Z",
     "iopub.status.idle": "2024-01-30T12:38:23.430831Z",
     "shell.execute_reply": "2024-01-30T12:38:23.429707Z"
    },
    "papermill": {
     "duration": 0.084038,
     "end_time": "2024-01-30T12:38:23.433298",
     "exception": false,
     "start_time": "2024-01-30T12:38:23.349260",
     "status": "completed"
    },
    "tags": []
   },
   "outputs": [
    {
     "name": "stdout",
     "output_type": "stream",
     "text": [
      "<class 'pandas.core.frame.DataFrame'>\n",
      "Index: 891 entries, 0 to 890\n",
      "Data columns (total 10 columns):\n",
      " #   Column    Non-Null Count  Dtype  \n",
      "---  ------    --------------  -----  \n",
      " 0   Survived  891 non-null    int64  \n",
      " 1   Pclass    891 non-null    int64  \n",
      " 2   Sex       891 non-null    int64  \n",
      " 3   Age       891 non-null    int64  \n",
      " 4   SibSp     891 non-null    int64  \n",
      " 5   Parch     891 non-null    int64  \n",
      " 6   Fare      891 non-null    float64\n",
      " 7   Cabin     891 non-null    int64  \n",
      " 8   Embarked  889 non-null    object \n",
      " 9   Title     891 non-null    int64  \n",
      "dtypes: float64(1), int64(8), object(1)\n",
      "memory usage: 76.6+ KB\n"
     ]
    }
   ],
   "source": [
    "# Initialize guess_ages as a list\n",
    "guess_ages = []\n",
    "\n",
    "for dataset in full_data:\n",
    "    # Initialize guess_ages for each dataset\n",
    "    guess_ages_dataset = []\n",
    "\n",
    "    for i in range(0, 2):\n",
    "        for j in range(0, 3):\n",
    "            guess_df = dataset[(dataset['Sex'] == i) & (dataset['Pclass'] == j + 1)]['Age'].dropna()\n",
    "\n",
    "            age_guess = guess_df.median()\n",
    "\n",
    "            # Convert random age float to nearest .5 age\n",
    "            guess_ages_dataset.append(int(age_guess / 0.5 + 0.5) * 0.5)\n",
    "\n",
    "    guess_ages.append(guess_ages_dataset)\n",
    "\n",
    "for i, dataset in enumerate(full_data):\n",
    "    for j in range(0, 2):\n",
    "        for k in range(0, 3):\n",
    "            dataset.loc[(dataset.Age.isnull()) & (dataset.Sex == j) & (dataset.Pclass == k + 1), 'Age'] = guess_ages[i][j]\n",
    "\n",
    "    dataset['Age'] = dataset['Age'].astype(int)\n",
    "\n",
    "# Your code to print the information about the 'train' dataset\n",
    "train.info()"
   ]
  },
  {
   "cell_type": "code",
   "execution_count": 36,
   "id": "dc87b24f",
   "metadata": {
    "execution": {
     "iopub.execute_input": "2024-01-30T12:38:23.501869Z",
     "iopub.status.busy": "2024-01-30T12:38:23.501159Z",
     "iopub.status.idle": "2024-01-30T12:38:23.520515Z",
     "shell.execute_reply": "2024-01-30T12:38:23.519239Z"
    },
    "papermill": {
     "duration": 0.056888,
     "end_time": "2024-01-30T12:38:23.523225",
     "exception": false,
     "start_time": "2024-01-30T12:38:23.466337",
     "status": "completed"
    },
    "tags": []
   },
   "outputs": [
    {
     "data": {
      "text/html": [
       "<div>\n",
       "<style scoped>\n",
       "    .dataframe tbody tr th:only-of-type {\n",
       "        vertical-align: middle;\n",
       "    }\n",
       "\n",
       "    .dataframe tbody tr th {\n",
       "        vertical-align: top;\n",
       "    }\n",
       "\n",
       "    .dataframe thead th {\n",
       "        text-align: right;\n",
       "    }\n",
       "</style>\n",
       "<table border=\"1\" class=\"dataframe\">\n",
       "  <thead>\n",
       "    <tr style=\"text-align: right;\">\n",
       "      <th></th>\n",
       "      <th>Survived</th>\n",
       "      <th>Pclass</th>\n",
       "      <th>Sex</th>\n",
       "      <th>Age</th>\n",
       "      <th>SibSp</th>\n",
       "      <th>Parch</th>\n",
       "      <th>Fare</th>\n",
       "      <th>Cabin</th>\n",
       "      <th>Embarked</th>\n",
       "      <th>Title</th>\n",
       "    </tr>\n",
       "  </thead>\n",
       "  <tbody>\n",
       "    <tr>\n",
       "      <th>0</th>\n",
       "      <td>0</td>\n",
       "      <td>3</td>\n",
       "      <td>1</td>\n",
       "      <td>2</td>\n",
       "      <td>1</td>\n",
       "      <td>0</td>\n",
       "      <td>7.25</td>\n",
       "      <td>0</td>\n",
       "      <td>S</td>\n",
       "      <td>1</td>\n",
       "    </tr>\n",
       "  </tbody>\n",
       "</table>\n",
       "</div>"
      ],
      "text/plain": [
       "   Survived  Pclass  Sex  Age  SibSp  Parch  Fare  Cabin Embarked  Title\n",
       "0         0       3    1    2      1      0  7.25      0        S      1"
      ]
     },
     "execution_count": 36,
     "metadata": {},
     "output_type": "execute_result"
    }
   ],
   "source": [
    "# Define the bins and labels for AGE column\n",
    "bins_Age = [0, 16, 32, 48, 64, 82]\n",
    "labels_Age = [1, 2, 3, 4, 5]\n",
    "for dataset in full_data:\n",
    "     # Mapping Age\n",
    "    dataset['Age'] = pd.cut(dataset['Age'], bins=bins_Age, labels=labels_Age, right=False).astype(int)\n",
    "train.head(1)"
   ]
  },
  {
   "cell_type": "code",
   "execution_count": 37,
   "id": "bffdee32",
   "metadata": {
    "execution": {
     "iopub.execute_input": "2024-01-30T12:38:23.592496Z",
     "iopub.status.busy": "2024-01-30T12:38:23.592064Z",
     "iopub.status.idle": "2024-01-30T12:38:23.609229Z",
     "shell.execute_reply": "2024-01-30T12:38:23.608121Z"
    },
    "papermill": {
     "duration": 0.054927,
     "end_time": "2024-01-30T12:38:23.611866",
     "exception": false,
     "start_time": "2024-01-30T12:38:23.556939",
     "status": "completed"
    },
    "tags": []
   },
   "outputs": [
    {
     "data": {
      "text/html": [
       "<div>\n",
       "<style scoped>\n",
       "    .dataframe tbody tr th:only-of-type {\n",
       "        vertical-align: middle;\n",
       "    }\n",
       "\n",
       "    .dataframe tbody tr th {\n",
       "        vertical-align: top;\n",
       "    }\n",
       "\n",
       "    .dataframe thead th {\n",
       "        text-align: right;\n",
       "    }\n",
       "</style>\n",
       "<table border=\"1\" class=\"dataframe\">\n",
       "  <thead>\n",
       "    <tr style=\"text-align: right;\">\n",
       "      <th></th>\n",
       "      <th>FamilySize</th>\n",
       "      <th>Survived</th>\n",
       "    </tr>\n",
       "  </thead>\n",
       "  <tbody>\n",
       "    <tr>\n",
       "      <th>3</th>\n",
       "      <td>4</td>\n",
       "      <td>0.724138</td>\n",
       "    </tr>\n",
       "    <tr>\n",
       "      <th>2</th>\n",
       "      <td>3</td>\n",
       "      <td>0.578431</td>\n",
       "    </tr>\n",
       "    <tr>\n",
       "      <th>1</th>\n",
       "      <td>2</td>\n",
       "      <td>0.552795</td>\n",
       "    </tr>\n",
       "    <tr>\n",
       "      <th>6</th>\n",
       "      <td>7</td>\n",
       "      <td>0.333333</td>\n",
       "    </tr>\n",
       "    <tr>\n",
       "      <th>0</th>\n",
       "      <td>1</td>\n",
       "      <td>0.303538</td>\n",
       "    </tr>\n",
       "    <tr>\n",
       "      <th>4</th>\n",
       "      <td>5</td>\n",
       "      <td>0.200000</td>\n",
       "    </tr>\n",
       "    <tr>\n",
       "      <th>5</th>\n",
       "      <td>6</td>\n",
       "      <td>0.136364</td>\n",
       "    </tr>\n",
       "    <tr>\n",
       "      <th>7</th>\n",
       "      <td>8</td>\n",
       "      <td>0.000000</td>\n",
       "    </tr>\n",
       "    <tr>\n",
       "      <th>8</th>\n",
       "      <td>11</td>\n",
       "      <td>0.000000</td>\n",
       "    </tr>\n",
       "  </tbody>\n",
       "</table>\n",
       "</div>"
      ],
      "text/plain": [
       "   FamilySize  Survived\n",
       "3           4  0.724138\n",
       "2           3  0.578431\n",
       "1           2  0.552795\n",
       "6           7  0.333333\n",
       "0           1  0.303538\n",
       "4           5  0.200000\n",
       "5           6  0.136364\n",
       "7           8  0.000000\n",
       "8          11  0.000000"
      ]
     },
     "execution_count": 37,
     "metadata": {},
     "output_type": "execute_result"
    }
   ],
   "source": [
    "# Create new feature FamilySize as a combination of SibSp and Parch\n",
    "for dataset in full_data:\n",
    "    dataset['FamilySize'] = dataset['SibSp'] + dataset['Parch'] + 1\n",
    "\n",
    "train[['FamilySize', 'Survived']].groupby(['FamilySize'], as_index=False).mean().sort_values(by='Survived', ascending=False)\n",
    "# train.head(1)"
   ]
  },
  {
   "cell_type": "code",
   "execution_count": 38,
   "id": "e5f1ab67",
   "metadata": {
    "execution": {
     "iopub.execute_input": "2024-01-30T12:38:23.683276Z",
     "iopub.status.busy": "2024-01-30T12:38:23.682766Z",
     "iopub.status.idle": "2024-01-30T12:38:23.707879Z",
     "shell.execute_reply": "2024-01-30T12:38:23.706944Z"
    },
    "papermill": {
     "duration": 0.062972,
     "end_time": "2024-01-30T12:38:23.710083",
     "exception": false,
     "start_time": "2024-01-30T12:38:23.647111",
     "status": "completed"
    },
    "tags": []
   },
   "outputs": [
    {
     "data": {
      "text/html": [
       "<div>\n",
       "<style scoped>\n",
       "    .dataframe tbody tr th:only-of-type {\n",
       "        vertical-align: middle;\n",
       "    }\n",
       "\n",
       "    .dataframe tbody tr th {\n",
       "        vertical-align: top;\n",
       "    }\n",
       "\n",
       "    .dataframe thead th {\n",
       "        text-align: right;\n",
       "    }\n",
       "</style>\n",
       "<table border=\"1\" class=\"dataframe\">\n",
       "  <thead>\n",
       "    <tr style=\"text-align: right;\">\n",
       "      <th></th>\n",
       "      <th>Chance</th>\n",
       "      <th>Survived</th>\n",
       "    </tr>\n",
       "  </thead>\n",
       "  <tbody>\n",
       "    <tr>\n",
       "      <th>0</th>\n",
       "      <td>0.0</td>\n",
       "      <td>0.000000</td>\n",
       "    </tr>\n",
       "    <tr>\n",
       "      <th>1</th>\n",
       "      <td>1.0</td>\n",
       "      <td>0.162162</td>\n",
       "    </tr>\n",
       "    <tr>\n",
       "      <th>2</th>\n",
       "      <td>2.0</td>\n",
       "      <td>0.304189</td>\n",
       "    </tr>\n",
       "    <tr>\n",
       "      <th>3</th>\n",
       "      <td>3.0</td>\n",
       "      <td>0.562738</td>\n",
       "    </tr>\n",
       "    <tr>\n",
       "      <th>4</th>\n",
       "      <td>4.0</td>\n",
       "      <td>0.724138</td>\n",
       "    </tr>\n",
       "  </tbody>\n",
       "</table>\n",
       "</div>"
      ],
      "text/plain": [
       "   Chance  Survived\n",
       "0     0.0  0.000000\n",
       "1     1.0  0.162162\n",
       "2     2.0  0.304189\n",
       "3     3.0  0.562738\n",
       "4     4.0  0.724138"
      ]
     },
     "execution_count": 38,
     "metadata": {},
     "output_type": "execute_result"
    }
   ],
   "source": [
    "for dataset in full_data:\n",
    "    dataset.loc[(dataset['FamilySize'] == 8) | (dataset['FamilySize'] == 11), 'Chance'] = 0\n",
    "    dataset.loc[(dataset['FamilySize'] == 5) | (dataset['FamilySize'] == 6), 'Chance'] = 1\n",
    "    dataset.loc[(dataset['FamilySize'] == 1) | (dataset['FamilySize'] == 7), 'Chance'] = 2\n",
    "    dataset.loc[(dataset['FamilySize'] == 2) | (dataset['FamilySize'] == 3), 'Chance'] = 3\n",
    "    dataset.loc[dataset['FamilySize'] == 4, 'Chance'] = 4\n",
    "        \n",
    "train[['Chance', 'Survived']].groupby(['Chance'], as_index=False).mean()"
   ]
  },
  {
   "cell_type": "code",
   "execution_count": 39,
   "id": "8927fc61",
   "metadata": {
    "execution": {
     "iopub.execute_input": "2024-01-30T12:38:23.780621Z",
     "iopub.status.busy": "2024-01-30T12:38:23.779952Z",
     "iopub.status.idle": "2024-01-30T12:38:23.797619Z",
     "shell.execute_reply": "2024-01-30T12:38:23.796403Z"
    },
    "papermill": {
     "duration": 0.056119,
     "end_time": "2024-01-30T12:38:23.800249",
     "exception": false,
     "start_time": "2024-01-30T12:38:23.744130",
     "status": "completed"
    },
    "tags": []
   },
   "outputs": [
    {
     "data": {
      "text/html": [
       "<div>\n",
       "<style scoped>\n",
       "    .dataframe tbody tr th:only-of-type {\n",
       "        vertical-align: middle;\n",
       "    }\n",
       "\n",
       "    .dataframe tbody tr th {\n",
       "        vertical-align: top;\n",
       "    }\n",
       "\n",
       "    .dataframe thead th {\n",
       "        text-align: right;\n",
       "    }\n",
       "</style>\n",
       "<table border=\"1\" class=\"dataframe\">\n",
       "  <thead>\n",
       "    <tr style=\"text-align: right;\">\n",
       "      <th></th>\n",
       "      <th>Survived</th>\n",
       "      <th>Pclass</th>\n",
       "      <th>Sex</th>\n",
       "      <th>Age</th>\n",
       "      <th>Fare</th>\n",
       "      <th>Cabin</th>\n",
       "      <th>Embarked</th>\n",
       "      <th>Title</th>\n",
       "      <th>Chance</th>\n",
       "    </tr>\n",
       "  </thead>\n",
       "  <tbody>\n",
       "    <tr>\n",
       "      <th>0</th>\n",
       "      <td>0</td>\n",
       "      <td>3</td>\n",
       "      <td>1</td>\n",
       "      <td>2</td>\n",
       "      <td>7.25</td>\n",
       "      <td>0</td>\n",
       "      <td>S</td>\n",
       "      <td>1</td>\n",
       "      <td>3.0</td>\n",
       "    </tr>\n",
       "  </tbody>\n",
       "</table>\n",
       "</div>"
      ],
      "text/plain": [
       "   Survived  Pclass  Sex  Age  Fare  Cabin Embarked  Title  Chance\n",
       "0         0       3    1    2  7.25      0        S      1     3.0"
      ]
     },
     "execution_count": 39,
     "metadata": {},
     "output_type": "execute_result"
    }
   ],
   "source": [
    "train = train.drop(['Parch', 'SibSp', 'FamilySize'], axis=1)\n",
    "test = test.drop(['Parch', 'SibSp', 'FamilySize'], axis=1)\n",
    "full_data = [train, test]\n",
    "\n",
    "train.head(1)"
   ]
  },
  {
   "cell_type": "code",
   "execution_count": 40,
   "id": "eb93f35c",
   "metadata": {
    "execution": {
     "iopub.execute_input": "2024-01-30T12:38:23.870714Z",
     "iopub.status.busy": "2024-01-30T12:38:23.870311Z",
     "iopub.status.idle": "2024-01-30T12:38:23.878293Z",
     "shell.execute_reply": "2024-01-30T12:38:23.877431Z"
    },
    "papermill": {
     "duration": 0.045883,
     "end_time": "2024-01-30T12:38:23.880479",
     "exception": false,
     "start_time": "2024-01-30T12:38:23.834596",
     "status": "completed"
    },
    "tags": []
   },
   "outputs": [
    {
     "data": {
      "text/plain": [
       "'S'"
      ]
     },
     "execution_count": 40,
     "metadata": {},
     "output_type": "execute_result"
    }
   ],
   "source": [
    "freq_port = train.Embarked.dropna().mode()[0]\n",
    "freq_port"
   ]
  },
  {
   "cell_type": "code",
   "execution_count": 41,
   "id": "514722a6",
   "metadata": {
    "execution": {
     "iopub.execute_input": "2024-01-30T12:38:23.952382Z",
     "iopub.status.busy": "2024-01-30T12:38:23.951660Z",
     "iopub.status.idle": "2024-01-30T12:38:23.968110Z",
     "shell.execute_reply": "2024-01-30T12:38:23.966735Z"
    },
    "papermill": {
     "duration": 0.056355,
     "end_time": "2024-01-30T12:38:23.971265",
     "exception": false,
     "start_time": "2024-01-30T12:38:23.914910",
     "status": "completed"
    },
    "tags": []
   },
   "outputs": [
    {
     "data": {
      "text/html": [
       "<div>\n",
       "<style scoped>\n",
       "    .dataframe tbody tr th:only-of-type {\n",
       "        vertical-align: middle;\n",
       "    }\n",
       "\n",
       "    .dataframe tbody tr th {\n",
       "        vertical-align: top;\n",
       "    }\n",
       "\n",
       "    .dataframe thead th {\n",
       "        text-align: right;\n",
       "    }\n",
       "</style>\n",
       "<table border=\"1\" class=\"dataframe\">\n",
       "  <thead>\n",
       "    <tr style=\"text-align: right;\">\n",
       "      <th></th>\n",
       "      <th>Embarked</th>\n",
       "      <th>Survived</th>\n",
       "    </tr>\n",
       "  </thead>\n",
       "  <tbody>\n",
       "    <tr>\n",
       "      <th>0</th>\n",
       "      <td>C</td>\n",
       "      <td>0.553571</td>\n",
       "    </tr>\n",
       "    <tr>\n",
       "      <th>1</th>\n",
       "      <td>Q</td>\n",
       "      <td>0.389610</td>\n",
       "    </tr>\n",
       "    <tr>\n",
       "      <th>2</th>\n",
       "      <td>S</td>\n",
       "      <td>0.339009</td>\n",
       "    </tr>\n",
       "  </tbody>\n",
       "</table>\n",
       "</div>"
      ],
      "text/plain": [
       "  Embarked  Survived\n",
       "0        C  0.553571\n",
       "1        Q  0.389610\n",
       "2        S  0.339009"
      ]
     },
     "execution_count": 41,
     "metadata": {},
     "output_type": "execute_result"
    }
   ],
   "source": [
    "for dataset in full_data:\n",
    "    dataset['Embarked'] = dataset['Embarked'].fillna('S')\n",
    "train[['Embarked', 'Survived']].groupby(['Embarked'], as_index=False).mean().sort_values(by='Survived', ascending=False)\n",
    "# print(test.info())"
   ]
  },
  {
   "cell_type": "code",
   "execution_count": 42,
   "id": "4e114fef",
   "metadata": {
    "execution": {
     "iopub.execute_input": "2024-01-30T12:38:24.069743Z",
     "iopub.status.busy": "2024-01-30T12:38:24.068720Z",
     "iopub.status.idle": "2024-01-30T12:38:24.092096Z",
     "shell.execute_reply": "2024-01-30T12:38:24.090683Z"
    },
    "papermill": {
     "duration": 0.074829,
     "end_time": "2024-01-30T12:38:24.094950",
     "exception": false,
     "start_time": "2024-01-30T12:38:24.020121",
     "status": "completed"
    },
    "tags": []
   },
   "outputs": [
    {
     "data": {
      "text/html": [
       "<div>\n",
       "<style scoped>\n",
       "    .dataframe tbody tr th:only-of-type {\n",
       "        vertical-align: middle;\n",
       "    }\n",
       "\n",
       "    .dataframe tbody tr th {\n",
       "        vertical-align: top;\n",
       "    }\n",
       "\n",
       "    .dataframe thead th {\n",
       "        text-align: right;\n",
       "    }\n",
       "</style>\n",
       "<table border=\"1\" class=\"dataframe\">\n",
       "  <thead>\n",
       "    <tr style=\"text-align: right;\">\n",
       "      <th></th>\n",
       "      <th>Survived</th>\n",
       "      <th>Pclass</th>\n",
       "      <th>Sex</th>\n",
       "      <th>Age</th>\n",
       "      <th>Fare</th>\n",
       "      <th>Cabin</th>\n",
       "      <th>Embarked</th>\n",
       "      <th>Title</th>\n",
       "      <th>Chance</th>\n",
       "    </tr>\n",
       "  </thead>\n",
       "  <tbody>\n",
       "    <tr>\n",
       "      <th>0</th>\n",
       "      <td>0</td>\n",
       "      <td>3</td>\n",
       "      <td>1</td>\n",
       "      <td>2</td>\n",
       "      <td>7.2500</td>\n",
       "      <td>0</td>\n",
       "      <td>0</td>\n",
       "      <td>1</td>\n",
       "      <td>3.0</td>\n",
       "    </tr>\n",
       "    <tr>\n",
       "      <th>1</th>\n",
       "      <td>1</td>\n",
       "      <td>1</td>\n",
       "      <td>0</td>\n",
       "      <td>3</td>\n",
       "      <td>71.2833</td>\n",
       "      <td>1</td>\n",
       "      <td>1</td>\n",
       "      <td>3</td>\n",
       "      <td>3.0</td>\n",
       "    </tr>\n",
       "    <tr>\n",
       "      <th>2</th>\n",
       "      <td>1</td>\n",
       "      <td>3</td>\n",
       "      <td>0</td>\n",
       "      <td>2</td>\n",
       "      <td>7.9250</td>\n",
       "      <td>2</td>\n",
       "      <td>0</td>\n",
       "      <td>2</td>\n",
       "      <td>2.0</td>\n",
       "    </tr>\n",
       "  </tbody>\n",
       "</table>\n",
       "</div>"
      ],
      "text/plain": [
       "   Survived  Pclass  Sex  Age     Fare  Cabin  Embarked  Title  Chance\n",
       "0         0       3    1    2   7.2500      0         0      1     3.0\n",
       "1         1       1    0    3  71.2833      1         1      3     3.0\n",
       "2         1       3    0    2   7.9250      2         0      2     2.0"
      ]
     },
     "execution_count": 42,
     "metadata": {},
     "output_type": "execute_result"
    }
   ],
   "source": [
    "for dataset in full_data:\n",
    "    # Mapping Embarked\n",
    "    dataset['Embarked'] = dataset['Embarked'].map( {'S': 0, 'C': 1, 'Q': 2} )\n",
    "    # Convert to integer type\n",
    "    dataset['Embarked'] = dataset['Embarked'].astype(int)\n",
    "train.head(3)"
   ]
  },
  {
   "cell_type": "code",
   "execution_count": 43,
   "id": "1ba72795",
   "metadata": {
    "execution": {
     "iopub.execute_input": "2024-01-30T12:38:24.169640Z",
     "iopub.status.busy": "2024-01-30T12:38:24.168708Z",
     "iopub.status.idle": "2024-01-30T12:38:24.173301Z",
     "shell.execute_reply": "2024-01-30T12:38:24.172272Z"
    },
    "papermill": {
     "duration": 0.050883,
     "end_time": "2024-01-30T12:38:24.181610",
     "exception": false,
     "start_time": "2024-01-30T12:38:24.130727",
     "status": "completed"
    },
    "tags": []
   },
   "outputs": [],
   "source": [
    "# print(set(train.Age))\n",
    "# print(set(train.Pclass))"
   ]
  },
  {
   "cell_type": "code",
   "execution_count": 44,
   "id": "12653684",
   "metadata": {
    "execution": {
     "iopub.execute_input": "2024-01-30T12:38:24.269516Z",
     "iopub.status.busy": "2024-01-30T12:38:24.268538Z",
     "iopub.status.idle": "2024-01-30T12:38:24.286399Z",
     "shell.execute_reply": "2024-01-30T12:38:24.285225Z"
    },
    "papermill": {
     "duration": 0.061206,
     "end_time": "2024-01-30T12:38:24.289022",
     "exception": false,
     "start_time": "2024-01-30T12:38:24.227816",
     "status": "completed"
    },
    "tags": []
   },
   "outputs": [
    {
     "data": {
      "text/html": [
       "<div>\n",
       "<style scoped>\n",
       "    .dataframe tbody tr th:only-of-type {\n",
       "        vertical-align: middle;\n",
       "    }\n",
       "\n",
       "    .dataframe tbody tr th {\n",
       "        vertical-align: top;\n",
       "    }\n",
       "\n",
       "    .dataframe thead th {\n",
       "        text-align: right;\n",
       "    }\n",
       "</style>\n",
       "<table border=\"1\" class=\"dataframe\">\n",
       "  <thead>\n",
       "    <tr style=\"text-align: right;\">\n",
       "      <th></th>\n",
       "      <th>Age*Class</th>\n",
       "      <th>Age</th>\n",
       "      <th>Pclass</th>\n",
       "    </tr>\n",
       "  </thead>\n",
       "  <tbody>\n",
       "    <tr>\n",
       "      <th>0</th>\n",
       "      <td>6</td>\n",
       "      <td>2</td>\n",
       "      <td>3</td>\n",
       "    </tr>\n",
       "    <tr>\n",
       "      <th>1</th>\n",
       "      <td>3</td>\n",
       "      <td>3</td>\n",
       "      <td>1</td>\n",
       "    </tr>\n",
       "    <tr>\n",
       "      <th>2</th>\n",
       "      <td>6</td>\n",
       "      <td>2</td>\n",
       "      <td>3</td>\n",
       "    </tr>\n",
       "    <tr>\n",
       "      <th>3</th>\n",
       "      <td>3</td>\n",
       "      <td>3</td>\n",
       "      <td>1</td>\n",
       "    </tr>\n",
       "    <tr>\n",
       "      <th>4</th>\n",
       "      <td>9</td>\n",
       "      <td>3</td>\n",
       "      <td>3</td>\n",
       "    </tr>\n",
       "    <tr>\n",
       "      <th>5</th>\n",
       "      <td>6</td>\n",
       "      <td>2</td>\n",
       "      <td>3</td>\n",
       "    </tr>\n",
       "    <tr>\n",
       "      <th>6</th>\n",
       "      <td>4</td>\n",
       "      <td>4</td>\n",
       "      <td>1</td>\n",
       "    </tr>\n",
       "    <tr>\n",
       "      <th>7</th>\n",
       "      <td>3</td>\n",
       "      <td>1</td>\n",
       "      <td>3</td>\n",
       "    </tr>\n",
       "    <tr>\n",
       "      <th>8</th>\n",
       "      <td>6</td>\n",
       "      <td>2</td>\n",
       "      <td>3</td>\n",
       "    </tr>\n",
       "    <tr>\n",
       "      <th>9</th>\n",
       "      <td>2</td>\n",
       "      <td>1</td>\n",
       "      <td>2</td>\n",
       "    </tr>\n",
       "  </tbody>\n",
       "</table>\n",
       "</div>"
      ],
      "text/plain": [
       "   Age*Class  Age  Pclass\n",
       "0          6    2       3\n",
       "1          3    3       1\n",
       "2          6    2       3\n",
       "3          3    3       1\n",
       "4          9    3       3\n",
       "5          6    2       3\n",
       "6          4    4       1\n",
       "7          3    1       3\n",
       "8          6    2       3\n",
       "9          2    1       2"
      ]
     },
     "execution_count": 44,
     "metadata": {},
     "output_type": "execute_result"
    }
   ],
   "source": [
    "#We can also create an artificial feature combining Pclass and Age.\n",
    "for dataset in full_data:\n",
    "    dataset['Age*Class'] = dataset.Age * dataset.Pclass\n",
    "\n",
    "train.loc[:, ['Age*Class', 'Age', 'Pclass']].head(10)"
   ]
  },
  {
   "cell_type": "code",
   "execution_count": 45,
   "id": "b84ed37b",
   "metadata": {
    "execution": {
     "iopub.execute_input": "2024-01-30T12:38:24.371470Z",
     "iopub.status.busy": "2024-01-30T12:38:24.370707Z",
     "iopub.status.idle": "2024-01-30T12:38:24.386908Z",
     "shell.execute_reply": "2024-01-30T12:38:24.386033Z"
    },
    "papermill": {
     "duration": 0.065314,
     "end_time": "2024-01-30T12:38:24.389912",
     "exception": false,
     "start_time": "2024-01-30T12:38:24.324598",
     "status": "completed"
    },
    "tags": []
   },
   "outputs": [
    {
     "data": {
      "text/html": [
       "<div>\n",
       "<style scoped>\n",
       "    .dataframe tbody tr th:only-of-type {\n",
       "        vertical-align: middle;\n",
       "    }\n",
       "\n",
       "    .dataframe tbody tr th {\n",
       "        vertical-align: top;\n",
       "    }\n",
       "\n",
       "    .dataframe thead th {\n",
       "        text-align: right;\n",
       "    }\n",
       "</style>\n",
       "<table border=\"1\" class=\"dataframe\">\n",
       "  <thead>\n",
       "    <tr style=\"text-align: right;\">\n",
       "      <th></th>\n",
       "      <th>Survived</th>\n",
       "      <th>Sex</th>\n",
       "      <th>Fare</th>\n",
       "      <th>Cabin</th>\n",
       "      <th>Embarked</th>\n",
       "      <th>Title</th>\n",
       "      <th>Chance</th>\n",
       "      <th>Age*Class</th>\n",
       "    </tr>\n",
       "  </thead>\n",
       "  <tbody>\n",
       "    <tr>\n",
       "      <th>0</th>\n",
       "      <td>0</td>\n",
       "      <td>1</td>\n",
       "      <td>7.2500</td>\n",
       "      <td>0</td>\n",
       "      <td>0</td>\n",
       "      <td>1</td>\n",
       "      <td>3.0</td>\n",
       "      <td>6</td>\n",
       "    </tr>\n",
       "    <tr>\n",
       "      <th>1</th>\n",
       "      <td>1</td>\n",
       "      <td>0</td>\n",
       "      <td>71.2833</td>\n",
       "      <td>1</td>\n",
       "      <td>1</td>\n",
       "      <td>3</td>\n",
       "      <td>3.0</td>\n",
       "      <td>3</td>\n",
       "    </tr>\n",
       "    <tr>\n",
       "      <th>2</th>\n",
       "      <td>1</td>\n",
       "      <td>0</td>\n",
       "      <td>7.9250</td>\n",
       "      <td>2</td>\n",
       "      <td>0</td>\n",
       "      <td>2</td>\n",
       "      <td>2.0</td>\n",
       "      <td>6</td>\n",
       "    </tr>\n",
       "  </tbody>\n",
       "</table>\n",
       "</div>"
      ],
      "text/plain": [
       "   Survived  Sex     Fare  Cabin  Embarked  Title  Chance  Age*Class\n",
       "0         0    1   7.2500      0         0      1     3.0          6\n",
       "1         1    0  71.2833      1         1      3     3.0          3\n",
       "2         1    0   7.9250      2         0      2     2.0          6"
      ]
     },
     "execution_count": 45,
     "metadata": {},
     "output_type": "execute_result"
    }
   ],
   "source": [
    "train = train.drop(['Age', 'Pclass'], axis=1)\n",
    "test = test.drop(['Age', 'Pclass'], axis=1)\n",
    "full_data = [train, test]\n",
    "train.head(3)"
   ]
  },
  {
   "cell_type": "code",
   "execution_count": 46,
   "id": "1b8ea825",
   "metadata": {
    "execution": {
     "iopub.execute_input": "2024-01-30T12:38:24.492645Z",
     "iopub.status.busy": "2024-01-30T12:38:24.491459Z",
     "iopub.status.idle": "2024-01-30T12:38:24.515448Z",
     "shell.execute_reply": "2024-01-30T12:38:24.514528Z"
    },
    "papermill": {
     "duration": 0.075154,
     "end_time": "2024-01-30T12:38:24.518757",
     "exception": false,
     "start_time": "2024-01-30T12:38:24.443603",
     "status": "completed"
    },
    "tags": []
   },
   "outputs": [
    {
     "data": {
      "text/html": [
       "<div>\n",
       "<style scoped>\n",
       "    .dataframe tbody tr th:only-of-type {\n",
       "        vertical-align: middle;\n",
       "    }\n",
       "\n",
       "    .dataframe tbody tr th {\n",
       "        vertical-align: top;\n",
       "    }\n",
       "\n",
       "    .dataframe thead th {\n",
       "        text-align: right;\n",
       "    }\n",
       "</style>\n",
       "<table border=\"1\" class=\"dataframe\">\n",
       "  <thead>\n",
       "    <tr style=\"text-align: right;\">\n",
       "      <th></th>\n",
       "      <th>Fare</th>\n",
       "      <th>Survived</th>\n",
       "    </tr>\n",
       "  </thead>\n",
       "  <tbody>\n",
       "    <tr>\n",
       "      <th>0</th>\n",
       "      <td>1</td>\n",
       "      <td>0.197309</td>\n",
       "    </tr>\n",
       "    <tr>\n",
       "      <th>1</th>\n",
       "      <td>2</td>\n",
       "      <td>0.308756</td>\n",
       "    </tr>\n",
       "    <tr>\n",
       "      <th>2</th>\n",
       "      <td>3</td>\n",
       "      <td>0.442478</td>\n",
       "    </tr>\n",
       "    <tr>\n",
       "      <th>3</th>\n",
       "      <td>4</td>\n",
       "      <td>0.582222</td>\n",
       "    </tr>\n",
       "  </tbody>\n",
       "</table>\n",
       "</div>"
      ],
      "text/plain": [
       "   Fare  Survived\n",
       "0     1  0.197309\n",
       "1     2  0.308756\n",
       "2     3  0.442478\n",
       "3     4  0.582222"
      ]
     },
     "execution_count": 46,
     "metadata": {},
     "output_type": "execute_result"
    }
   ],
   "source": [
    "# Define the bins and labels for Fare column\n",
    "bins_Fare = [0, 7.91, 14.45, 31, 600]\n",
    "labels_Fare = [1, 2, 3, 4]\n",
    "\n",
    "for dataset in full_data:\n",
    "    # Mapping Fare\n",
    "    dataset['Fare'] = dataset['Fare'].fillna(dataset['Fare'].mean())\n",
    "    dataset['Fare'] = pd.cut(dataset['Fare'], bins=bins_Fare, labels=labels_Fare, right=False).astype(int)\n",
    "\n",
    "train[['Fare', 'Survived']].groupby(['Fare'], as_index=False).mean().sort_values(by='Survived', ascending=True)"
   ]
  },
  {
   "cell_type": "markdown",
   "id": "848a5d17",
   "metadata": {
    "papermill": {
     "duration": 0.036039,
     "end_time": "2024-01-30T12:38:24.596976",
     "exception": false,
     "start_time": "2024-01-30T12:38:24.560937",
     "status": "completed"
    },
    "tags": []
   },
   "source": [
    "# 4. Data Frame: Make it Ready for Train"
   ]
  },
  {
   "cell_type": "code",
   "execution_count": 47,
   "id": "51aa1f1c",
   "metadata": {
    "execution": {
     "iopub.execute_input": "2024-01-30T12:38:24.672570Z",
     "iopub.status.busy": "2024-01-30T12:38:24.671833Z",
     "iopub.status.idle": "2024-01-30T12:38:24.684595Z",
     "shell.execute_reply": "2024-01-30T12:38:24.683507Z"
    },
    "papermill": {
     "duration": 0.053302,
     "end_time": "2024-01-30T12:38:24.686991",
     "exception": false,
     "start_time": "2024-01-30T12:38:24.633689",
     "status": "completed"
    },
    "tags": []
   },
   "outputs": [
    {
     "data": {
      "text/html": [
       "<div>\n",
       "<style scoped>\n",
       "    .dataframe tbody tr th:only-of-type {\n",
       "        vertical-align: middle;\n",
       "    }\n",
       "\n",
       "    .dataframe tbody tr th {\n",
       "        vertical-align: top;\n",
       "    }\n",
       "\n",
       "    .dataframe thead th {\n",
       "        text-align: right;\n",
       "    }\n",
       "</style>\n",
       "<table border=\"1\" class=\"dataframe\">\n",
       "  <thead>\n",
       "    <tr style=\"text-align: right;\">\n",
       "      <th></th>\n",
       "      <th>PassengerId</th>\n",
       "      <th>Sex</th>\n",
       "      <th>Fare</th>\n",
       "      <th>Cabin</th>\n",
       "      <th>Embarked</th>\n",
       "      <th>Title</th>\n",
       "      <th>Chance</th>\n",
       "      <th>Age*Class</th>\n",
       "    </tr>\n",
       "  </thead>\n",
       "  <tbody>\n",
       "    <tr>\n",
       "      <th>891</th>\n",
       "      <td>892</td>\n",
       "      <td>1</td>\n",
       "      <td>1</td>\n",
       "      <td>696</td>\n",
       "      <td>2</td>\n",
       "      <td>1</td>\n",
       "      <td>2.0</td>\n",
       "      <td>9</td>\n",
       "    </tr>\n",
       "    <tr>\n",
       "      <th>892</th>\n",
       "      <td>893</td>\n",
       "      <td>0</td>\n",
       "      <td>1</td>\n",
       "      <td>697</td>\n",
       "      <td>0</td>\n",
       "      <td>3</td>\n",
       "      <td>3.0</td>\n",
       "      <td>9</td>\n",
       "    </tr>\n",
       "    <tr>\n",
       "      <th>893</th>\n",
       "      <td>894</td>\n",
       "      <td>1</td>\n",
       "      <td>2</td>\n",
       "      <td>698</td>\n",
       "      <td>2</td>\n",
       "      <td>1</td>\n",
       "      <td>2.0</td>\n",
       "      <td>8</td>\n",
       "    </tr>\n",
       "  </tbody>\n",
       "</table>\n",
       "</div>"
      ],
      "text/plain": [
       "     PassengerId  Sex  Fare  Cabin  Embarked  Title  Chance  Age*Class\n",
       "891          892    1     1    696         2      1     2.0          9\n",
       "892          893    0     1    697         0      3     3.0          9\n",
       "893          894    1     2    698         2      1     2.0          8"
      ]
     },
     "execution_count": 47,
     "metadata": {},
     "output_type": "execute_result"
    }
   ],
   "source": [
    "test.head(3)"
   ]
  },
  {
   "cell_type": "code",
   "execution_count": 48,
   "id": "c6cdd45c",
   "metadata": {
    "execution": {
     "iopub.execute_input": "2024-01-30T12:38:24.762359Z",
     "iopub.status.busy": "2024-01-30T12:38:24.761405Z",
     "iopub.status.idle": "2024-01-30T12:38:24.771709Z",
     "shell.execute_reply": "2024-01-30T12:38:24.770671Z"
    },
    "papermill": {
     "duration": 0.050659,
     "end_time": "2024-01-30T12:38:24.774060",
     "exception": false,
     "start_time": "2024-01-30T12:38:24.723401",
     "status": "completed"
    },
    "tags": []
   },
   "outputs": [
    {
     "data": {
      "text/plain": [
       "891      892\n",
       "892      893\n",
       "893      894\n",
       "894      895\n",
       "895      896\n",
       "        ... \n",
       "1304    1305\n",
       "1305    1306\n",
       "1306    1307\n",
       "1307    1308\n",
       "1308    1309\n",
       "Name: PassengerId, Length: 418, dtype: int64"
      ]
     },
     "execution_count": 48,
     "metadata": {},
     "output_type": "execute_result"
    }
   ],
   "source": [
    "testPassengerIds = test.PassengerId\n",
    "testPassengerIds"
   ]
  },
  {
   "cell_type": "code",
   "execution_count": 49,
   "id": "ff990fc8",
   "metadata": {
    "execution": {
     "iopub.execute_input": "2024-01-30T12:38:24.850469Z",
     "iopub.status.busy": "2024-01-30T12:38:24.849510Z",
     "iopub.status.idle": "2024-01-30T12:38:25.496327Z",
     "shell.execute_reply": "2024-01-30T12:38:25.495109Z"
    },
    "papermill": {
     "duration": 0.688246,
     "end_time": "2024-01-30T12:38:25.498963",
     "exception": false,
     "start_time": "2024-01-30T12:38:24.810717",
     "status": "completed"
    },
    "tags": []
   },
   "outputs": [
    {
     "data": {
      "text/plain": [
       "<Axes: title={'center': 'Correlation of Features'}>"
      ]
     },
     "execution_count": 49,
     "metadata": {},
     "output_type": "execute_result"
    },
    {
     "data": {
      "image/png": "[encoded data removed]",
      "text/plain": [
       "<Figure size 1400x1200 with 2 Axes>"
      ]
     },
     "metadata": {},
     "output_type": "display_data"
    }
   ],
   "source": [
    "newTrain = train\n",
    "newTest = test\n",
    "# Feature selection\n",
    "# drop_elements = ['PassengerId', 'Name', 'Ticket', 'Cabin','SibSp','Parch']\n",
    "\n",
    "survived_train = newTrain['Survived']\n",
    "\n",
    "newTrain = newTrain.drop(['Survived'], axis = 1)\n",
    "\n",
    "# newTrain = newTrain.drop(drop_elements, axis = 1)\n",
    "\n",
    "newTest  = newTest.drop(['PassengerId'], axis = 1)\n",
    "\n",
    "# print(newTrain.info())\n",
    "# print(newTest.info())\n",
    "numeric_columns = newTrain.select_dtypes(include=['int64', 'float64'])\n",
    "colormap = plt.cm.RdBu\n",
    "plt.figure(figsize=(14,12))\n",
    "plt.title('Correlation of Features', y=1.05, size=15)\n",
    "sns.heatmap(numeric_columns.corr(),linewidths=0.1,vmax=1.0, \n",
    "            square=True, cmap=colormap, linecolor='white', annot=True)"
   ]
  },
  {
   "cell_type": "markdown",
   "id": "8774063f",
   "metadata": {
    "papermill": {
     "duration": 0.039341,
     "end_time": "2024-01-30T12:38:25.576570",
     "exception": false,
     "start_time": "2024-01-30T12:38:25.537229",
     "status": "completed"
    },
    "tags": []
   },
   "source": [
    "# 3.Using different Models\n",
    ">Logistic Regression\n",
    "\n",
    ">KNN or k-Nearest Neighbors\n",
    "\n",
    ">Support Vector Machines\n",
    "\n",
    ">Naive Bayes classifier\n",
    "\n",
    ">Decision Tree\n",
    "\n",
    ">Random Forrest\n",
    "\n",
    ">Perceptron\n",
    "\n",
    ">Artificial neural network\n",
    "\n",
    ">RVM or Relevance Vector Machine"
   ]
  },
  {
   "cell_type": "markdown",
   "id": "46764f5f",
   "metadata": {
    "papermill": {
     "duration": 0.037763,
     "end_time": "2024-01-30T12:38:25.653480",
     "exception": false,
     "start_time": "2024-01-30T12:38:25.615717",
     "status": "completed"
    },
    "tags": []
   },
   "source": [
    "# 3.2.Logistic Regression [Predicted(%77)]"
   ]
  },
  {
   "cell_type": "code",
   "execution_count": 50,
   "id": "64e69c61",
   "metadata": {
    "execution": {
     "iopub.execute_input": "2024-01-30T12:38:25.733798Z",
     "iopub.status.busy": "2024-01-30T12:38:25.733074Z",
     "iopub.status.idle": "2024-01-30T12:38:25.738076Z",
     "shell.execute_reply": "2024-01-30T12:38:25.737229Z"
    },
    "papermill": {
     "duration": 0.047308,
     "end_time": "2024-01-30T12:38:25.740385",
     "exception": false,
     "start_time": "2024-01-30T12:38:25.693077",
     "status": "completed"
    },
    "tags": []
   },
   "outputs": [],
   "source": [
    "# # Logistic Regression\n",
    "# from sklearn.linear_model import LogisticRegression\n",
    "# logreg = LogisticRegression()\n",
    "# logreg.fit(newTrain, survived_train)\n",
    "# Y_pred = logreg.predict(newTest)\n",
    "# acc_log = round(logreg.score(newTrain, survived_train) * 100, 2)\n",
    "# acc_log"
   ]
  },
  {
   "cell_type": "code",
   "execution_count": 51,
   "id": "dc42022d",
   "metadata": {
    "execution": {
     "iopub.execute_input": "2024-01-30T12:38:25.820846Z",
     "iopub.status.busy": "2024-01-30T12:38:25.820435Z",
     "iopub.status.idle": "2024-01-30T12:38:25.861879Z",
     "shell.execute_reply": "2024-01-30T12:38:25.860618Z"
    },
    "papermill": {
     "duration": 0.08494,
     "end_time": "2024-01-30T12:38:25.864459",
     "exception": false,
     "start_time": "2024-01-30T12:38:25.779519",
     "status": "completed"
    },
    "tags": []
   },
   "outputs": [
    {
     "data": {
      "text/plain": [
       "array([0, 1, 0, 0, 1, 0, 1, 0, 1, 0, 0, 0, 1, 0, 1, 1, 0, 0, 1, 1, 0, 1,\n",
       "       1, 0, 1, 0, 1, 0, 0, 0, 0, 0, 1, 1, 0, 0, 0, 1, 0, 0, 0, 0, 0, 1,\n",
       "       1, 0, 0, 0, 1, 1, 1, 0, 1, 1, 0, 0, 0, 0, 0, 1, 0, 0, 0, 1, 0, 1,\n",
       "       1, 0, 0, 1, 1, 0, 1, 0, 1, 0, 0, 1, 0, 1, 1, 0, 0, 0, 0, 0, 1, 1,\n",
       "       1, 1, 1, 0, 1, 0, 0, 0, 1, 0, 1, 0, 1, 0, 0, 0, 1, 0, 0, 0, 0, 0,\n",
       "       0, 1, 1, 1, 1, 0, 0, 1, 0, 1, 1, 0, 1, 0, 0, 1, 0, 1, 0, 0, 0, 1,\n",
       "       0, 0, 0, 0, 0, 0, 1, 0, 0, 1, 0, 0, 0, 0, 0, 0, 0, 1, 1, 0, 0, 1,\n",
       "       0, 0, 1, 1, 0, 1, 1, 1, 1, 0, 0, 1, 0, 0, 1, 1, 0, 0, 0, 0, 0, 1,\n",
       "       1, 0, 1, 1, 0, 1, 1, 0, 1, 0, 1, 0, 0, 0, 0, 0, 1, 0, 1, 0, 1, 1,\n",
       "       0, 1, 1, 1, 1, 1, 0, 0, 1, 0, 1, 0, 0, 0, 0, 1, 0, 0, 1, 0, 1, 0,\n",
       "       1, 0, 1, 0, 1, 1, 0, 1, 0, 0, 0, 1, 0, 0, 0, 0, 0, 0, 1, 1, 1, 1,\n",
       "       0, 0, 1, 0, 1, 0, 1, 1, 1, 0, 1, 0, 0, 0, 0, 0, 1, 0, 0, 0, 1, 1,\n",
       "       0, 0, 0, 0, 1, 0, 0, 0, 1, 1, 0, 1, 0, 0, 0, 0, 1, 1, 1, 1, 1, 0,\n",
       "       0, 1, 0, 0, 0, 1, 0, 1, 0, 0, 1, 0, 0, 0, 0, 0, 0, 0, 1, 1, 1, 1,\n",
       "       0, 1, 0, 0, 0, 1, 1, 1, 0, 0, 0, 0, 0, 0, 0, 0, 1, 0, 1, 0, 0, 0,\n",
       "       1, 0, 0, 1, 0, 0, 0, 0, 0, 0, 0, 0, 0, 1, 0, 1, 0, 1, 0, 1, 1, 0,\n",
       "       0, 0, 1, 0, 1, 0, 0, 1, 0, 1, 1, 0, 1, 0, 0, 1, 1, 0, 0, 1, 0, 0,\n",
       "       1, 1, 1, 0, 0, 0, 0, 0, 1, 1, 0, 1, 0, 0, 0, 0, 0, 1, 1, 0, 0, 1,\n",
       "       0, 1, 0, 0, 1, 0, 1, 0, 1, 0, 0, 0, 1, 1, 1, 1, 1, 0, 1, 0, 0, 0])"
      ]
     },
     "execution_count": 51,
     "metadata": {},
     "output_type": "execute_result"
    }
   ],
   "source": [
    "from sklearn.linear_model import LogisticRegression\n",
    "\n",
    "#adding Logistic regeression model\n",
    "logmodel = LogisticRegression(max_iter=10000)\n",
    "\n",
    "#training model with the train data\n",
    "logmodel.fit(newTrain, survived_train)\n",
    "\n",
    "#Try to get the pridiction with data\n",
    "predictions = logmodel.predict(newTest)\n",
    "predictions"
   ]
  },
  {
   "cell_type": "markdown",
   "id": "f3ce7198",
   "metadata": {
    "papermill": {
     "duration": 0.038572,
     "end_time": "2024-01-30T12:38:25.941152",
     "exception": false,
     "start_time": "2024-01-30T12:38:25.902580",
     "status": "completed"
    },
    "tags": []
   },
   "source": [
    "# 3.1.Decision Tree Classifier  [Predicted(%72)]"
   ]
  },
  {
   "cell_type": "code",
   "execution_count": 52,
   "id": "29233263",
   "metadata": {
    "execution": {
     "iopub.execute_input": "2024-01-30T12:38:26.019664Z",
     "iopub.status.busy": "2024-01-30T12:38:26.018700Z",
     "iopub.status.idle": "2024-01-30T12:38:26.023983Z",
     "shell.execute_reply": "2024-01-30T12:38:26.022700Z"
    },
    "papermill": {
     "duration": 0.047196,
     "end_time": "2024-01-30T12:38:26.026738",
     "exception": false,
     "start_time": "2024-01-30T12:38:25.979542",
     "status": "completed"
    },
    "tags": []
   },
   "outputs": [],
   "source": [
    "# from sklearn.tree import DecisionTreeClassifier\n",
    "\n",
    "# # Initialize a Decision Tree Classifier\n",
    "# model = DecisionTreeClassifier()\n",
    "\n",
    "# # Train the model\n",
    "# model.fit(newTrain, survived_train)\n",
    "\n",
    "# # Make predictions on the test set\n",
    "# predictions = model.predict(newTest)\n",
    "# predictions"
   ]
  },
  {
   "cell_type": "markdown",
   "id": "bb1e15bc",
   "metadata": {
    "papermill": {
     "duration": 0.038043,
     "end_time": "2024-01-30T12:38:26.104065",
     "exception": false,
     "start_time": "2024-01-30T12:38:26.066022",
     "status": "completed"
    },
    "tags": []
   },
   "source": [
    "# 3.3.XGBosst Classifier [Predicted(%00)]"
   ]
  },
  {
   "cell_type": "code",
   "execution_count": 53,
   "id": "caaf3327",
   "metadata": {
    "execution": {
     "iopub.execute_input": "2024-01-30T12:38:26.183517Z",
     "iopub.status.busy": "2024-01-30T12:38:26.182884Z",
     "iopub.status.idle": "2024-01-30T12:38:26.188041Z",
     "shell.execute_reply": "2024-01-30T12:38:26.186827Z"
    },
    "papermill": {
     "duration": 0.047813,
     "end_time": "2024-01-30T12:38:26.190442",
     "exception": false,
     "start_time": "2024-01-30T12:38:26.142629",
     "status": "completed"
    },
    "tags": []
   },
   "outputs": [],
   "source": [
    "# gbm = xgb.XGBClassifier(\n",
    "#     #learning_rate = 0.02,\n",
    "#  n_estimators= 2000,\n",
    "#  max_depth= 4,\n",
    "#  min_child_weight= 2,\n",
    "#  #gamma=1,\n",
    "#  gamma=0.9,                        \n",
    "#  subsample=0.8,\n",
    "#  colsample_bytree=0.8,\n",
    "#  objective= 'binary:logistic',\n",
    "#  nthread= -1,\n",
    "#  scale_pos_weight=1).fit(newTrain, survived_train)\n",
    "\n",
    "# #Try to get the pridiction from the train data\n",
    "# predictions = gbm.predict(newTest)\n",
    "# predictions"
   ]
  },
  {
   "cell_type": "markdown",
   "id": "8f9d0371",
   "metadata": {
    "papermill": {
     "duration": 0.037456,
     "end_time": "2024-01-30T12:38:26.266412",
     "exception": false,
     "start_time": "2024-01-30T12:38:26.228956",
     "status": "completed"
    },
    "tags": []
   },
   "source": [
    "# 4.Submit Answers"
   ]
  },
  {
   "cell_type": "code",
   "execution_count": 54,
   "id": "dbc77591",
   "metadata": {
    "execution": {
     "iopub.execute_input": "2024-01-30T12:38:26.346283Z",
     "iopub.status.busy": "2024-01-30T12:38:26.345506Z",
     "iopub.status.idle": "2024-01-30T12:38:26.363218Z",
     "shell.execute_reply": "2024-01-30T12:38:26.362339Z"
    },
    "papermill": {
     "duration": 0.059431,
     "end_time": "2024-01-30T12:38:26.365431",
     "exception": false,
     "start_time": "2024-01-30T12:38:26.306000",
     "status": "completed"
    },
    "tags": []
   },
   "outputs": [
    {
     "data": {
      "text/html": [
       "<div>\n",
       "<style scoped>\n",
       "    .dataframe tbody tr th:only-of-type {\n",
       "        vertical-align: middle;\n",
       "    }\n",
       "\n",
       "    .dataframe tbody tr th {\n",
       "        vertical-align: top;\n",
       "    }\n",
       "\n",
       "    .dataframe thead th {\n",
       "        text-align: right;\n",
       "    }\n",
       "</style>\n",
       "<table border=\"1\" class=\"dataframe\">\n",
       "  <thead>\n",
       "    <tr style=\"text-align: right;\">\n",
       "      <th></th>\n",
       "      <th>PassengerId</th>\n",
       "      <th>Survived</th>\n",
       "    </tr>\n",
       "  </thead>\n",
       "  <tbody>\n",
       "    <tr>\n",
       "      <th>0</th>\n",
       "      <td>892</td>\n",
       "      <td>0</td>\n",
       "    </tr>\n",
       "    <tr>\n",
       "      <th>1</th>\n",
       "      <td>893</td>\n",
       "      <td>1</td>\n",
       "    </tr>\n",
       "    <tr>\n",
       "      <th>2</th>\n",
       "      <td>894</td>\n",
       "      <td>0</td>\n",
       "    </tr>\n",
       "    <tr>\n",
       "      <th>3</th>\n",
       "      <td>895</td>\n",
       "      <td>0</td>\n",
       "    </tr>\n",
       "    <tr>\n",
       "      <th>4</th>\n",
       "      <td>896</td>\n",
       "      <td>1</td>\n",
       "    </tr>\n",
       "    <tr>\n",
       "      <th>5</th>\n",
       "      <td>897</td>\n",
       "      <td>0</td>\n",
       "    </tr>\n",
       "    <tr>\n",
       "      <th>6</th>\n",
       "      <td>898</td>\n",
       "      <td>1</td>\n",
       "    </tr>\n",
       "    <tr>\n",
       "      <th>7</th>\n",
       "      <td>899</td>\n",
       "      <td>0</td>\n",
       "    </tr>\n",
       "    <tr>\n",
       "      <th>8</th>\n",
       "      <td>900</td>\n",
       "      <td>1</td>\n",
       "    </tr>\n",
       "    <tr>\n",
       "      <th>9</th>\n",
       "      <td>901</td>\n",
       "      <td>0</td>\n",
       "    </tr>\n",
       "    <tr>\n",
       "      <th>10</th>\n",
       "      <td>902</td>\n",
       "      <td>0</td>\n",
       "    </tr>\n",
       "    <tr>\n",
       "      <th>11</th>\n",
       "      <td>903</td>\n",
       "      <td>0</td>\n",
       "    </tr>\n",
       "    <tr>\n",
       "      <th>12</th>\n",
       "      <td>904</td>\n",
       "      <td>1</td>\n",
       "    </tr>\n",
       "    <tr>\n",
       "      <th>13</th>\n",
       "      <td>905</td>\n",
       "      <td>0</td>\n",
       "    </tr>\n",
       "    <tr>\n",
       "      <th>14</th>\n",
       "      <td>906</td>\n",
       "      <td>1</td>\n",
       "    </tr>\n",
       "  </tbody>\n",
       "</table>\n",
       "</div>"
      ],
      "text/plain": [
       "    PassengerId  Survived\n",
       "0           892         0\n",
       "1           893         1\n",
       "2           894         0\n",
       "3           895         0\n",
       "4           896         1\n",
       "5           897         0\n",
       "6           898         1\n",
       "7           899         0\n",
       "8           900         1\n",
       "9           901         0\n",
       "10          902         0\n",
       "11          903         0\n",
       "12          904         1\n",
       "13          905         0\n",
       "14          906         1"
      ]
     },
     "execution_count": 54,
     "metadata": {},
     "output_type": "execute_result"
    }
   ],
   "source": [
    "df_predictions = pd.DataFrame()\n",
    "df_predictions['PassengerId'] = pd.Series(testPassengerIds.T.values)\n",
    "df_predictions['Survived'] = pd.Series(predictions)\n",
    "df_predictions.to_csv(\"8th_ClassicTitanic_Attempt.csv\", sep=',', index=False)\n",
    "df_predictions.head(15)"
   ]
  },
  {
   "cell_type": "code",
   "execution_count": 55,
   "id": "7fb4c223",
   "metadata": {
    "execution": {
     "iopub.execute_input": "2024-01-30T12:38:26.445472Z",
     "iopub.status.busy": "2024-01-30T12:38:26.444618Z",
     "iopub.status.idle": "2024-01-30T12:38:26.449200Z",
     "shell.execute_reply": "2024-01-30T12:38:26.448270Z"
    },
    "papermill": {
     "duration": 0.048116,
     "end_time": "2024-01-30T12:38:26.451544",
     "exception": false,
     "start_time": "2024-01-30T12:38:26.403428",
     "status": "completed"
    },
    "tags": []
   },
   "outputs": [],
   "source": [
    "# import pandas as pd\n",
    "# import numpy as np\n",
    "# sub1=pd.read_csv('../input/titanic-leaked/titanic.csv')\n",
    "# sub1.to_csv('submission1.csv', index=False)"
   ]
  }
 ],
 "metadata": {
  "kaggle": {
   "accelerator": "none",
   "dataSources": [
    {
     "databundleVersionId": 26502,
     "sourceId": 3136,
     "sourceType": "competition"
    }
   ],
   "dockerImageVersionId": 30635,
   "isGpuEnabled": false,
   "isInternetEnabled": true,
   "language": "python",
   "sourceType": "notebook"
  },
  "kernelspec": {
   "display_name": "Python 3",
   "language": "python",
   "name": "python3"
  },
  "language_info": {
   "codemirror_mode": {
    "name": "ipython",
    "version": 3
   },
   "file_extension": ".py",
   "mimetype": "text/x-python",
   "name": "python",
   "nbconvert_exporter": "python",
   "pygments_lexer": "ipython3",
   "version": "3.10.12"
  },
  "papermill": {
   "default_parameters": {},
   "duration": 32.707588,
   "end_time": "2024-01-30T12:38:27.512036",
   "environment_variables": {},
   "exception": null,
   "input_path": "__notebook__.ipynb",
   "output_path": "__notebook__.ipynb",
   "parameters": {},
   "start_time": "2024-01-30T12:37:54.804448",
   "version": "2.4.0"
  }
 },
 "nbformat": 4,
 "nbformat_minor": 5
}
